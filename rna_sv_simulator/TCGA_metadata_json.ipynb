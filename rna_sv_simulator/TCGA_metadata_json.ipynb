{
 "cells": [
  {
   "cell_type": "code",
   "execution_count": 1,
   "metadata": {},
   "outputs": [],
   "source": [
    "import pandas as pd\n",
    "import numpy as np\n",
    "import os\n",
    "import sys\n",
    "import re\n",
    "import matplotlib.pyplot as plt\n",
    "import seaborn as sns"
   ]
  },
  {
   "cell_type": "code",
   "execution_count": 5,
   "metadata": {},
   "outputs": [],
   "source": [
    "# pd.set_option('display.float_format', lambda x: '%.5f' % x)\n",
    "pd.set_option('display.max_rows', 250)\n",
    "pd.set_option('display.max_columns', 22)"
   ]
  },
  {
   "cell_type": "code",
   "execution_count": 2,
   "metadata": {},
   "outputs": [],
   "source": [
    "metadata_tcga = pd.read_json(\"../raw_data/NIH_GDC_DataPortal/TCGA_RNAseq_metadataprojects.2018-10-13.json\")"
   ]
  },
  {
   "cell_type": "code",
   "execution_count": 3,
   "metadata": {},
   "outputs": [
    {
     "data": {
      "text/plain": [
       "pandas.core.frame.DataFrame"
      ]
     },
     "execution_count": 3,
     "metadata": {},
     "output_type": "execute_result"
    }
   ],
   "source": [
    "type(metadata_tcga)"
   ]
  },
  {
   "cell_type": "code",
   "execution_count": 6,
   "metadata": {},
   "outputs": [
    {
     "data": {
      "text/html": [
       "<div>\n",
       "<style scoped>\n",
       "    .dataframe tbody tr th:only-of-type {\n",
       "        vertical-align: middle;\n",
       "    }\n",
       "\n",
       "    .dataframe tbody tr th {\n",
       "        vertical-align: top;\n",
       "    }\n",
       "\n",
       "    .dataframe thead th {\n",
       "        text-align: right;\n",
       "    }\n",
       "</style>\n",
       "<table border=\"1\" class=\"dataframe\">\n",
       "  <thead>\n",
       "    <tr style=\"text-align: right;\">\n",
       "      <th></th>\n",
       "      <th>disease_type</th>\n",
       "      <th>id</th>\n",
       "      <th>primary_site</th>\n",
       "      <th>program</th>\n",
       "      <th>project_id</th>\n",
       "      <th>summary</th>\n",
       "    </tr>\n",
       "  </thead>\n",
       "  <tbody>\n",
       "    <tr>\n",
       "      <th>0</th>\n",
       "      <td>[Myomatous Neoplasms, Soft Tissue Tumors and S...</td>\n",
       "      <td>TCGA-SARC</td>\n",
       "      <td>[Corpus uteri, Stomach, Other and unspecified ...</td>\n",
       "      <td>{'name': 'TCGA'}</td>\n",
       "      <td>TCGA-SARC</td>\n",
       "      <td>{'data_categories': [{'case_count': 261, 'data...</td>\n",
       "    </tr>\n",
       "    <tr>\n",
       "      <th>1</th>\n",
       "      <td>[Adenomas and Adenocarcinomas]</td>\n",
       "      <td>TCGA-ACC</td>\n",
       "      <td>[Adrenal gland]</td>\n",
       "      <td>{'name': 'TCGA'}</td>\n",
       "      <td>TCGA-ACC</td>\n",
       "      <td>{'data_categories': [{'case_count': 80, 'data_...</td>\n",
       "    </tr>\n",
       "  </tbody>\n",
       "</table>\n",
       "</div>"
      ],
      "text/plain": [
       "                                        disease_type         id  \\\n",
       "0  [Myomatous Neoplasms, Soft Tissue Tumors and S...  TCGA-SARC   \n",
       "1                     [Adenomas and Adenocarcinomas]   TCGA-ACC   \n",
       "\n",
       "                                        primary_site           program  \\\n",
       "0  [Corpus uteri, Stomach, Other and unspecified ...  {'name': 'TCGA'}   \n",
       "1                                    [Adrenal gland]  {'name': 'TCGA'}   \n",
       "\n",
       "  project_id                                            summary  \n",
       "0  TCGA-SARC  {'data_categories': [{'case_count': 261, 'data...  \n",
       "1   TCGA-ACC  {'data_categories': [{'case_count': 80, 'data_...  "
      ]
     },
     "execution_count": 6,
     "metadata": {},
     "output_type": "execute_result"
    }
   ],
   "source": [
    "metadata_tcga.head(2)"
   ]
  },
  {
   "cell_type": "code",
   "execution_count": 7,
   "metadata": {},
   "outputs": [
    {
     "data": {
      "text/plain": [
       "0     {'data_categories': [{'case_count': 261, 'data...\n",
       "1     {'data_categories': [{'case_count': 80, 'data_...\n",
       "2     {'data_categories': [{'case_count': 87, 'data_...\n",
       "3     {'data_categories': [{'case_count': 167, 'data...\n",
       "4     {'data_categories': [{'case_count': 516, 'data...\n",
       "5     {'data_categories': [{'case_count': 507, 'data...\n",
       "6     {'data_categories': [{'case_count': 166, 'data...\n",
       "7     {'data_categories': [{'case_count': 469, 'data...\n",
       "8     {'data_categories': [{'case_count': 36, 'data_...\n",
       "9     {'data_categories': [{'case_count': 534, 'data...\n",
       "10    {'data_categories': [{'case_count': 1097, 'dat...\n",
       "11    {'data_categories': [{'case_count': 492, 'data...\n",
       "12    {'data_categories': [{'case_count': 66, 'data_...\n",
       "13    {'data_categories': [{'case_count': 124, 'data...\n",
       "14    {'data_categories': [{'case_count': 504, 'data...\n",
       "15    {'data_categories': [{'case_count': 80, 'data_...\n",
       "16    {'data_categories': [{'case_count': 48, 'data_...\n",
       "17    {'data_categories': [{'case_count': 559, 'data...\n",
       "18    {'data_categories': [{'case_count': 498, 'data...\n",
       "19    {'data_categories': [{'case_count': 169, 'data...\n",
       "20    {'data_categories': [{'case_count': 439, 'data...\n",
       "21    {'data_categories': [{'case_count': 150, 'data...\n",
       "22    {'data_categories': [{'case_count': 376, 'data...\n",
       "23    {'data_categories': [{'case_count': 528, 'data...\n",
       "24    {'data_categories': [{'case_count': 459, 'data...\n",
       "25    {'data_categories': [{'case_count': 184, 'data...\n",
       "26    {'data_categories': [{'case_count': 307, 'data...\n",
       "27    {'data_categories': [{'case_count': 291, 'data...\n",
       "28    {'data_categories': [{'case_count': 519, 'data...\n",
       "29    {'data_categories': [{'case_count': 412, 'data...\n",
       "30    {'data_categories': [{'case_count': 57, 'data_...\n",
       "31    {'data_categories': [{'case_count': 179, 'data...\n",
       "32    {'data_categories': [{'case_count': 178, 'data...\n",
       "Name: summary, dtype: object"
      ]
     },
     "execution_count": 7,
     "metadata": {},
     "output_type": "execute_result"
    }
   ],
   "source": [
    "metadata_tcga['summary']"
   ]
  },
  {
   "cell_type": "code",
   "execution_count": null,
   "metadata": {},
   "outputs": [],
   "source": []
  }
 ],
 "metadata": {
  "kernelspec": {
   "display_name": "Python 3",
   "language": "python",
   "name": "python3"
  },
  "language_info": {
   "codemirror_mode": {
    "name": "ipython",
    "version": 3
   },
   "file_extension": ".py",
   "mimetype": "text/x-python",
   "name": "python",
   "nbconvert_exporter": "python",
   "pygments_lexer": "ipython3",
   "version": "3.6.5"
  }
 },
 "nbformat": 4,
 "nbformat_minor": 2
}
