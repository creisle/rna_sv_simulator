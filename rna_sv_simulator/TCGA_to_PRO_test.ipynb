{
 "cells": [
  {
   "cell_type": "code",
   "execution_count": 226,
   "metadata": {},
   "outputs": [],
   "source": [
    "import pandas as pd\n",
    "import numpy as np\n",
    "import os\n",
    "import sys\n",
    "import re\n",
    "import warnings\n",
    "warnings.filterwarnings('ignore')\n",
    "\n",
    "import matplotlib.pyplot as plt\n",
    "import seaborn as sns\n"
   ]
  },
  {
   "cell_type": "code",
   "execution_count": 9,
   "metadata": {},
   "outputs": [],
   "source": [
    "# Read cosmic/TCGA data \n",
    "cosmic_GRCh37 = pd.read_table(\"../raw_data/CosmicCompleteGeneExpression_GRCh37.tsv\")"
   ]
  },
  {
   "cell_type": "code",
   "execution_count": 10,
   "metadata": {},
   "outputs": [],
   "source": [
    "# Read GTF file \n",
    "ens69_gtf = pd.read_table(\"../raw_data/Homo_sapiens.GRCh37.69.gtf\", header = None, sep = '\\t')\n",
    "ens69_gtf.columns = ['chr', 'rna_type', 'transcript_region', 'start', 'end', '5', 'strand', '7', 'transcript_info']"
   ]
  },
  {
   "cell_type": "code",
   "execution_count": 11,
   "metadata": {},
   "outputs": [],
   "source": [
    "# SUMMARY STATISTICS \n",
    "## Non-normal distribution stats\n",
    "### Median Z \n",
    "cosmic_GRCh37_median = cosmic_GRCh37.groupby('GENE_NAME')[['GENE_NAME', 'Z_SCORE']].median()\n",
    "cosmic_GRCh37_median['GENE_NAME'] = cosmic_GRCh37_median.index\n",
    "### IQR Z\n",
    "cosmic_GRCh37_iqr = cosmic_GRCh37.groupby('GENE_NAME')[['GENE_NAME', 'Z_SCORE']].quantile([.25, .5, .75]).unstack()\n",
    "cosmic_GRCh37_iqr['GENE_NAME'] = cosmic_GRCh37_iqr.index\n",
    "cols = ['Q1', 'Q2', 'Q3', 'gene_name']\n",
    "cosmic_GRCh37_iqr.columns = cols\n",
    "cosmic_GRCh37_iqr = cosmic_GRCh37_iqr.reset_index(drop = True)\n",
    "cosmic_GRCh37_iqr['IQR'] = cosmic_GRCh37_iqr['Q3'] - cosmic_GRCh37_iqr['Q1']\n",
    "cosmic_GRCh37_iqr['lower_1.5IQR'] = cosmic_GRCh37_iqr['Q1'] - 1.5*cosmic_GRCh37_iqr['IQR']\n",
    "cosmic_GRCh37_iqr['upper_1.5IQR'] = cosmic_GRCh37_iqr['Q3'] + 1.5*cosmic_GRCh37_iqr['IQR']\n",
    "\n",
    "## Normal stats - Mean, sd, etc\n",
    "cosmic_GRCh37_summary = cosmic_GRCh37.groupby('GENE_NAME')[['GENE_NAME', 'Z_SCORE']].describe()\n",
    "cosmic_GRCh37_summary['gene_name'] = cosmic_GRCh37_summary.index\n",
    "cosmic_GRCh37_summary = cosmic_GRCh37_summary.reset_index(drop = True)\n",
    "cols= ['count', 'mean', 'std', 'min', '25%', '50%', '75%', 'max', 'gene_name']\n",
    "cosmic_GRCh37_summary.columns = cols\n",
    "\n",
    "## Join non-normal and normal stats \n",
    "cosmic_GRCh37_summary_full = pd.merge(cosmic_GRCh37_summary,cosmic_GRCh37_iqr, how = 'inner') "
   ]
  },
  {
   "cell_type": "code",
   "execution_count": 13,
   "metadata": {},
   "outputs": [],
   "source": [
    "cosmic_GRCh37_summary_full.to_csv(\"../tables_output/cosmic_GRCh37_summary_full.tsv\", sep = '\\t', index = False)"
   ]
  },
  {
   "cell_type": "code",
   "execution_count": 14,
   "metadata": {},
   "outputs": [
    {
     "data": {
      "text/plain": [
       "Index(['count', 'mean', 'std', 'min', '25%', '50%', '75%', 'max', 'gene_name',\n",
       "       'Q1', 'Q2', 'Q3', 'IQR', 'lower_1.5IQR', 'upper_1.5IQR',\n",
       "       'Q2_Z_positive'],\n",
       "      dtype='object')"
      ]
     },
     "execution_count": 14,
     "metadata": {},
     "output_type": "execute_result"
    }
   ],
   "source": [
    "cosmic_GRCh37_summary_full.columns"
   ]
  },
  {
   "cell_type": "code",
   "execution_count": 15,
   "metadata": {},
   "outputs": [],
   "source": [
    "# TRANSFORM Z_SCORE DISTRIBUTION VALUES  \n",
    "## Find minimum (most negative) value\n",
    "min_median_Z_SCORE = min(cosmic_GRCh37_summary_full['Q2'])\n",
    "## Make all median (Q2) Z_SCORE values positive \n",
    "cosmic_GRCh37_summary_full['Q2_Z_positive'] = cosmic_GRCh37_summary_full['Q2'] - (min_median_Z_SCORE)\n",
    "## Find total Q2_Z_positive (to normalize)\n",
    "total_median_Z_SCORE = sum(cosmic_GRCh37_summary_full['Q2_Z_positive'])\n",
    "\n",
    "## long_cols_pro = ['Locus', 'Transcript_ID', 'Coding', 'Length', 'Expressed Fraction', 'Expressed Number', 'Library Fraction', 'Library Number', 'Sequenced Fraction', 'Sequenced Number', 'Covered Fraction', 'Chi Square', 'Coefficient of Variation']\n"
   ]
  },
  {
   "cell_type": "code",
   "execution_count": 17,
   "metadata": {},
   "outputs": [],
   "source": [
    "# FUNCTIONS \n",
    "# Define function tidy_split()\n",
    "def tidy_split(df, column, sep=';', keep=False):\n",
    "    \"\"\"\n",
    "    Split the values of a column and expand so the new DataFrame has one split\n",
    "    value per row. Filters rows where the column is missing.\n",
    "    Params\n",
    "    ------\n",
    "    df : pandas.DataFrame\n",
    "        dataframe with the column to split and expand\n",
    "    column : str\n",
    "        the column to split and expand\n",
    "    sep : str\n",
    "        the string used to split the column's values\n",
    "    keep : bool\n",
    "        whether to retain the presplit value as it's own row\n",
    "    Returns\n",
    "    -------\n",
    "    pandas.DataFrame\n",
    "        Returns a dataframe with the same columns as `df`.\n",
    "    \"\"\"\n",
    "    indexes = list()\n",
    "    new_values = list()\n",
    "    df = df.dropna(subset=[column])\n",
    "    for i, presplit in enumerate(df[column].astype(str)):\n",
    "        values = presplit.split(sep)\n",
    "        if keep and len(values) > 1:\n",
    "            indexes.append(i)\n",
    "            new_values.append(presplit)\n",
    "        for value in values:\n",
    "            indexes.append(i)\n",
    "            new_values.append(value)\n",
    "    new_df = df.iloc[indexes, :].copy()\n",
    "    new_df[column] = new_values\n",
    "    return new_df.reset_index(drop=True)"
   ]
  },
  {
   "cell_type": "code",
   "execution_count": 19,
   "metadata": {},
   "outputs": [],
   "source": [
    "info_data = ens69_gtf['transcript_info'].str.split(';', expand=True)\n",
    "info_data = info_data.iloc[:, :7]\n",
    "info_data.columns = ['gene_id', 'transcript_id', 'exon_number', 'gene_name', \n",
    "                     'gene_biotype', 'transcript_name', 'exon_id']\n",
    "info_data = info_data.fillna('exon id \"none\"')\n",
    "info_data['exon_id'] = info_data['exon_id'].replace('', 'exon id \"none\"')\n",
    "\n",
    "# Define update_columns()\n",
    "def update_columns(data, column):\n",
    "    data[column] = data[column].map(lambda x: x.split('\"')[1])\n",
    "    return data\n",
    "    \n",
    "for i in info_data.columns:\n",
    "    info_data = update_columns(info_data, i)"
   ]
  },
  {
   "cell_type": "code",
   "execution_count": 20,
   "metadata": {},
   "outputs": [],
   "source": [
    "# PROCESS GTF FILE \n",
    "## Ens69 GTF data processing \n",
    "ens69_gtf_expand = pd.concat([ens69_gtf, info_data], axis=1)\n",
    "ens69_gtf_expand['chr'] = ens69_gtf_expand['chr'].astype(str)\n",
    "\n",
    "chromosomes_lst = ['1', '2', '3', '4', '5', '6', '7', '8', '9', \n",
    "                   '10', '11', '12', '13', '14', '15', '16', '17', \n",
    "                   '18', '19', '20', '21', 'X', 'Y']\n",
    "\n",
    "ens69_gtf_chr = ens69_gtf_expand[ens69_gtf_expand['chr'].isin(chromosomes_lst )]"
   ]
  },
  {
   "cell_type": "code",
   "execution_count": 22,
   "metadata": {},
   "outputs": [],
   "source": [
    "# Get real start and end of transcripts (not exon level)\n",
    "## START\n",
    "transcripts_min = ens69_gtf_chr.groupby(['transcript_id'])[['start']].first().drop_duplicates()\n",
    "transcripts_min = transcripts_min.dropna()\n",
    "transcripts_min['transcript_id'] = transcripts_min.index\n",
    "transcripts_min = transcripts_min.dropna()\n",
    "transcripts_min = transcripts_min.reset_index(drop = True)\n",
    "## END \n",
    "transcripts_max = ens69_gtf_chr.groupby(['transcript_id'])[['end']].max().drop_duplicates()\n",
    "transcripts_max = transcripts_max.dropna()\n",
    "transcripts_max['transcript_id'] = transcripts_max.index \n",
    "transcripts_max = transcripts_max.dropna()\n",
    "transcripts_max = transcripts_max.reset_index(drop  = True)\n",
    "\n",
    "## JOIN START-END\n",
    "transcripts_start_end = pd.merge(transcripts_min, transcripts_max, how= 'left')\n",
    "transcripts_start_end = transcripts_start_end.rename(columns={'start': 'tx_start', 'end': 'tx_end'})"
   ]
  },
  {
   "cell_type": "code",
   "execution_count": 25,
   "metadata": {},
   "outputs": [],
   "source": [
    "## SUBSET GTF \n",
    "ens69_gtf_chr_subset = ens69_gtf_chr[['chr', 'gene_name', 'strand', 'transcript_id', 'gene_id', 'gene_biotype']]"
   ]
  },
  {
   "cell_type": "code",
   "execution_count": 26,
   "metadata": {},
   "outputs": [],
   "source": [
    "## EXPAND GTF START-END DF\n",
    "transcripts_start_end_genes = pd.merge(transcripts_start_end, ens69_gtf_chr_subset, how = 'left')\n",
    "transcripts_start_end_genes = transcripts_start_end_genes.dropna()"
   ]
  },
  {
   "cell_type": "code",
   "execution_count": 34,
   "metadata": {},
   "outputs": [],
   "source": [
    "## Ensure transcript start and end are integers\n",
    "transcripts_start_end_genes['tx_end'] = transcripts_start_end_genes['tx_end'].astype(int)\n",
    "transcripts_start_end_genes['tx_start'] = transcripts_start_end_genes['tx_start'].astype(int)\n",
    "transcripts_start_end_genes['tx_len'] = transcripts_start_end_genes['tx_end'] - transcripts_start_end_genes['tx_start']"
   ]
  },
  {
   "cell_type": "code",
   "execution_count": 35,
   "metadata": {},
   "outputs": [],
   "source": [
    "\n",
    "## Sort data, reset index \n",
    "transcripts_start_end_genes = transcripts_start_end_genes.drop_duplicates()\n",
    "transcripts_start_end_genes = transcripts_start_end_genes.sort_values(['chr','tx_start',  'gene_id' , 'gene_name'])\n",
    "transcripts_start_end_genes.reset_index(inplace = True, drop = True)\n"
   ]
  },
  {
   "cell_type": "code",
   "execution_count": 36,
   "metadata": {},
   "outputs": [],
   "source": [
    "# Compute proportion of the full gene length for each transcript \n",
    "transcripts_start_end_genes['sum_tx_len'] = transcripts_start_end_genes.groupby('gene_name')['tx_len'].transform('sum')\n",
    "transcripts_start_end_genes['tx_proportion'] = transcripts_start_end_genes['tx_len'] / transcripts_start_end_genes['sum_tx_len']"
   ]
  },
  {
   "cell_type": "code",
   "execution_count": 39,
   "metadata": {},
   "outputs": [],
   "source": [
    "# Rename column expression \n",
    "cosmic_GRCh37_iqr = cosmic_GRCh37_iqr.rename(columns = {'GENE_NAME':'gene_name'})\n",
    "cosmic_GRCh37_summary_full = cosmic_GRCh37_summary_full.rename(columns = {'GENE_NAME':'gene_name'})"
   ]
  },
  {
   "cell_type": "code",
   "execution_count": 83,
   "metadata": {},
   "outputs": [],
   "source": [
    "# Create expressed fraction and expressed number columns \n",
    "## Count the number of transcripts and assume equal contribution of RNA from each transcript not accounting for length\n",
    "cosmic_GRCh37_summary_full['count_transcripts'] = cosmic_GRCh37_summary_full.groupby('gene_name')['gene_name'].transform('count')\n",
    "\n",
    "## * PRO Expressed Fraction col *\n",
    "cosmic_GRCh37_summary_full['Expressed Fraction'] = cosmic_GRCh37_summary_full['Q2_Z_positive']/(total_median_Z_SCORE) \n",
    "# Adjust for number of transcripts \n",
    "cosmic_GRCh37_summary_full['Expressed Fraction - Transcript'] = cosmic_GRCh37_summary_full['Expressed Fraction']/cosmic_GRCh37_summary_full['count_transcripts']\n",
    "\n",
    "## * PRO Expressed Number col *\n",
    "cosmic_GRCh37_summary_full['Expressed Number'] = cosmic_GRCh37_summary_full['Expressed Fraction'] * 100000\n",
    "# Adjust for number of transcripts \n",
    "cosmic_GRCh37_summary_full['Expressed Number - Transcript'] = cosmic_GRCh37_summary_full['Expressed Number']/cosmic_GRCh37_summary_full['count_transcripts']\n",
    "\n",
    "# Round to integer for Expressed Number \n",
    "cosmic_GRCh37_summary_full = cosmic_GRCh37_summary_full.round({'Expressed Number - Transcript':0})"
   ]
  },
  {
   "cell_type": "code",
   "execution_count": 84,
   "metadata": {},
   "outputs": [],
   "source": [
    "## MERGE EXPRESSION + GTF INFORMATION \n",
    "exp_gtf = pd.merge(cosmic_GRCh37_summary_full, transcripts_start_end_genes, how = 'inner')\n",
    "\n",
    "## Count the number of transcripts and assume equal contribution of RNA from each transcript not accounting for length\n",
    "exp_gtf['count_transcripts'] = exp_gtf.groupby('gene_name')['gene_name'].transform('count')\n",
    "\n",
    "## Strand system switch \n",
    "exp_gtf['strand_WC'] = pd.Series(exp_gtf['strand']).str.replace('+', 'W')\n",
    "exp_gtf['strand_WC'] = pd.Series(exp_gtf['strand']).str.replace('-', 'C')\n",
    "\n",
    "## * PRO Locus col *\n",
    "exp_gtf['Locus'] = exp_gtf['chr'].astype(str) + \":\" + exp_gtf['tx_start'].astype(str) + \"-\" + exp_gtf['tx_end'].astype(str) + exp_gtf['strand_WC'].astype(str)\n"
   ]
  },
  {
   "cell_type": "code",
   "execution_count": 85,
   "metadata": {},
   "outputs": [
    {
     "data": {
      "text/html": [
       "<div>\n",
       "<style>\n",
       "    .dataframe thead tr:only-child th {\n",
       "        text-align: right;\n",
       "    }\n",
       "\n",
       "    .dataframe thead th {\n",
       "        text-align: left;\n",
       "    }\n",
       "\n",
       "    .dataframe tbody tr th {\n",
       "        vertical-align: top;\n",
       "    }\n",
       "</style>\n",
       "<table border=\"1\" class=\"dataframe\">\n",
       "  <thead>\n",
       "    <tr style=\"text-align: right;\">\n",
       "      <th></th>\n",
       "      <th>count</th>\n",
       "      <th>mean</th>\n",
       "      <th>std</th>\n",
       "      <th>min</th>\n",
       "      <th>25%</th>\n",
       "      <th>50%</th>\n",
       "      <th>75%</th>\n",
       "      <th>max</th>\n",
       "      <th>gene_name</th>\n",
       "      <th>Q1</th>\n",
       "      <th>...</th>\n",
       "      <th>chr</th>\n",
       "      <th>strand</th>\n",
       "      <th>gene_id</th>\n",
       "      <th>gene_biotype</th>\n",
       "      <th>len</th>\n",
       "      <th>tx_len</th>\n",
       "      <th>sum_tx_len</th>\n",
       "      <th>tx_proportion</th>\n",
       "      <th>strand_WC</th>\n",
       "      <th>Locus</th>\n",
       "    </tr>\n",
       "  </thead>\n",
       "  <tbody>\n",
       "    <tr>\n",
       "      <th>0</th>\n",
       "      <td>9144.0</td>\n",
       "      <td>0.334597</td>\n",
       "      <td>25.622720</td>\n",
       "      <td>-1.570</td>\n",
       "      <td>-0.60125</td>\n",
       "      <td>-0.283</td>\n",
       "      <td>0.242</td>\n",
       "      <td>2444.419</td>\n",
       "      <td>A1BG</td>\n",
       "      <td>-0.60125</td>\n",
       "      <td>...</td>\n",
       "      <td>19</td>\n",
       "      <td>-</td>\n",
       "      <td>ENSG00000121410</td>\n",
       "      <td>protein_coding</td>\n",
       "      <td>95</td>\n",
       "      <td>95</td>\n",
       "      <td>95</td>\n",
       "      <td>1.000000</td>\n",
       "      <td>C</td>\n",
       "      <td>19:58864770-58864865C</td>\n",
       "    </tr>\n",
       "    <tr>\n",
       "      <th>1</th>\n",
       "      <td>9144.0</td>\n",
       "      <td>0.201225</td>\n",
       "      <td>6.548947</td>\n",
       "      <td>-2.224</td>\n",
       "      <td>-0.26100</td>\n",
       "      <td>-0.203</td>\n",
       "      <td>-0.096</td>\n",
       "      <td>332.616</td>\n",
       "      <td>A1CF</td>\n",
       "      <td>-0.26100</td>\n",
       "      <td>...</td>\n",
       "      <td>10</td>\n",
       "      <td>-</td>\n",
       "      <td>ENSG00000148584</td>\n",
       "      <td>protein_coding</td>\n",
       "      <td>73</td>\n",
       "      <td>73</td>\n",
       "      <td>310</td>\n",
       "      <td>0.235484</td>\n",
       "      <td>C</td>\n",
       "      <td>10:52588148-52588221C</td>\n",
       "    </tr>\n",
       "  </tbody>\n",
       "</table>\n",
       "<p>2 rows × 34 columns</p>\n",
       "</div>"
      ],
      "text/plain": [
       "    count      mean        std    min      25%    50%    75%       max  \\\n",
       "0  9144.0  0.334597  25.622720 -1.570 -0.60125 -0.283  0.242  2444.419   \n",
       "1  9144.0  0.201225   6.548947 -2.224 -0.26100 -0.203 -0.096   332.616   \n",
       "\n",
       "  gene_name       Q1          ...            chr  strand          gene_id  \\\n",
       "0      A1BG -0.60125          ...             19       -  ENSG00000121410   \n",
       "1      A1CF -0.26100          ...             10       -  ENSG00000148584   \n",
       "\n",
       "     gene_biotype  len  tx_len  sum_tx_len  tx_proportion  strand_WC  \\\n",
       "0  protein_coding   95      95          95       1.000000          C   \n",
       "1  protein_coding   73      73         310       0.235484          C   \n",
       "\n",
       "                   Locus  \n",
       "0  19:58864770-58864865C  \n",
       "1  10:52588148-52588221C  \n",
       "\n",
       "[2 rows x 34 columns]"
      ]
     },
     "execution_count": 85,
     "metadata": {},
     "output_type": "execute_result"
    }
   ],
   "source": [
    "exp_gtf.head(2)"
   ]
  },
  {
   "cell_type": "code",
   "execution_count": 86,
   "metadata": {},
   "outputs": [],
   "source": [
    "## Function to determine if transcript CDS (coding) or NC (noncoding)\n",
    "def determine_coding(x):\n",
    "    if x=='protein_coding':\n",
    "        return('CDS')\n",
    "    else:\n",
    "        return('NC')\n",
    "\n",
    "## * PRO Coding col *     \n",
    "exp_gtf['Coding'] = exp_gtf['gene_biotype'].map(determine_coding)    \n",
    "\n",
    "## * PRO Length col * \n",
    "exp_gtf['Length'] = exp_gtf['tx_end'] - exp_gtf['tx_start']\n"
   ]
  },
  {
   "cell_type": "code",
   "execution_count": 87,
   "metadata": {},
   "outputs": [],
   "source": [
    "# FINAL PRO \n",
    "PRO_final = exp_gtf[['Locus', 'transcript_id', 'Coding', 'Length', 'Expressed Fraction - Transcript', 'Expressed Number - Transcript']]"
   ]
  },
  {
   "cell_type": "code",
   "execution_count": 88,
   "metadata": {},
   "outputs": [],
   "source": [
    "## Remove all transcripts < 10 nt \n",
    "PRO_final_clean = PRO_final[PRO_final['Length'] >= 10]"
   ]
  },
  {
   "cell_type": "code",
   "execution_count": 89,
   "metadata": {},
   "outputs": [
    {
     "data": {
      "text/html": [
       "<div>\n",
       "<style>\n",
       "    .dataframe thead tr:only-child th {\n",
       "        text-align: right;\n",
       "    }\n",
       "\n",
       "    .dataframe thead th {\n",
       "        text-align: left;\n",
       "    }\n",
       "\n",
       "    .dataframe tbody tr th {\n",
       "        vertical-align: top;\n",
       "    }\n",
       "</style>\n",
       "<table border=\"1\" class=\"dataframe\">\n",
       "  <thead>\n",
       "    <tr style=\"text-align: right;\">\n",
       "      <th></th>\n",
       "      <th>Locus</th>\n",
       "      <th>transcript_id</th>\n",
       "      <th>Coding</th>\n",
       "      <th>Length</th>\n",
       "      <th>Expressed Fraction - Transcript</th>\n",
       "      <th>Expressed Number - Transcript</th>\n",
       "    </tr>\n",
       "  </thead>\n",
       "  <tbody>\n",
       "    <tr>\n",
       "      <th>0</th>\n",
       "      <td>19:58864770-58864865C</td>\n",
       "      <td>ENST00000263100</td>\n",
       "      <td>CDS</td>\n",
       "      <td>95</td>\n",
       "      <td>0.000050</td>\n",
       "      <td>5.0</td>\n",
       "    </tr>\n",
       "    <tr>\n",
       "      <th>1</th>\n",
       "      <td>10:52588148-52588221C</td>\n",
       "      <td>ENST00000493415</td>\n",
       "      <td>CDS</td>\n",
       "      <td>73</td>\n",
       "      <td>0.000055</td>\n",
       "      <td>6.0</td>\n",
       "    </tr>\n",
       "    <tr>\n",
       "      <th>2</th>\n",
       "      <td>10:52619602-52619745C</td>\n",
       "      <td>ENST00000373993</td>\n",
       "      <td>CDS</td>\n",
       "      <td>143</td>\n",
       "      <td>0.000055</td>\n",
       "      <td>6.0</td>\n",
       "    </tr>\n",
       "    <tr>\n",
       "      <th>3</th>\n",
       "      <td>10:52645341-52645435C</td>\n",
       "      <td>ENST00000282641</td>\n",
       "      <td>CDS</td>\n",
       "      <td>94</td>\n",
       "      <td>0.000055</td>\n",
       "      <td>6.0</td>\n",
       "    </tr>\n",
       "    <tr>\n",
       "      <th>4</th>\n",
       "      <td>13:101185541-101185907C</td>\n",
       "      <td>ENST00000464500</td>\n",
       "      <td>CDS</td>\n",
       "      <td>366</td>\n",
       "      <td>0.000049</td>\n",
       "      <td>5.0</td>\n",
       "    </tr>\n",
       "  </tbody>\n",
       "</table>\n",
       "</div>"
      ],
      "text/plain": [
       "                     Locus    transcript_id Coding  Length  \\\n",
       "0    19:58864770-58864865C  ENST00000263100    CDS      95   \n",
       "1    10:52588148-52588221C  ENST00000493415    CDS      73   \n",
       "2    10:52619602-52619745C  ENST00000373993    CDS     143   \n",
       "3    10:52645341-52645435C  ENST00000282641    CDS      94   \n",
       "4  13:101185541-101185907C  ENST00000464500    CDS     366   \n",
       "\n",
       "   Expressed Fraction - Transcript  Expressed Number - Transcript  \n",
       "0                         0.000050                            5.0  \n",
       "1                         0.000055                            6.0  \n",
       "2                         0.000055                            6.0  \n",
       "3                         0.000055                            6.0  \n",
       "4                         0.000049                            5.0  "
      ]
     },
     "execution_count": 89,
     "metadata": {},
     "output_type": "execute_result"
    }
   ],
   "source": [
    "PRO_final_clean.head()"
   ]
  },
  {
   "cell_type": "code",
   "execution_count": 113,
   "metadata": {},
   "outputs": [
    {
     "name": "stdout",
     "output_type": "stream",
     "text": [
      "(85524, 6)\n",
      "85524\n"
     ]
    }
   ],
   "source": [
    "print(PRO_final_clean.shape)\n",
    "print(len(PRO_final_clean['transcript_id'].unique()))"
   ]
  },
  {
   "cell_type": "code",
   "execution_count": 148,
   "metadata": {},
   "outputs": [
    {
     "data": {
      "text/html": [
       "<div>\n",
       "<style>\n",
       "    .dataframe thead tr:only-child th {\n",
       "        text-align: right;\n",
       "    }\n",
       "\n",
       "    .dataframe thead th {\n",
       "        text-align: left;\n",
       "    }\n",
       "\n",
       "    .dataframe tbody tr th {\n",
       "        vertical-align: top;\n",
       "    }\n",
       "</style>\n",
       "<table border=\"1\" class=\"dataframe\">\n",
       "  <thead>\n",
       "    <tr style=\"text-align: right;\">\n",
       "      <th></th>\n",
       "      <th>Locus</th>\n",
       "      <th>transcript_id</th>\n",
       "      <th>Coding</th>\n",
       "      <th>Length</th>\n",
       "      <th>Expressed Fraction - Transcript</th>\n",
       "      <th>Expressed Number - Transcript</th>\n",
       "    </tr>\n",
       "  </thead>\n",
       "  <tbody>\n",
       "    <tr>\n",
       "      <th>0</th>\n",
       "      <td>19:58864770-58864865C</td>\n",
       "      <td>ENST00000263100</td>\n",
       "      <td>CDS</td>\n",
       "      <td>95</td>\n",
       "      <td>0.000050</td>\n",
       "      <td>5</td>\n",
       "    </tr>\n",
       "    <tr>\n",
       "      <th>1</th>\n",
       "      <td>10:52588148-52588221C</td>\n",
       "      <td>ENST00000493415</td>\n",
       "      <td>CDS</td>\n",
       "      <td>73</td>\n",
       "      <td>0.000055</td>\n",
       "      <td>6</td>\n",
       "    </tr>\n",
       "  </tbody>\n",
       "</table>\n",
       "</div>"
      ],
      "text/plain": [
       "                   Locus    transcript_id Coding  Length  \\\n",
       "0  19:58864770-58864865C  ENST00000263100    CDS      95   \n",
       "1  10:52588148-52588221C  ENST00000493415    CDS      73   \n",
       "\n",
       "   Expressed Fraction - Transcript  Expressed Number - Transcript  \n",
       "0                         0.000050                              5  \n",
       "1                         0.000055                              6  "
      ]
     },
     "execution_count": 148,
     "metadata": {},
     "output_type": "execute_result"
    }
   ],
   "source": [
    "PRO_final_clean.head(2)"
   ]
  },
  {
   "cell_type": "code",
   "execution_count": 90,
   "metadata": {},
   "outputs": [],
   "source": [
    "PRO_final_clean['Expressed Number - Transcript'] = (PRO_final_clean['Expressed Number - Transcript']).astype(int)\n",
    "# Compute total number of molecules \n",
    "total_N_MOLECULES = sum(PRO_final_clean['Expressed Number - Transcript']).astype(int)"
   ]
  },
  {
   "cell_type": "code",
   "execution_count": 91,
   "metadata": {},
   "outputs": [
    {
     "data": {
      "text/plain": [
       "471461"
      ]
     },
     "execution_count": 91,
     "metadata": {},
     "output_type": "execute_result"
    }
   ],
   "source": [
    "total_N_MOLECULES"
   ]
  },
  {
   "cell_type": "code",
   "execution_count": 95,
   "metadata": {},
   "outputs": [
    {
     "data": {
      "text/plain": [
       "'TCGA_dataEXP_median_N_MOLECULES_471461.tsv'"
      ]
     },
     "execution_count": 95,
     "metadata": {},
     "output_type": "execute_result"
    }
   ],
   "source": [
    "pro_file_name = 'TCGA_dataEXP_median_N_MOLECULES_' + total_N_MOLECULES.astype(str) + \".tsv\"\n",
    "pro_file_name"
   ]
  },
  {
   "cell_type": "code",
   "execution_count": 96,
   "metadata": {},
   "outputs": [],
   "source": [
    "PRO_final_clean.to_csv(('../tables_output/' + pro_file_name), sep = '\\t', index = False, header = None)"
   ]
  },
  {
   "cell_type": "code",
   "execution_count": 164,
   "metadata": {},
   "outputs": [],
   "source": [
    "## SUBSET CHR12 and CHR21\n",
    "exp_gtf_chr12_chr21 = exp_gtf[exp_gtf['chr'].isin(['12', '21'])] \n",
    "PRO_final_clean_chr12_chr21 = exp_gtf_chr12_chr21[['Locus', 'transcript_id', 'Coding', 'Length', 'Expressed Fraction - Transcript', 'Expressed Number - Transcript']]\n"
   ]
  },
  {
   "cell_type": "code",
   "execution_count": 165,
   "metadata": {},
   "outputs": [
    {
     "data": {
      "text/html": [
       "<div>\n",
       "<style>\n",
       "    .dataframe thead tr:only-child th {\n",
       "        text-align: right;\n",
       "    }\n",
       "\n",
       "    .dataframe thead th {\n",
       "        text-align: left;\n",
       "    }\n",
       "\n",
       "    .dataframe tbody tr th {\n",
       "        vertical-align: top;\n",
       "    }\n",
       "</style>\n",
       "<table border=\"1\" class=\"dataframe\">\n",
       "  <thead>\n",
       "    <tr style=\"text-align: right;\">\n",
       "      <th></th>\n",
       "      <th>Locus</th>\n",
       "      <th>transcript_id</th>\n",
       "      <th>Coding</th>\n",
       "      <th>Length</th>\n",
       "      <th>Expressed Fraction - Transcript</th>\n",
       "      <th>Expressed Number - Transcript</th>\n",
       "    </tr>\n",
       "  </thead>\n",
       "  <tbody>\n",
       "    <tr>\n",
       "      <th>9</th>\n",
       "      <td>12:9221336-9221551C</td>\n",
       "      <td>ENST00000495442</td>\n",
       "      <td>CDS</td>\n",
       "      <td>215</td>\n",
       "      <td>0.000049</td>\n",
       "      <td>5.0</td>\n",
       "    </tr>\n",
       "    <tr>\n",
       "      <th>10</th>\n",
       "      <td>12:9232870-9232994C</td>\n",
       "      <td>ENST00000542567</td>\n",
       "      <td>CDS</td>\n",
       "      <td>124</td>\n",
       "      <td>0.000049</td>\n",
       "      <td>5.0</td>\n",
       "    </tr>\n",
       "    <tr>\n",
       "      <th>11</th>\n",
       "      <td>12:9242952-9243126C</td>\n",
       "      <td>ENST00000462568</td>\n",
       "      <td>CDS</td>\n",
       "      <td>174</td>\n",
       "      <td>0.000049</td>\n",
       "      <td>5.0</td>\n",
       "    </tr>\n",
       "    <tr>\n",
       "      <th>12</th>\n",
       "      <td>12:9243797-9244008C</td>\n",
       "      <td>ENST00000543436</td>\n",
       "      <td>CDS</td>\n",
       "      <td>211</td>\n",
       "      <td>0.000049</td>\n",
       "      <td>5.0</td>\n",
       "    </tr>\n",
       "    <tr>\n",
       "      <th>13</th>\n",
       "      <td>12:9254043-9254152C</td>\n",
       "      <td>ENST00000472360</td>\n",
       "      <td>CDS</td>\n",
       "      <td>109</td>\n",
       "      <td>0.000049</td>\n",
       "      <td>5.0</td>\n",
       "    </tr>\n",
       "  </tbody>\n",
       "</table>\n",
       "</div>"
      ],
      "text/plain": [
       "                  Locus    transcript_id Coding  Length  \\\n",
       "9   12:9221336-9221551C  ENST00000495442    CDS     215   \n",
       "10  12:9232870-9232994C  ENST00000542567    CDS     124   \n",
       "11  12:9242952-9243126C  ENST00000462568    CDS     174   \n",
       "12  12:9243797-9244008C  ENST00000543436    CDS     211   \n",
       "13  12:9254043-9254152C  ENST00000472360    CDS     109   \n",
       "\n",
       "    Expressed Fraction - Transcript  Expressed Number - Transcript  \n",
       "9                          0.000049                            5.0  \n",
       "10                         0.000049                            5.0  \n",
       "11                         0.000049                            5.0  \n",
       "12                         0.000049                            5.0  \n",
       "13                         0.000049                            5.0  "
      ]
     },
     "execution_count": 165,
     "metadata": {},
     "output_type": "execute_result"
    }
   ],
   "source": [
    "PRO_final_clean_chr12_chr21.head()"
   ]
  },
  {
   "cell_type": "code",
   "execution_count": 181,
   "metadata": {},
   "outputs": [],
   "source": [
    "## THEN RE-COMPUTE TOTAL READS \n",
    "total_N_MOLECULES = sum(PRO_final_clean_chr12_chr21['Expressed Number - Transcript']).astype(int)\n",
    "\n",
    "## PROPORTION\n",
    "PRO_final_clean_chr12_chr21['Expressed Fraction - Transcript'] = PRO_final_clean_chr12_chr21['Expressed Number - Transcript']/total_N_MOLECULES\n",
    "\n",
    "## INTEGER\n",
    "PRO_final_clean_chr12_chr21['Expressed Number - Transcript'] = PRO_final_clean_chr12_chr21['Expressed Number - Transcript'].astype(int)\n"
   ]
  },
  {
   "cell_type": "code",
   "execution_count": 182,
   "metadata": {},
   "outputs": [
    {
     "data": {
      "text/html": [
       "<div>\n",
       "<style>\n",
       "    .dataframe thead tr:only-child th {\n",
       "        text-align: right;\n",
       "    }\n",
       "\n",
       "    .dataframe thead th {\n",
       "        text-align: left;\n",
       "    }\n",
       "\n",
       "    .dataframe tbody tr th {\n",
       "        vertical-align: top;\n",
       "    }\n",
       "</style>\n",
       "<table border=\"1\" class=\"dataframe\">\n",
       "  <thead>\n",
       "    <tr style=\"text-align: right;\">\n",
       "      <th></th>\n",
       "      <th>Locus</th>\n",
       "      <th>transcript_id</th>\n",
       "      <th>Coding</th>\n",
       "      <th>Length</th>\n",
       "      <th>Expressed Fraction - Transcript</th>\n",
       "      <th>Expressed Number - Transcript</th>\n",
       "    </tr>\n",
       "  </thead>\n",
       "  <tbody>\n",
       "    <tr>\n",
       "      <th>9</th>\n",
       "      <td>12:9221336-9221551C</td>\n",
       "      <td>ENST00000495442</td>\n",
       "      <td>CDS</td>\n",
       "      <td>215</td>\n",
       "      <td>0.000137</td>\n",
       "      <td>5</td>\n",
       "    </tr>\n",
       "    <tr>\n",
       "      <th>10</th>\n",
       "      <td>12:9232870-9232994C</td>\n",
       "      <td>ENST00000542567</td>\n",
       "      <td>CDS</td>\n",
       "      <td>124</td>\n",
       "      <td>0.000137</td>\n",
       "      <td>5</td>\n",
       "    </tr>\n",
       "  </tbody>\n",
       "</table>\n",
       "</div>"
      ],
      "text/plain": [
       "                  Locus    transcript_id Coding  Length  \\\n",
       "9   12:9221336-9221551C  ENST00000495442    CDS     215   \n",
       "10  12:9232870-9232994C  ENST00000542567    CDS     124   \n",
       "\n",
       "    Expressed Fraction - Transcript  Expressed Number - Transcript  \n",
       "9                          0.000137                              5  \n",
       "10                         0.000137                              5  "
      ]
     },
     "execution_count": 182,
     "metadata": {},
     "output_type": "execute_result"
    }
   ],
   "source": [
    "PRO_final_clean_chr12_chr21.head(2)"
   ]
  },
  {
   "cell_type": "code",
   "execution_count": 183,
   "metadata": {},
   "outputs": [
    {
     "data": {
      "text/plain": [
       "'TCGA_dataEXP_median_N_MOLECULES_36600.tsv'"
      ]
     },
     "execution_count": 183,
     "metadata": {},
     "output_type": "execute_result"
    }
   ],
   "source": [
    "pro_file_name = 'TCGA_dataEXP_median_N_MOLECULES_' + total_N_MOLECULES.astype(str) + \".tsv\"\n",
    "pro_file_name"
   ]
  },
  {
   "cell_type": "code",
   "execution_count": 184,
   "metadata": {},
   "outputs": [],
   "source": [
    "PRO_final_clean_chr12_chr21.to_csv(('../tables_output/' + \"chr12_chr21_\" + pro_file_name), sep = '\\t', index = False, header = None)"
   ]
  },
  {
   "cell_type": "markdown",
   "metadata": {},
   "source": [
    "--- \n",
    "\n",
    "## PRO file generated by Flux simulator "
   ]
  },
  {
   "cell_type": "code",
   "execution_count": 169,
   "metadata": {},
   "outputs": [],
   "source": [
    "pro_man = pd.read_table(\"../tables_output/12_21_test.pro\", sep = '\\t', header = None)"
   ]
  },
  {
   "cell_type": "code",
   "execution_count": 170,
   "metadata": {},
   "outputs": [],
   "source": [
    "pro_man.column = ['Locus', 'transcript_id', 'Coding', 'Length', 'Expressed Fraction - Transcript', 'Expressed Number - Transcript']"
   ]
  },
  {
   "cell_type": "code",
   "execution_count": 185,
   "metadata": {},
   "outputs": [],
   "source": [
    "pro_man_v2 = pro_man[[0, 1, 2, 3, 4, 5]]\n",
    "pro_man_v2.columns = ['Locus', 'transcript_id', 'Coding', 'Length', 'Expressed Fraction - Transcript', 'Expressed Number - Transcript']"
   ]
  },
  {
   "cell_type": "code",
   "execution_count": 186,
   "metadata": {},
   "outputs": [
    {
     "data": {
      "text/html": [
       "<div>\n",
       "<style>\n",
       "    .dataframe thead tr:only-child th {\n",
       "        text-align: right;\n",
       "    }\n",
       "\n",
       "    .dataframe thead th {\n",
       "        text-align: left;\n",
       "    }\n",
       "\n",
       "    .dataframe tbody tr th {\n",
       "        vertical-align: top;\n",
       "    }\n",
       "</style>\n",
       "<table border=\"1\" class=\"dataframe\">\n",
       "  <thead>\n",
       "    <tr style=\"text-align: right;\">\n",
       "      <th></th>\n",
       "      <th>Locus</th>\n",
       "      <th>transcript_id</th>\n",
       "      <th>Coding</th>\n",
       "      <th>Length</th>\n",
       "      <th>Expressed Fraction - Transcript</th>\n",
       "      <th>Expressed Number - Transcript</th>\n",
       "    </tr>\n",
       "  </thead>\n",
       "  <tbody>\n",
       "    <tr>\n",
       "      <th>0</th>\n",
       "      <td>12:67607-69138W</td>\n",
       "      <td>ENST00000504074</td>\n",
       "      <td>NC</td>\n",
       "      <td>1187</td>\n",
       "      <td>0.000012</td>\n",
       "      <td>122</td>\n",
       "    </tr>\n",
       "    <tr>\n",
       "      <th>1</th>\n",
       "      <td>12:67607-69138W</td>\n",
       "      <td>ENST00000546223</td>\n",
       "      <td>NC</td>\n",
       "      <td>1199</td>\n",
       "      <td>0.000026</td>\n",
       "      <td>264</td>\n",
       "    </tr>\n",
       "  </tbody>\n",
       "</table>\n",
       "</div>"
      ],
      "text/plain": [
       "             Locus    transcript_id Coding  Length  \\\n",
       "0  12:67607-69138W  ENST00000504074     NC    1187   \n",
       "1  12:67607-69138W  ENST00000546223     NC    1199   \n",
       "\n",
       "   Expressed Fraction - Transcript  Expressed Number - Transcript  \n",
       "0                         0.000012                            122  \n",
       "1                         0.000026                            264  "
      ]
     },
     "execution_count": 186,
     "metadata": {},
     "output_type": "execute_result"
    }
   ],
   "source": [
    "pro_man_v2.head(2)"
   ]
  },
  {
   "cell_type": "code",
   "execution_count": 189,
   "metadata": {},
   "outputs": [],
   "source": [
    "PRO_MLT = PRO_final_clean_chr12_chr21[['transcript_id', 'Expressed Fraction - Transcript', 'Expressed Number - Transcript']]"
   ]
  },
  {
   "cell_type": "code",
   "execution_count": 190,
   "metadata": {},
   "outputs": [],
   "source": [
    "only_man = [x for x in pro_man_v2['transcript_id'].unique() if x not in PRO_MLT['transcript_id'].unique()]"
   ]
  },
  {
   "cell_type": "code",
   "execution_count": 191,
   "metadata": {},
   "outputs": [],
   "source": [
    "# Filter for only in \n",
    "ens69_gtf_only_man = pro_man_v2[pro_man_v2['transcript_id'].isin(only_man)]\n"
   ]
  },
  {
   "cell_type": "code",
   "execution_count": 193,
   "metadata": {},
   "outputs": [
    {
     "data": {
      "text/plain": [
       "(7085, 6)"
      ]
     },
     "execution_count": 193,
     "metadata": {},
     "output_type": "execute_result"
    }
   ],
   "source": [
    "ens69_gtf_only_man.shape"
   ]
  },
  {
   "cell_type": "code",
   "execution_count": 197,
   "metadata": {},
   "outputs": [],
   "source": [
    "MERGE_PRO_TCGA = pd.concat([ens69_gtf_only_man, PRO_MLT])"
   ]
  },
  {
   "cell_type": "code",
   "execution_count": 198,
   "metadata": {},
   "outputs": [
    {
     "data": {
      "text/html": [
       "<div>\n",
       "<style>\n",
       "    .dataframe thead tr:only-child th {\n",
       "        text-align: right;\n",
       "    }\n",
       "\n",
       "    .dataframe thead th {\n",
       "        text-align: left;\n",
       "    }\n",
       "\n",
       "    .dataframe tbody tr th {\n",
       "        vertical-align: top;\n",
       "    }\n",
       "</style>\n",
       "<table border=\"1\" class=\"dataframe\">\n",
       "  <thead>\n",
       "    <tr style=\"text-align: right;\">\n",
       "      <th></th>\n",
       "      <th>Coding</th>\n",
       "      <th>Expressed Fraction - Transcript</th>\n",
       "      <th>Expressed Number - Transcript</th>\n",
       "      <th>Length</th>\n",
       "      <th>Locus</th>\n",
       "      <th>transcript_id</th>\n",
       "    </tr>\n",
       "  </thead>\n",
       "  <tbody>\n",
       "    <tr>\n",
       "      <th>0</th>\n",
       "      <td>NC</td>\n",
       "      <td>0.000012</td>\n",
       "      <td>122</td>\n",
       "      <td>1187.0</td>\n",
       "      <td>12:67607-69138W</td>\n",
       "      <td>ENST00000504074</td>\n",
       "    </tr>\n",
       "    <tr>\n",
       "      <th>1</th>\n",
       "      <td>NC</td>\n",
       "      <td>0.000026</td>\n",
       "      <td>264</td>\n",
       "      <td>1199.0</td>\n",
       "      <td>12:67607-69138W</td>\n",
       "      <td>ENST00000546223</td>\n",
       "    </tr>\n",
       "  </tbody>\n",
       "</table>\n",
       "</div>"
      ],
      "text/plain": [
       "  Coding  Expressed Fraction - Transcript  Expressed Number - Transcript  \\\n",
       "0     NC                         0.000012                            122   \n",
       "1     NC                         0.000026                            264   \n",
       "\n",
       "   Length            Locus    transcript_id  \n",
       "0  1187.0  12:67607-69138W  ENST00000504074  \n",
       "1  1199.0  12:67607-69138W  ENST00000546223  "
      ]
     },
     "execution_count": 198,
     "metadata": {},
     "output_type": "execute_result"
    }
   ],
   "source": [
    "MERGE_PRO_TCGA.head(2)"
   ]
  },
  {
   "cell_type": "code",
   "execution_count": 199,
   "metadata": {},
   "outputs": [
    {
     "data": {
      "text/plain": [
       "(13584, 6)"
      ]
     },
     "execution_count": 199,
     "metadata": {},
     "output_type": "execute_result"
    }
   ],
   "source": [
    "MERGE_PRO_TCGA.shape"
   ]
  },
  {
   "cell_type": "code",
   "execution_count": 200,
   "metadata": {},
   "outputs": [],
   "source": [
    "final_PRO_TCGA = MERGE_PRO_TCGA[['Locus', 'transcript_id', 'Coding', 'Length', 'Expressed Fraction - Transcript', 'Expressed Number - Transcript']]"
   ]
  },
  {
   "cell_type": "code",
   "execution_count": 210,
   "metadata": {},
   "outputs": [],
   "source": [
    "final_PRO_TCGA = final_PRO_TCGA.drop_duplicates()"
   ]
  },
  {
   "cell_type": "code",
   "execution_count": 211,
   "metadata": {},
   "outputs": [],
   "source": [
    "total_N_MOLECULES = sum(final_PRO_TCGA['Expressed Number - Transcript'])\n",
    "\n",
    "final_PRO_TCGA['Expressed Fraction - Transcript'] = final_PRO_TCGA['Expressed Number - Transcript']/total_N_MOLECULES"
   ]
  },
  {
   "cell_type": "code",
   "execution_count": 212,
   "metadata": {},
   "outputs": [
    {
     "data": {
      "text/html": [
       "<div>\n",
       "<style>\n",
       "    .dataframe thead tr:only-child th {\n",
       "        text-align: right;\n",
       "    }\n",
       "\n",
       "    .dataframe thead th {\n",
       "        text-align: left;\n",
       "    }\n",
       "\n",
       "    .dataframe tbody tr th {\n",
       "        vertical-align: top;\n",
       "    }\n",
       "</style>\n",
       "<table border=\"1\" class=\"dataframe\">\n",
       "  <thead>\n",
       "    <tr style=\"text-align: right;\">\n",
       "      <th></th>\n",
       "      <th>Locus</th>\n",
       "      <th>transcript_id</th>\n",
       "      <th>Coding</th>\n",
       "      <th>Length</th>\n",
       "      <th>Expressed Fraction - Transcript</th>\n",
       "      <th>Expressed Number - Transcript</th>\n",
       "    </tr>\n",
       "  </thead>\n",
       "  <tbody>\n",
       "    <tr>\n",
       "      <th>0</th>\n",
       "      <td>12:67607-69138W</td>\n",
       "      <td>ENST00000504074</td>\n",
       "      <td>NC</td>\n",
       "      <td>1187.0</td>\n",
       "      <td>0.000022</td>\n",
       "      <td>122</td>\n",
       "    </tr>\n",
       "    <tr>\n",
       "      <th>1</th>\n",
       "      <td>12:67607-69138W</td>\n",
       "      <td>ENST00000546223</td>\n",
       "      <td>NC</td>\n",
       "      <td>1199.0</td>\n",
       "      <td>0.000048</td>\n",
       "      <td>264</td>\n",
       "    </tr>\n",
       "  </tbody>\n",
       "</table>\n",
       "</div>"
      ],
      "text/plain": [
       "             Locus    transcript_id Coding  Length  \\\n",
       "0  12:67607-69138W  ENST00000504074     NC  1187.0   \n",
       "1  12:67607-69138W  ENST00000546223     NC  1199.0   \n",
       "\n",
       "   Expressed Fraction - Transcript  Expressed Number - Transcript  \n",
       "0                         0.000022                            122  \n",
       "1                         0.000048                            264  "
      ]
     },
     "execution_count": 212,
     "metadata": {},
     "output_type": "execute_result"
    }
   ],
   "source": [
    "final_PRO_TCGA.head(2)"
   ]
  },
  {
   "cell_type": "code",
   "execution_count": 213,
   "metadata": {},
   "outputs": [
    {
     "data": {
      "text/plain": [
       "0.9999999999999768"
      ]
     },
     "execution_count": 213,
     "metadata": {},
     "output_type": "execute_result"
    }
   ],
   "source": [
    "sum(final_PRO_TCGA['Expressed Fraction - Transcript'])"
   ]
  },
  {
   "cell_type": "code",
   "execution_count": 228,
   "metadata": {},
   "outputs": [
    {
     "name": "stdout",
     "output_type": "stream",
     "text": [
      "539668\n"
     ]
    }
   ],
   "source": [
    "print(sum(final_PRO_TCGA['Expressed Number - Transcript']))"
   ]
  },
  {
   "cell_type": "code",
   "execution_count": 223,
   "metadata": {},
   "outputs": [],
   "source": [
    "## SMALL\n",
    "small_final_PRO_TCGA = final_PRO_TCGA\n",
    "small_final_PRO_TCGA['Expressed Number - Transcript'] = small_final_PRO_TCGA['Expressed Number - Transcript'] / 10\n",
    "small_final_PRO_TCGA['Expressed Number - Transcript'] = small_final_PRO_TCGA['Expressed Number - Transcript'].astype(int)"
   ]
  },
  {
   "cell_type": "code",
   "execution_count": 224,
   "metadata": {},
   "outputs": [
    {
     "data": {
      "text/plain": [
       "539668"
      ]
     },
     "execution_count": 224,
     "metadata": {},
     "output_type": "execute_result"
    }
   ],
   "source": [
    "total_N_MOLECULES = sum(small_final_PRO_TCGA['Expressed Number - Transcript'])\n",
    "total_N_MOLECULES"
   ]
  },
  {
   "cell_type": "code",
   "execution_count": null,
   "metadata": {},
   "outputs": [],
   "source": []
  },
  {
   "cell_type": "code",
   "execution_count": 225,
   "metadata": {},
   "outputs": [],
   "source": [
    "final_PRO_TCGA.to_csv(('../tables_output/final_PRO_TCGA_expanded_N_MOLECULES_' + total_N_MOLECULES.astype(str) + '.tsv'), sep = '\\t', index = False)"
   ]
  },
  {
   "cell_type": "code",
   "execution_count": 227,
   "metadata": {},
   "outputs": [],
   "source": [
    "small_final_PRO_TCGA.to_csv(('../tables_output/final_SMALL_PRO_TCGA_expanded_N_MOLECULES_' + total_N_MOLECULES.astype(str) + '.tsv'), sep = '\\t', index = False)"
   ]
  },
  {
   "cell_type": "markdown",
   "metadata": {},
   "source": [
    "# Compare Flux simulator reads RNA vs the input TCGA expression PRO "
   ]
  },
  {
   "cell_type": "code",
   "execution_count": 229,
   "metadata": {},
   "outputs": [],
   "source": [
    "small_final_PRO_TCGA.to_csv(('../tables_output/final_SMALL_PRO_TCGA_expanded_N_MOLECULES_' + total_N_MOLECULES.astype(str) + '.PRO'), sep = '\\t', index = False)"
   ]
  },
  {
   "cell_type": "code",
   "execution_count": null,
   "metadata": {},
   "outputs": [],
   "source": []
  },
  {
   "cell_type": "markdown",
   "metadata": {},
   "source": [
    "---"
   ]
  },
  {
   "cell_type": "code",
   "execution_count": null,
   "metadata": {},
   "outputs": [],
   "source": [
    "## Subset the GTF to only contain the same transcripts than expression data ???"
   ]
  },
  {
   "cell_type": "code",
   "execution_count": null,
   "metadata": {},
   "outputs": [],
   "source": []
  },
  {
   "cell_type": "markdown",
   "metadata": {},
   "source": [
    "---\n",
    "\n",
    "# Save expression files per chromosome"
   ]
  },
  {
   "cell_type": "code",
   "execution_count": null,
   "metadata": {},
   "outputs": [],
   "source": [
    "for one_chr in chromosomes_lst:\n",
    "    "
   ]
  }
 ],
 "metadata": {
  "kernelspec": {
   "display_name": "Python 3",
   "language": "python",
   "name": "python3"
  },
  "language_info": {
   "codemirror_mode": {
    "name": "ipython",
    "version": 3
   },
   "file_extension": ".py",
   "mimetype": "text/x-python",
   "name": "python",
   "nbconvert_exporter": "python",
   "pygments_lexer": "ipython3",
   "version": "3.6.3"
  }
 },
 "nbformat": 4,
 "nbformat_minor": 2
}
