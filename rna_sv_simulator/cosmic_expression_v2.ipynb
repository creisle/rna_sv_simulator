{
 "cells": [
  {
   "cell_type": "code",
   "execution_count": 1,
   "metadata": {},
   "outputs": [],
   "source": [
    "import pandas as pd\n",
    "import numpy as np\n",
    "import os\n",
    "import sys\n",
    "import re\n",
    "import matplotlib.pyplot as plt\n",
    "import seaborn as sns\n",
    "\n",
    "import warnings\n",
    "warnings.filterwarnings('ignore')"
   ]
  },
  {
   "cell_type": "code",
   "execution_count": 2,
   "metadata": {},
   "outputs": [],
   "source": [
    "# pd.set_option('display.float_format', lambda x: '%.5f' % x)\n",
    "pd.set_option('display.max_rows', 250)\n",
    "pd.set_option('display.max_columns', 22)"
   ]
  },
  {
   "cell_type": "code",
   "execution_count": 3,
   "metadata": {},
   "outputs": [],
   "source": [
    "# COSMIC DATA FROM TCGA + TCGA\n",
    "# cosmic_cgrh38 = pd.read_table(\"../raw_data/CosmicCompleteGeneExpression_GRCh38.tsv\")\n",
    "cosmic_cgrh37 = pd.read_table(\"../raw_data/CosmicCompleteGeneExpression_GRCh37.tsv\")\n"
   ]
  },
  {
   "cell_type": "code",
   "execution_count": null,
   "metadata": {},
   "outputs": [],
   "source": [
    "cosmic_blood_v3 = pd.read_table(\"../tables_output/blood_PRO_final_v3.PRO\", sep = '\\t')"
   ]
  },
  {
   "cell_type": "code",
   "execution_count": 6,
   "metadata": {},
   "outputs": [],
   "source": [
    "# tcga_clinical = pd.read_table(\"../raw_data/NIH_GDC_DataPortal/LAML_DLBC_clinical.cases_selection.2018-10-13/clinical.tsv\")\n",
    "# tcga_exposure = pd.read_table(\"../raw_data/NIH_GDC_DataPortal/LAML_DLBC_clinical.cases_selection.2018-10-13/exposure.tsv\")"
   ]
  },
  {
   "cell_type": "code",
   "execution_count": 11,
   "metadata": {},
   "outputs": [],
   "source": [
    "tcga_LAML_DLBC_aliquot = pd.read_table(\"../raw_data/NIH_GDC_DataPortal/LAML_DLBC_biospecimen.cases_selection.2018-10-13/aliquot.tsv\")"
   ]
  },
  {
   "cell_type": "code",
   "execution_count": 12,
   "metadata": {},
   "outputs": [],
   "source": [
    "# FLUX SIMULATOR FILES \n",
    "example_PRO = pd.read_table(\"../../flux-simulator-1.2.1/simulator-fastq-example/example.pro\", sep = \"\\t\", header = None)"
   ]
  },
  {
   "cell_type": "code",
   "execution_count": 13,
   "metadata": {},
   "outputs": [],
   "source": [
    "example_GTF = pd.read_table(\"../../flux-simulator-1.2.1/simulator-fastq-example/annotation.gtf\", sep = \"\\t\", header = None)"
   ]
  },
  {
   "cell_type": "code",
   "execution_count": 14,
   "metadata": {},
   "outputs": [],
   "source": [
    "ensembl69_gtf = pd.read_table(\"../raw_data/Homo_sapiens.GRCh37.69_subset-chr12-chr21.gtf\", header = None, sep = '\\t')"
   ]
  },
  {
   "cell_type": "code",
   "execution_count": null,
   "metadata": {},
   "outputs": [],
   "source": [
    "# ensembl69_gtf_full = pd.read_table(\"../raw_data/Homo_sapiens.GRCh37.69.gtf\", header = None, sep = '\\t')"
   ]
  },
  {
   "cell_type": "markdown",
   "metadata": {},
   "source": [
    "cosmic_blood_v3 = pd.read_table(\"../tables_output/\")"
   ]
  },
  {
   "cell_type": "code",
   "execution_count": null,
   "metadata": {},
   "outputs": [],
   "source": []
  },
  {
   "cell_type": "markdown",
   "metadata": {},
   "source": [
    "## Data exploration - Metadata "
   ]
  },
  {
   "cell_type": "code",
   "execution_count": 55,
   "metadata": {},
   "outputs": [],
   "source": [
    "# tcga_LAML_DLBC_sample = pd.read_table(\"../raw_data/NIH_GDC_DataPortal/LAML_DLBC_clinical.cases_selection.2018-10-13/clinical.tsv\")\n",
    "# tcga_LAML_DLBC_sample.head(2) # Not helpful"
   ]
  },
  {
   "cell_type": "code",
   "execution_count": 15,
   "metadata": {},
   "outputs": [
    {
     "data": {
      "text/html": [
       "<div>\n",
       "<style>\n",
       "    .dataframe thead tr:only-child th {\n",
       "        text-align: right;\n",
       "    }\n",
       "\n",
       "    .dataframe thead th {\n",
       "        text-align: left;\n",
       "    }\n",
       "\n",
       "    .dataframe tbody tr th {\n",
       "        vertical-align: top;\n",
       "    }\n",
       "</style>\n",
       "<table border=\"1\" class=\"dataframe\">\n",
       "  <thead>\n",
       "    <tr style=\"text-align: right;\">\n",
       "      <th></th>\n",
       "      <th>aliquot_id</th>\n",
       "      <th>aliquot_submitter_id</th>\n",
       "      <th>case_id</th>\n",
       "      <th>case_submitter_id</th>\n",
       "      <th>project_id</th>\n",
       "      <th>sample_id</th>\n",
       "      <th>sample_submitter_id</th>\n",
       "      <th>portion_id</th>\n",
       "      <th>portion_submitter_id</th>\n",
       "      <th>analyte_id</th>\n",
       "      <th>analyte_submitter_id</th>\n",
       "      <th>analyte_type_id</th>\n",
       "      <th>state</th>\n",
       "      <th>analyte_type</th>\n",
       "      <th>amount</th>\n",
       "      <th>concentration</th>\n",
       "      <th>source_center</th>\n",
       "    </tr>\n",
       "  </thead>\n",
       "  <tbody>\n",
       "    <tr>\n",
       "      <th>0</th>\n",
       "      <td>e4b17175-746c-47db-a509-7320119351b2</td>\n",
       "      <td>TCGA-AB-2876-11A-01W-0732-08</td>\n",
       "      <td>80017c88-e07f-4bf6-ad00-87f3e5473d6d</td>\n",
       "      <td>TCGA-AB-2876</td>\n",
       "      <td>TCGA-LAML</td>\n",
       "      <td>f1533c35-e783-46d5-ac3a-58dbfe70165b</td>\n",
       "      <td>TCGA-AB-2876-11A</td>\n",
       "      <td>b5e8e075-8fba-4351-a029-6b75841113f3</td>\n",
       "      <td>TCGA-AB-2876-11A-01</td>\n",
       "      <td>77cf51be-f73c-4885-b80c-57df7c9dae02</td>\n",
       "      <td>TCGA-AB-2876-11A-01W</td>\n",
       "      <td>--</td>\n",
       "      <td>released</td>\n",
       "      <td>--</td>\n",
       "      <td>--</td>\n",
       "      <td>--</td>\n",
       "      <td>23</td>\n",
       "    </tr>\n",
       "    <tr>\n",
       "      <th>1</th>\n",
       "      <td>f28d283b-5c4d-4528-bcd0-c8c041c52965</td>\n",
       "      <td>TCGA-AB-2876-11A-01D-0730-08</td>\n",
       "      <td>80017c88-e07f-4bf6-ad00-87f3e5473d6d</td>\n",
       "      <td>TCGA-AB-2876</td>\n",
       "      <td>TCGA-LAML</td>\n",
       "      <td>f1533c35-e783-46d5-ac3a-58dbfe70165b</td>\n",
       "      <td>TCGA-AB-2876-11A</td>\n",
       "      <td>b5e8e075-8fba-4351-a029-6b75841113f3</td>\n",
       "      <td>TCGA-AB-2876-11A-01</td>\n",
       "      <td>8a9821e1-c613-4a11-b710-57020cd06326</td>\n",
       "      <td>TCGA-AB-2876-11A-01D</td>\n",
       "      <td>--</td>\n",
       "      <td>released</td>\n",
       "      <td>--</td>\n",
       "      <td>--</td>\n",
       "      <td>--</td>\n",
       "      <td>23</td>\n",
       "    </tr>\n",
       "  </tbody>\n",
       "</table>\n",
       "</div>"
      ],
      "text/plain": [
       "                             aliquot_id          aliquot_submitter_id  \\\n",
       "0  e4b17175-746c-47db-a509-7320119351b2  TCGA-AB-2876-11A-01W-0732-08   \n",
       "1  f28d283b-5c4d-4528-bcd0-c8c041c52965  TCGA-AB-2876-11A-01D-0730-08   \n",
       "\n",
       "                                case_id case_submitter_id project_id  \\\n",
       "0  80017c88-e07f-4bf6-ad00-87f3e5473d6d      TCGA-AB-2876  TCGA-LAML   \n",
       "1  80017c88-e07f-4bf6-ad00-87f3e5473d6d      TCGA-AB-2876  TCGA-LAML   \n",
       "\n",
       "                              sample_id sample_submitter_id  \\\n",
       "0  f1533c35-e783-46d5-ac3a-58dbfe70165b    TCGA-AB-2876-11A   \n",
       "1  f1533c35-e783-46d5-ac3a-58dbfe70165b    TCGA-AB-2876-11A   \n",
       "\n",
       "                             portion_id portion_submitter_id  \\\n",
       "0  b5e8e075-8fba-4351-a029-6b75841113f3  TCGA-AB-2876-11A-01   \n",
       "1  b5e8e075-8fba-4351-a029-6b75841113f3  TCGA-AB-2876-11A-01   \n",
       "\n",
       "                             analyte_id  analyte_submitter_id analyte_type_id  \\\n",
       "0  77cf51be-f73c-4885-b80c-57df7c9dae02  TCGA-AB-2876-11A-01W              --   \n",
       "1  8a9821e1-c613-4a11-b710-57020cd06326  TCGA-AB-2876-11A-01D              --   \n",
       "\n",
       "      state analyte_type amount concentration  source_center  \n",
       "0  released           --     --            --             23  \n",
       "1  released           --     --            --             23  "
      ]
     },
     "execution_count": 15,
     "metadata": {},
     "output_type": "execute_result"
    }
   ],
   "source": [
    "tcga_LAML_DLBC_aliquot.head(2)"
   ]
  },
  {
   "cell_type": "code",
   "execution_count": 16,
   "metadata": {},
   "outputs": [
    {
     "data": {
      "text/plain": [
       "array(['TCGA-AB-2876', 'TCGA-AB-2992', 'TCGA-AB-2849'], dtype=object)"
      ]
     },
     "execution_count": 16,
     "metadata": {},
     "output_type": "execute_result"
    }
   ],
   "source": [
    "tcga_LAML_DLBC_aliquot['case_submitter_id'].unique()[0:3]"
   ]
  },
  {
   "cell_type": "markdown",
   "metadata": {},
   "source": [
    "---"
   ]
  },
  {
   "cell_type": "markdown",
   "metadata": {},
   "source": [
    "## Data exploration - PRO format (Flux simulator)"
   ]
  },
  {
   "cell_type": "code",
   "execution_count": 17,
   "metadata": {},
   "outputs": [
    {
     "data": {
      "text/html": [
       "<div>\n",
       "<style>\n",
       "    .dataframe thead tr:only-child th {\n",
       "        text-align: right;\n",
       "    }\n",
       "\n",
       "    .dataframe thead th {\n",
       "        text-align: left;\n",
       "    }\n",
       "\n",
       "    .dataframe tbody tr th {\n",
       "        vertical-align: top;\n",
       "    }\n",
       "</style>\n",
       "<table border=\"1\" class=\"dataframe\">\n",
       "  <thead>\n",
       "    <tr style=\"text-align: right;\">\n",
       "      <th></th>\n",
       "      <th>0</th>\n",
       "      <th>1</th>\n",
       "      <th>2</th>\n",
       "      <th>3</th>\n",
       "      <th>4</th>\n",
       "      <th>5</th>\n",
       "      <th>6</th>\n",
       "      <th>7</th>\n",
       "      <th>8</th>\n",
       "      <th>9</th>\n",
       "      <th>10</th>\n",
       "      <th>11</th>\n",
       "      <th>12</th>\n",
       "    </tr>\n",
       "  </thead>\n",
       "  <tbody>\n",
       "    <tr>\n",
       "      <th>0</th>\n",
       "      <td>2micron:252-1523W</td>\n",
       "      <td>R0010W</td>\n",
       "      <td>CDS</td>\n",
       "      <td>1272</td>\n",
       "      <td>0.00047</td>\n",
       "      <td>47</td>\n",
       "      <td>0.00038</td>\n",
       "      <td>159</td>\n",
       "      <td>0.00070</td>\n",
       "      <td>7</td>\n",
       "      <td>0.16588</td>\n",
       "      <td>25</td>\n",
       "      <td>1.08316</td>\n",
       "    </tr>\n",
       "    <tr>\n",
       "      <th>1</th>\n",
       "      <td>2micron:3271-3816W</td>\n",
       "      <td>R0030W</td>\n",
       "      <td>CDS</td>\n",
       "      <td>546</td>\n",
       "      <td>0.00080</td>\n",
       "      <td>80</td>\n",
       "      <td>0.00039</td>\n",
       "      <td>164</td>\n",
       "      <td>0.00040</td>\n",
       "      <td>4</td>\n",
       "      <td>0.12821</td>\n",
       "      <td>0</td>\n",
       "      <td>nan</td>\n",
       "    </tr>\n",
       "    <tr>\n",
       "      <th>2</th>\n",
       "      <td>2micron:1887-3008C</td>\n",
       "      <td>R0020C</td>\n",
       "      <td>CDS</td>\n",
       "      <td>1122</td>\n",
       "      <td>0.00074</td>\n",
       "      <td>74</td>\n",
       "      <td>0.00060</td>\n",
       "      <td>251</td>\n",
       "      <td>0.00060</td>\n",
       "      <td>6</td>\n",
       "      <td>0.15954</td>\n",
       "      <td>22</td>\n",
       "      <td>1.03826</td>\n",
       "    </tr>\n",
       "    <tr>\n",
       "      <th>3</th>\n",
       "      <td>2micron:5308-6198C</td>\n",
       "      <td>R0040C</td>\n",
       "      <td>CDS</td>\n",
       "      <td>891</td>\n",
       "      <td>0.00004</td>\n",
       "      <td>4</td>\n",
       "      <td>0.00002</td>\n",
       "      <td>9</td>\n",
       "      <td>0.00010</td>\n",
       "      <td>1</td>\n",
       "      <td>0.03928</td>\n",
       "      <td>0</td>\n",
       "      <td>nan</td>\n",
       "    </tr>\n",
       "    <tr>\n",
       "      <th>4</th>\n",
       "      <td>chrI:335-792W</td>\n",
       "      <td>YAL069W</td>\n",
       "      <td>CDS</td>\n",
       "      <td>315</td>\n",
       "      <td>0.00005</td>\n",
       "      <td>5</td>\n",
       "      <td>0.00001</td>\n",
       "      <td>3</td>\n",
       "      <td>0.00000</td>\n",
       "      <td>0</td>\n",
       "      <td>0.00000</td>\n",
       "      <td>0</td>\n",
       "      <td>nan</td>\n",
       "    </tr>\n",
       "  </tbody>\n",
       "</table>\n",
       "</div>"
      ],
      "text/plain": [
       "                   0        1    2     3       4   5       6    7       8   \\\n",
       "0   2micron:252-1523W   R0010W  CDS  1272 0.00047  47 0.00038  159 0.00070   \n",
       "1  2micron:3271-3816W   R0030W  CDS   546 0.00080  80 0.00039  164 0.00040   \n",
       "2  2micron:1887-3008C   R0020C  CDS  1122 0.00074  74 0.00060  251 0.00060   \n",
       "3  2micron:5308-6198C   R0040C  CDS   891 0.00004   4 0.00002    9 0.00010   \n",
       "4       chrI:335-792W  YAL069W  CDS   315 0.00005   5 0.00001    3 0.00000   \n",
       "\n",
       "   9       10  11      12  \n",
       "0   7 0.16588  25 1.08316  \n",
       "1   4 0.12821   0     nan  \n",
       "2   6 0.15954  22 1.03826  \n",
       "3   1 0.03928   0     nan  \n",
       "4   0 0.00000   0     nan  "
      ]
     },
     "execution_count": 17,
     "metadata": {},
     "output_type": "execute_result"
    }
   ],
   "source": [
    "example_PRO.head()"
   ]
  },
  {
   "cell_type": "code",
   "execution_count": 18,
   "metadata": {},
   "outputs": [],
   "source": [
    "cols_pro = ['Locus', 'Transcript_ID', 'Coding', 'Length', 'Expressed Fraction', 'Expressed Number', 'Library Fraction', 'Library Number', 'Sequenced Fraction', 'Sequenced Number', 'Covered Fraction', 'Chi Square', 'Coefficient of Variation']"
   ]
  },
  {
   "cell_type": "code",
   "execution_count": 19,
   "metadata": {},
   "outputs": [],
   "source": [
    "example_PRO.columns = cols_pro"
   ]
  },
  {
   "cell_type": "code",
   "execution_count": 20,
   "metadata": {},
   "outputs": [
    {
     "data": {
      "text/html": [
       "<div>\n",
       "<style>\n",
       "    .dataframe thead tr:only-child th {\n",
       "        text-align: right;\n",
       "    }\n",
       "\n",
       "    .dataframe thead th {\n",
       "        text-align: left;\n",
       "    }\n",
       "\n",
       "    .dataframe tbody tr th {\n",
       "        vertical-align: top;\n",
       "    }\n",
       "</style>\n",
       "<table border=\"1\" class=\"dataframe\">\n",
       "  <thead>\n",
       "    <tr style=\"text-align: right;\">\n",
       "      <th></th>\n",
       "      <th>Locus</th>\n",
       "      <th>Transcript_ID</th>\n",
       "      <th>Coding</th>\n",
       "      <th>Length</th>\n",
       "      <th>Expressed Fraction</th>\n",
       "      <th>Expressed Number</th>\n",
       "      <th>Library Fraction</th>\n",
       "      <th>Library Number</th>\n",
       "      <th>Sequenced Fraction</th>\n",
       "      <th>Sequenced Number</th>\n",
       "      <th>Covered Fraction</th>\n",
       "      <th>Chi Square</th>\n",
       "      <th>Coefficient of Variation</th>\n",
       "    </tr>\n",
       "  </thead>\n",
       "  <tbody>\n",
       "    <tr>\n",
       "      <th>0</th>\n",
       "      <td>2micron:252-1523W</td>\n",
       "      <td>R0010W</td>\n",
       "      <td>CDS</td>\n",
       "      <td>1272</td>\n",
       "      <td>0.00047</td>\n",
       "      <td>47</td>\n",
       "      <td>0.00038</td>\n",
       "      <td>159</td>\n",
       "      <td>0.00070</td>\n",
       "      <td>7</td>\n",
       "      <td>0.16588</td>\n",
       "      <td>25</td>\n",
       "      <td>1.08316</td>\n",
       "    </tr>\n",
       "    <tr>\n",
       "      <th>1</th>\n",
       "      <td>2micron:3271-3816W</td>\n",
       "      <td>R0030W</td>\n",
       "      <td>CDS</td>\n",
       "      <td>546</td>\n",
       "      <td>0.00080</td>\n",
       "      <td>80</td>\n",
       "      <td>0.00039</td>\n",
       "      <td>164</td>\n",
       "      <td>0.00040</td>\n",
       "      <td>4</td>\n",
       "      <td>0.12821</td>\n",
       "      <td>0</td>\n",
       "      <td>nan</td>\n",
       "    </tr>\n",
       "  </tbody>\n",
       "</table>\n",
       "</div>"
      ],
      "text/plain": [
       "                Locus Transcript_ID Coding  Length  Expressed Fraction  \\\n",
       "0   2micron:252-1523W        R0010W    CDS    1272             0.00047   \n",
       "1  2micron:3271-3816W        R0030W    CDS     546             0.00080   \n",
       "\n",
       "   Expressed Number  Library Fraction  Library Number  Sequenced Fraction  \\\n",
       "0                47           0.00038             159             0.00070   \n",
       "1                80           0.00039             164             0.00040   \n",
       "\n",
       "   Sequenced Number  Covered Fraction  Chi Square  Coefficient of Variation  \n",
       "0                 7           0.16588          25                   1.08316  \n",
       "1                 4           0.12821           0                       nan  "
      ]
     },
     "execution_count": 20,
     "metadata": {},
     "output_type": "execute_result"
    }
   ],
   "source": [
    "example_PRO.head(2)"
   ]
  },
  {
   "cell_type": "code",
   "execution_count": 21,
   "metadata": {},
   "outputs": [
    {
     "data": {
      "text/html": [
       "<div>\n",
       "<style>\n",
       "    .dataframe thead tr:only-child th {\n",
       "        text-align: right;\n",
       "    }\n",
       "\n",
       "    .dataframe thead th {\n",
       "        text-align: left;\n",
       "    }\n",
       "\n",
       "    .dataframe tbody tr th {\n",
       "        vertical-align: top;\n",
       "    }\n",
       "</style>\n",
       "<table border=\"1\" class=\"dataframe\">\n",
       "  <thead>\n",
       "    <tr style=\"text-align: right;\">\n",
       "      <th></th>\n",
       "      <th>Length</th>\n",
       "      <th>Expressed Fraction</th>\n",
       "      <th>Expressed Number</th>\n",
       "      <th>Library Fraction</th>\n",
       "      <th>Library Number</th>\n",
       "      <th>Sequenced Fraction</th>\n",
       "      <th>Sequenced Number</th>\n",
       "      <th>Covered Fraction</th>\n",
       "      <th>Chi Square</th>\n",
       "      <th>Coefficient of Variation</th>\n",
       "    </tr>\n",
       "  </thead>\n",
       "  <tbody>\n",
       "    <tr>\n",
       "      <th>count</th>\n",
       "      <td>6689.00000</td>\n",
       "      <td>6689.00000</td>\n",
       "      <td>6689.00000</td>\n",
       "      <td>6689.00000</td>\n",
       "      <td>6689.00000</td>\n",
       "      <td>6689.00000</td>\n",
       "      <td>6689.00000</td>\n",
       "      <td>6689.00000</td>\n",
       "      <td>6689.00000</td>\n",
       "      <td>342.00000</td>\n",
       "    </tr>\n",
       "    <tr>\n",
       "      <th>mean</th>\n",
       "      <td>1355.11287</td>\n",
       "      <td>0.00015</td>\n",
       "      <td>14.95096</td>\n",
       "      <td>0.00015</td>\n",
       "      <td>62.30692</td>\n",
       "      <td>0.00015</td>\n",
       "      <td>1.49155</td>\n",
       "      <td>0.02895</td>\n",
       "      <td>2.80655</td>\n",
       "      <td>1.36341</td>\n",
       "    </tr>\n",
       "    <tr>\n",
       "      <th>std</th>\n",
       "      <td>1140.56555</td>\n",
       "      <td>0.00040</td>\n",
       "      <td>39.69634</td>\n",
       "      <td>0.00049</td>\n",
       "      <td>206.13285</td>\n",
       "      <td>0.00052</td>\n",
       "      <td>5.22982</td>\n",
       "      <td>0.06404</td>\n",
       "      <td>38.91149</td>\n",
       "      <td>1.03681</td>\n",
       "    </tr>\n",
       "    <tr>\n",
       "      <th>min</th>\n",
       "      <td>51.00000</td>\n",
       "      <td>0.00002</td>\n",
       "      <td>2.00000</td>\n",
       "      <td>0.00000</td>\n",
       "      <td>0.00000</td>\n",
       "      <td>0.00000</td>\n",
       "      <td>0.00000</td>\n",
       "      <td>0.00000</td>\n",
       "      <td>0.00000</td>\n",
       "      <td>0.12093</td>\n",
       "    </tr>\n",
       "    <tr>\n",
       "      <th>25%</th>\n",
       "      <td>540.00000</td>\n",
       "      <td>0.00004</td>\n",
       "      <td>4.00000</td>\n",
       "      <td>0.00003</td>\n",
       "      <td>12.00000</td>\n",
       "      <td>0.00000</td>\n",
       "      <td>0.00000</td>\n",
       "      <td>0.00000</td>\n",
       "      <td>0.00000</td>\n",
       "      <td>0.76937</td>\n",
       "    </tr>\n",
       "    <tr>\n",
       "      <th>50%</th>\n",
       "      <td>1077.00000</td>\n",
       "      <td>0.00007</td>\n",
       "      <td>7.00000</td>\n",
       "      <td>0.00006</td>\n",
       "      <td>24.00000</td>\n",
       "      <td>0.00000</td>\n",
       "      <td>0.00000</td>\n",
       "      <td>0.00000</td>\n",
       "      <td>0.00000</td>\n",
       "      <td>1.13989</td>\n",
       "    </tr>\n",
       "    <tr>\n",
       "      <th>75%</th>\n",
       "      <td>1770.00000</td>\n",
       "      <td>0.00014</td>\n",
       "      <td>14.00000</td>\n",
       "      <td>0.00013</td>\n",
       "      <td>55.00000</td>\n",
       "      <td>0.00010</td>\n",
       "      <td>1.00000</td>\n",
       "      <td>0.03618</td>\n",
       "      <td>0.00000</td>\n",
       "      <td>1.57339</td>\n",
       "    </tr>\n",
       "    <tr>\n",
       "      <th>max</th>\n",
       "      <td>14733.00000</td>\n",
       "      <td>0.01494</td>\n",
       "      <td>1494.00000</td>\n",
       "      <td>0.01678</td>\n",
       "      <td>6992.00000</td>\n",
       "      <td>0.01794</td>\n",
       "      <td>179.00000</td>\n",
       "      <td>0.96571</td>\n",
       "      <td>1840.00000</td>\n",
       "      <td>8.74004</td>\n",
       "    </tr>\n",
       "  </tbody>\n",
       "</table>\n",
       "</div>"
      ],
      "text/plain": [
       "           Length  Expressed Fraction  Expressed Number  Library Fraction  \\\n",
       "count  6689.00000          6689.00000        6689.00000        6689.00000   \n",
       "mean   1355.11287             0.00015          14.95096           0.00015   \n",
       "std    1140.56555             0.00040          39.69634           0.00049   \n",
       "min      51.00000             0.00002           2.00000           0.00000   \n",
       "25%     540.00000             0.00004           4.00000           0.00003   \n",
       "50%    1077.00000             0.00007           7.00000           0.00006   \n",
       "75%    1770.00000             0.00014          14.00000           0.00013   \n",
       "max   14733.00000             0.01494        1494.00000           0.01678   \n",
       "\n",
       "       Library Number  Sequenced Fraction  Sequenced Number  Covered Fraction  \\\n",
       "count      6689.00000          6689.00000        6689.00000        6689.00000   \n",
       "mean         62.30692             0.00015           1.49155           0.02895   \n",
       "std         206.13285             0.00052           5.22982           0.06404   \n",
       "min           0.00000             0.00000           0.00000           0.00000   \n",
       "25%          12.00000             0.00000           0.00000           0.00000   \n",
       "50%          24.00000             0.00000           0.00000           0.00000   \n",
       "75%          55.00000             0.00010           1.00000           0.03618   \n",
       "max        6992.00000             0.01794         179.00000           0.96571   \n",
       "\n",
       "       Chi Square  Coefficient of Variation  \n",
       "count  6689.00000                 342.00000  \n",
       "mean      2.80655                   1.36341  \n",
       "std      38.91149                   1.03681  \n",
       "min       0.00000                   0.12093  \n",
       "25%       0.00000                   0.76937  \n",
       "50%       0.00000                   1.13989  \n",
       "75%       0.00000                   1.57339  \n",
       "max    1840.00000                   8.74004  "
      ]
     },
     "execution_count": 21,
     "metadata": {},
     "output_type": "execute_result"
    }
   ],
   "source": [
    "example_PRO.describe()"
   ]
  },
  {
   "cell_type": "markdown",
   "metadata": {},
   "source": [
    "## Distribution of PRO parameters"
   ]
  },
  {
   "cell_type": "markdown",
   "metadata": {},
   "source": [
    "### Expressed Fraction/Number\n",
    "\n",
    "* Expressed Fraction: fraction of RNA molecules that represent transcripts that are qualitatively equal to this RNA form\n",
    "* Expressed Number: absolute number of expressed RNA molecules"
   ]
  },
  {
   "cell_type": "code",
   "execution_count": 47,
   "metadata": {},
   "outputs": [
    {
     "data": {
      "image/png": "[encoded data removed]",
      "text/plain": [
       "<matplotlib.figure.Figure at 0x10dd9fc18>"
      ]
     },
     "metadata": {},
     "output_type": "display_data"
    }
   ],
   "source": [
    "# Expressed Fractions distribution of all genes .PRO\n",
    "sns.kdeplot(example_PRO['Expressed Fraction'])\n",
    "plt.show()"
   ]
  },
  {
   "cell_type": "code",
   "execution_count": 48,
   "metadata": {},
   "outputs": [
    {
     "data": {
      "image/png": "[encoded data removed]",
      "text/plain": [
       "<matplotlib.figure.Figure at 0x10e127748>"
      ]
     },
     "metadata": {},
     "output_type": "display_data"
    }
   ],
   "source": [
    "sns.kdeplot(example_PRO['Expressed Number'])\n",
    "plt.show()"
   ]
  },
  {
   "cell_type": "markdown",
   "metadata": {},
   "source": [
    "> The expressed fraction and expressed number have the exact same distribution, so one of a scaled version of the other one: expressed fraction = expressed number/10000"
   ]
  },
  {
   "cell_type": "markdown",
   "metadata": {},
   "source": [
    "---"
   ]
  },
  {
   "cell_type": "markdown",
   "metadata": {},
   "source": [
    "### Sequenced Fraction/Number"
   ]
  },
  {
   "cell_type": "code",
   "execution_count": 42,
   "metadata": {},
   "outputs": [
    {
     "data": {
      "image/png": "[encoded data removed]",
      "text/plain": [
       "<matplotlib.figure.Figure at 0x10dbb7630>"
      ]
     },
     "metadata": {},
     "output_type": "display_data"
    }
   ],
   "source": [
    "# Sequenced Fraction distribution of all genes .PRO\n",
    "sns.kdeplot(example_PRO['Sequenced Fraction'])\n",
    "plt.show()"
   ]
  },
  {
   "cell_type": "code",
   "execution_count": 49,
   "metadata": {},
   "outputs": [
    {
     "data": {
      "image/png": "[encoded data removed]",
      "text/plain": [
       "<matplotlib.figure.Figure at 0x10e1535c0>"
      ]
     },
     "metadata": {},
     "output_type": "display_data"
    }
   ],
   "source": [
    "# Sequenced Numbers distribution of all genes .PRO\n",
    "sns.kdeplot(example_PRO['Sequenced Number'])\n",
    "plt.show()"
   ]
  },
  {
   "cell_type": "code",
   "execution_count": 34,
   "metadata": {},
   "outputs": [
    {
     "data": {
      "text/plain": [
       "1.0"
      ]
     },
     "execution_count": 34,
     "metadata": {},
     "output_type": "execute_result"
    }
   ],
   "source": [
    "np.array(example_PRO['Sequenced Fraction']).sum()"
   ]
  },
  {
   "cell_type": "markdown",
   "metadata": {},
   "source": [
    ">  The sum of all expressed fractions = 1, so our fractions exposures sum should also be one\n",
    "> In order to start with z-score and end up with these "
   ]
  },
  {
   "cell_type": "markdown",
   "metadata": {},
   "source": [
    "### Library Fraction/Number"
   ]
  },
  {
   "cell_type": "code",
   "execution_count": 37,
   "metadata": {},
   "outputs": [
    {
     "data": {
      "image/png": "[encoded data removed]",
      "text/plain": [
       "<matplotlib.figure.Figure at 0x10c5062b0>"
      ]
     },
     "metadata": {},
     "output_type": "display_data"
    }
   ],
   "source": [
    "# Library fraction distribution of all genes .PRO\n",
    "sns.kdeplot(example_PRO['Library Fraction'])\n",
    "plt.show()"
   ]
  },
  {
   "cell_type": "code",
   "execution_count": 38,
   "metadata": {},
   "outputs": [
    {
     "data": {
      "image/png": "[encoded data removed]",
      "text/plain": [
       "<matplotlib.figure.Figure at 0x10d1a57b8>"
      ]
     },
     "metadata": {},
     "output_type": "display_data"
    }
   ],
   "source": [
    "# Library \"numbers\" distribution of all genes .PRO\n",
    "sns.kdeplot(example_PRO['Library Number'])\n",
    "plt.show()"
   ]
  },
  {
   "cell_type": "markdown",
   "metadata": {},
   "source": [
    "> Library Fraction: \"fraction of cDNA molecules in the final library that have been produced from this transcript\"\n",
    "> Library Number: The very misleading column name \"Library Number\" actually refers to the \"absolute number of cDNA fragments generated from this transcript\" "
   ]
  },
  {
   "cell_type": "code",
   "execution_count": 40,
   "metadata": {},
   "outputs": [
    {
     "name": "stdout",
     "output_type": "stream",
     "text": [
      "1.0\n",
      "416771\n"
     ]
    }
   ],
   "source": [
    "print(np.array(example_PRO['Library Fraction']).sum())\n",
    "print(np.array(example_PRO['Library Number']).sum())"
   ]
  },
  {
   "cell_type": "code",
   "execution_count": null,
   "metadata": {},
   "outputs": [],
   "source": []
  },
  {
   "cell_type": "code",
   "execution_count": null,
   "metadata": {},
   "outputs": [],
   "source": []
  },
  {
   "cell_type": "code",
   "execution_count": null,
   "metadata": {},
   "outputs": [],
   "source": []
  },
  {
   "cell_type": "code",
   "execution_count": null,
   "metadata": {},
   "outputs": [],
   "source": []
  },
  {
   "cell_type": "markdown",
   "metadata": {},
   "source": [
    "---\n",
    "## Data exploration - GTF format (Flux simulator)"
   ]
  },
  {
   "cell_type": "code",
   "execution_count": 22,
   "metadata": {},
   "outputs": [
    {
     "data": {
      "text/html": [
       "<div>\n",
       "<style>\n",
       "    .dataframe thead tr:only-child th {\n",
       "        text-align: right;\n",
       "    }\n",
       "\n",
       "    .dataframe thead th {\n",
       "        text-align: left;\n",
       "    }\n",
       "\n",
       "    .dataframe tbody tr th {\n",
       "        vertical-align: top;\n",
       "    }\n",
       "</style>\n",
       "<table border=\"1\" class=\"dataframe\">\n",
       "  <thead>\n",
       "    <tr style=\"text-align: right;\">\n",
       "      <th></th>\n",
       "      <th>0</th>\n",
       "      <th>1</th>\n",
       "      <th>2</th>\n",
       "      <th>3</th>\n",
       "      <th>4</th>\n",
       "      <th>5</th>\n",
       "      <th>6</th>\n",
       "      <th>7</th>\n",
       "      <th>8</th>\n",
       "    </tr>\n",
       "  </thead>\n",
       "  <tbody>\n",
       "    <tr>\n",
       "      <th>0</th>\n",
       "      <td>2micron</td>\n",
       "      <td>sacCer2_sgdGene</td>\n",
       "      <td>start_codon</td>\n",
       "      <td>252</td>\n",
       "      <td>254</td>\n",
       "      <td>0.00000</td>\n",
       "      <td>+</td>\n",
       "      <td>.</td>\n",
       "      <td>gene_id \"R0010W\"; transcript_id \"R0010W\";</td>\n",
       "    </tr>\n",
       "    <tr>\n",
       "      <th>1</th>\n",
       "      <td>2micron</td>\n",
       "      <td>sacCer2_sgdGene</td>\n",
       "      <td>CDS</td>\n",
       "      <td>252</td>\n",
       "      <td>1520</td>\n",
       "      <td>0.00000</td>\n",
       "      <td>+</td>\n",
       "      <td>0</td>\n",
       "      <td>gene_id \"R0010W\"; transcript_id \"R0010W\";</td>\n",
       "    </tr>\n",
       "    <tr>\n",
       "      <th>2</th>\n",
       "      <td>2micron</td>\n",
       "      <td>sacCer2_sgdGene</td>\n",
       "      <td>exon</td>\n",
       "      <td>252</td>\n",
       "      <td>1523</td>\n",
       "      <td>0.00000</td>\n",
       "      <td>+</td>\n",
       "      <td>.</td>\n",
       "      <td>gene_id \"R0010W\"; transcript_id \"R0010W\";</td>\n",
       "    </tr>\n",
       "    <tr>\n",
       "      <th>3</th>\n",
       "      <td>2micron</td>\n",
       "      <td>sacCer2_sgdGene</td>\n",
       "      <td>stop_codon</td>\n",
       "      <td>1521</td>\n",
       "      <td>1523</td>\n",
       "      <td>0.00000</td>\n",
       "      <td>+</td>\n",
       "      <td>.</td>\n",
       "      <td>gene_id \"R0010W\"; transcript_id \"R0010W\";</td>\n",
       "    </tr>\n",
       "    <tr>\n",
       "      <th>4</th>\n",
       "      <td>2micron</td>\n",
       "      <td>sacCer2_sgdGene</td>\n",
       "      <td>start_codon</td>\n",
       "      <td>3271</td>\n",
       "      <td>3273</td>\n",
       "      <td>0.00000</td>\n",
       "      <td>+</td>\n",
       "      <td>.</td>\n",
       "      <td>gene_id \"R0030W\"; transcript_id \"R0030W\";</td>\n",
       "    </tr>\n",
       "  </tbody>\n",
       "</table>\n",
       "</div>"
      ],
      "text/plain": [
       "         0                1            2     3     4       5  6  7  \\\n",
       "0  2micron  sacCer2_sgdGene  start_codon   252   254 0.00000  +  .   \n",
       "1  2micron  sacCer2_sgdGene          CDS   252  1520 0.00000  +  0   \n",
       "2  2micron  sacCer2_sgdGene         exon   252  1523 0.00000  +  .   \n",
       "3  2micron  sacCer2_sgdGene   stop_codon  1521  1523 0.00000  +  .   \n",
       "4  2micron  sacCer2_sgdGene  start_codon  3271  3273 0.00000  +  .   \n",
       "\n",
       "                                            8  \n",
       "0  gene_id \"R0010W\"; transcript_id \"R0010W\";   \n",
       "1  gene_id \"R0010W\"; transcript_id \"R0010W\";   \n",
       "2  gene_id \"R0010W\"; transcript_id \"R0010W\";   \n",
       "3  gene_id \"R0010W\"; transcript_id \"R0010W\";   \n",
       "4  gene_id \"R0030W\"; transcript_id \"R0030W\";   "
      ]
     },
     "execution_count": 22,
     "metadata": {},
     "output_type": "execute_result"
    }
   ],
   "source": [
    "example_GTF.head()"
   ]
  },
  {
   "cell_type": "code",
   "execution_count": null,
   "metadata": {},
   "outputs": [],
   "source": [
    "cols_gtf = ['seqname', 'source', 'feature', 'start', 'end', 'score', 'strand', 'frame']"
   ]
  },
  {
   "cell_type": "markdown",
   "metadata": {},
   "source": [
    "## Data exploration - TCGA"
   ]
  },
  {
   "cell_type": "code",
   "execution_count": 23,
   "metadata": {},
   "outputs": [
    {
     "data": {
      "text/html": [
       "<div>\n",
       "<style>\n",
       "    .dataframe thead tr:only-child th {\n",
       "        text-align: right;\n",
       "    }\n",
       "\n",
       "    .dataframe thead th {\n",
       "        text-align: left;\n",
       "    }\n",
       "\n",
       "    .dataframe tbody tr th {\n",
       "        vertical-align: top;\n",
       "    }\n",
       "</style>\n",
       "<table border=\"1\" class=\"dataframe\">\n",
       "  <thead>\n",
       "    <tr style=\"text-align: right;\">\n",
       "      <th></th>\n",
       "      <th>case_id</th>\n",
       "      <th>submitter_id</th>\n",
       "      <th>project_id</th>\n",
       "      <th>gender</th>\n",
       "      <th>year_of_birth</th>\n",
       "      <th>race</th>\n",
       "      <th>days_to_birth</th>\n",
       "      <th>vital_status</th>\n",
       "      <th>days_to_death</th>\n",
       "      <th>ethnicity</th>\n",
       "      <th>year_of_death</th>\n",
       "      <th>...</th>\n",
       "      <th>burkitt_lymphoma_clinical_variant</th>\n",
       "      <th>circumferential_resection_margin</th>\n",
       "      <th>ldh_normal_range_upper</th>\n",
       "      <th>ann_arbor_extranodal_involvement</th>\n",
       "      <th>lymph_nodes_positive</th>\n",
       "      <th>site_of_resection_or_biopsy</th>\n",
       "      <th>ajcc_pathologic_t</th>\n",
       "      <th>days_to_hiv_diagnosis</th>\n",
       "      <th>ajcc_clinical_stage</th>\n",
       "      <th>days_to_new_event</th>\n",
       "      <th>hiv_positive</th>\n",
       "    </tr>\n",
       "  </thead>\n",
       "  <tbody>\n",
       "    <tr>\n",
       "      <th>0</th>\n",
       "      <td>e3956736-adbc-49a2-a4a8-a6ae93b8faf3</td>\n",
       "      <td>TCGA-AB-2883</td>\n",
       "      <td>TCGA-LAML</td>\n",
       "      <td>male</td>\n",
       "      <td>1948</td>\n",
       "      <td>white</td>\n",
       "      <td>-22067</td>\n",
       "      <td>alive</td>\n",
       "      <td>--</td>\n",
       "      <td>not hispanic or latino</td>\n",
       "      <td>--</td>\n",
       "      <td>...</td>\n",
       "      <td>--</td>\n",
       "      <td>--</td>\n",
       "      <td>--</td>\n",
       "      <td>--</td>\n",
       "      <td>--</td>\n",
       "      <td>Bone marrow</td>\n",
       "      <td>--</td>\n",
       "      <td>--</td>\n",
       "      <td>--</td>\n",
       "      <td>--</td>\n",
       "      <td>--</td>\n",
       "    </tr>\n",
       "    <tr>\n",
       "      <th>1</th>\n",
       "      <td>646631ce-7a1f-4274-abb7-780b939e182f</td>\n",
       "      <td>TCGA-AB-2999</td>\n",
       "      <td>TCGA-LAML</td>\n",
       "      <td>male</td>\n",
       "      <td>1942</td>\n",
       "      <td>white</td>\n",
       "      <td>-22980</td>\n",
       "      <td>alive</td>\n",
       "      <td>--</td>\n",
       "      <td>not hispanic or latino</td>\n",
       "      <td>--</td>\n",
       "      <td>...</td>\n",
       "      <td>--</td>\n",
       "      <td>--</td>\n",
       "      <td>--</td>\n",
       "      <td>--</td>\n",
       "      <td>--</td>\n",
       "      <td>Bone marrow</td>\n",
       "      <td>--</td>\n",
       "      <td>--</td>\n",
       "      <td>--</td>\n",
       "      <td>--</td>\n",
       "      <td>--</td>\n",
       "    </tr>\n",
       "  </tbody>\n",
       "</table>\n",
       "<p>2 rows × 60 columns</p>\n",
       "</div>"
      ],
      "text/plain": [
       "                                case_id  submitter_id project_id gender  \\\n",
       "0  e3956736-adbc-49a2-a4a8-a6ae93b8faf3  TCGA-AB-2883  TCGA-LAML   male   \n",
       "1  646631ce-7a1f-4274-abb7-780b939e182f  TCGA-AB-2999  TCGA-LAML   male   \n",
       "\n",
       "   year_of_birth   race  days_to_birth vital_status days_to_death  \\\n",
       "0           1948  white         -22067        alive            --   \n",
       "1           1942  white         -22980        alive            --   \n",
       "\n",
       "                ethnicity year_of_death     ...       \\\n",
       "0  not hispanic or latino            --     ...        \n",
       "1  not hispanic or latino            --     ...        \n",
       "\n",
       "  burkitt_lymphoma_clinical_variant circumferential_resection_margin  \\\n",
       "0                                --                               --   \n",
       "1                                --                               --   \n",
       "\n",
       "  ldh_normal_range_upper ann_arbor_extranodal_involvement  \\\n",
       "0                     --                               --   \n",
       "1                     --                               --   \n",
       "\n",
       "  lymph_nodes_positive site_of_resection_or_biopsy ajcc_pathologic_t  \\\n",
       "0                   --                 Bone marrow                --   \n",
       "1                   --                 Bone marrow                --   \n",
       "\n",
       "  days_to_hiv_diagnosis ajcc_clinical_stage  days_to_new_event hiv_positive  \n",
       "0                    --                  --                 --           --  \n",
       "1                    --                  --                 --           --  \n",
       "\n",
       "[2 rows x 60 columns]"
      ]
     },
     "execution_count": 23,
     "metadata": {},
     "output_type": "execute_result"
    }
   ],
   "source": [
    "tcga_clinical.head(2)"
   ]
  },
  {
   "cell_type": "code",
   "execution_count": 24,
   "metadata": {},
   "outputs": [
    {
     "data": {
      "text/html": [
       "<div>\n",
       "<style>\n",
       "    .dataframe thead tr:only-child th {\n",
       "        text-align: right;\n",
       "    }\n",
       "\n",
       "    .dataframe thead th {\n",
       "        text-align: left;\n",
       "    }\n",
       "\n",
       "    .dataframe tbody tr th {\n",
       "        vertical-align: top;\n",
       "    }\n",
       "</style>\n",
       "<table border=\"1\" class=\"dataframe\">\n",
       "  <thead>\n",
       "    <tr style=\"text-align: right;\">\n",
       "      <th></th>\n",
       "      <th>case_id</th>\n",
       "      <th>submitter_id</th>\n",
       "      <th>project_id</th>\n",
       "      <th>gender</th>\n",
       "      <th>year_of_birth</th>\n",
       "      <th>race</th>\n",
       "      <th>days_to_birth</th>\n",
       "      <th>vital_status</th>\n",
       "      <th>days_to_death</th>\n",
       "      <th>ethnicity</th>\n",
       "      <th>year_of_death</th>\n",
       "      <th>...</th>\n",
       "      <th>burkitt_lymphoma_clinical_variant</th>\n",
       "      <th>circumferential_resection_margin</th>\n",
       "      <th>ldh_normal_range_upper</th>\n",
       "      <th>ann_arbor_extranodal_involvement</th>\n",
       "      <th>lymph_nodes_positive</th>\n",
       "      <th>site_of_resection_or_biopsy</th>\n",
       "      <th>ajcc_pathologic_t</th>\n",
       "      <th>days_to_hiv_diagnosis</th>\n",
       "      <th>ajcc_clinical_stage</th>\n",
       "      <th>days_to_new_event</th>\n",
       "      <th>hiv_positive</th>\n",
       "    </tr>\n",
       "  </thead>\n",
       "  <tbody>\n",
       "    <tr>\n",
       "      <th>0</th>\n",
       "      <td>e3956736-adbc-49a2-a4a8-a6ae93b8faf3</td>\n",
       "      <td>TCGA-AB-2883</td>\n",
       "      <td>TCGA-LAML</td>\n",
       "      <td>male</td>\n",
       "      <td>1948</td>\n",
       "      <td>white</td>\n",
       "      <td>-22067</td>\n",
       "      <td>alive</td>\n",
       "      <td>--</td>\n",
       "      <td>not hispanic or latino</td>\n",
       "      <td>--</td>\n",
       "      <td>...</td>\n",
       "      <td>--</td>\n",
       "      <td>--</td>\n",
       "      <td>--</td>\n",
       "      <td>--</td>\n",
       "      <td>--</td>\n",
       "      <td>Bone marrow</td>\n",
       "      <td>--</td>\n",
       "      <td>--</td>\n",
       "      <td>--</td>\n",
       "      <td>--</td>\n",
       "      <td>--</td>\n",
       "    </tr>\n",
       "    <tr>\n",
       "      <th>1</th>\n",
       "      <td>646631ce-7a1f-4274-abb7-780b939e182f</td>\n",
       "      <td>TCGA-AB-2999</td>\n",
       "      <td>TCGA-LAML</td>\n",
       "      <td>male</td>\n",
       "      <td>1942</td>\n",
       "      <td>white</td>\n",
       "      <td>-22980</td>\n",
       "      <td>alive</td>\n",
       "      <td>--</td>\n",
       "      <td>not hispanic or latino</td>\n",
       "      <td>--</td>\n",
       "      <td>...</td>\n",
       "      <td>--</td>\n",
       "      <td>--</td>\n",
       "      <td>--</td>\n",
       "      <td>--</td>\n",
       "      <td>--</td>\n",
       "      <td>Bone marrow</td>\n",
       "      <td>--</td>\n",
       "      <td>--</td>\n",
       "      <td>--</td>\n",
       "      <td>--</td>\n",
       "      <td>--</td>\n",
       "    </tr>\n",
       "  </tbody>\n",
       "</table>\n",
       "<p>2 rows × 60 columns</p>\n",
       "</div>"
      ],
      "text/plain": [
       "                                case_id  submitter_id project_id gender  \\\n",
       "0  e3956736-adbc-49a2-a4a8-a6ae93b8faf3  TCGA-AB-2883  TCGA-LAML   male   \n",
       "1  646631ce-7a1f-4274-abb7-780b939e182f  TCGA-AB-2999  TCGA-LAML   male   \n",
       "\n",
       "   year_of_birth   race  days_to_birth vital_status days_to_death  \\\n",
       "0           1948  white         -22067        alive            --   \n",
       "1           1942  white         -22980        alive            --   \n",
       "\n",
       "                ethnicity year_of_death     ...       \\\n",
       "0  not hispanic or latino            --     ...        \n",
       "1  not hispanic or latino            --     ...        \n",
       "\n",
       "  burkitt_lymphoma_clinical_variant circumferential_resection_margin  \\\n",
       "0                                --                               --   \n",
       "1                                --                               --   \n",
       "\n",
       "  ldh_normal_range_upper ann_arbor_extranodal_involvement  \\\n",
       "0                     --                               --   \n",
       "1                     --                               --   \n",
       "\n",
       "  lymph_nodes_positive site_of_resection_or_biopsy ajcc_pathologic_t  \\\n",
       "0                   --                 Bone marrow                --   \n",
       "1                   --                 Bone marrow                --   \n",
       "\n",
       "  days_to_hiv_diagnosis ajcc_clinical_stage  days_to_new_event hiv_positive  \n",
       "0                    --                  --                 --           --  \n",
       "1                    --                  --                 --           --  \n",
       "\n",
       "[2 rows x 60 columns]"
      ]
     },
     "execution_count": 24,
     "metadata": {},
     "output_type": "execute_result"
    }
   ],
   "source": [
    "tcga_clinical.head(2)"
   ]
  },
  {
   "cell_type": "code",
   "execution_count": null,
   "metadata": {},
   "outputs": [],
   "source": []
  },
  {
   "cell_type": "code",
   "execution_count": 22,
   "metadata": {},
   "outputs": [],
   "source": [
    "co_exp_genes_lst = ['ETV6', 'KIF13A', 'MAPK14', 'PAK1', 'SEMA4A', 'TGOLN2', 'TKT', 'WDFY3', 'RUNX1']"
   ]
  },
  {
   "cell_type": "code",
   "execution_count": 4,
   "metadata": {},
   "outputs": [
    {
     "data": {
      "text/plain": [
       "(161353200, 6)"
      ]
     },
     "execution_count": 4,
     "metadata": {},
     "output_type": "execute_result"
    }
   ],
   "source": [
    "cosmic_cgrh38.shape\n",
    "# There are 161 million lines in this aggregated dataset "
   ]
  },
  {
   "cell_type": "code",
   "execution_count": 5,
   "metadata": {},
   "outputs": [
    {
     "data": {
      "text/html": [
       "<div>\n",
       "<style>\n",
       "    .dataframe thead tr:only-child th {\n",
       "        text-align: right;\n",
       "    }\n",
       "\n",
       "    .dataframe thead th {\n",
       "        text-align: left;\n",
       "    }\n",
       "\n",
       "    .dataframe tbody tr th {\n",
       "        vertical-align: top;\n",
       "    }\n",
       "</style>\n",
       "<table border=\"1\" class=\"dataframe\">\n",
       "  <thead>\n",
       "    <tr style=\"text-align: right;\">\n",
       "      <th></th>\n",
       "      <th>SAMPLE_ID</th>\n",
       "      <th>SAMPLE_NAME</th>\n",
       "      <th>GENE_NAME</th>\n",
       "      <th>REGULATION</th>\n",
       "      <th>Z_SCORE</th>\n",
       "      <th>ID_STUDY</th>\n",
       "    </tr>\n",
       "  </thead>\n",
       "  <tbody>\n",
       "    <tr>\n",
       "      <th>0</th>\n",
       "      <td>1899661</td>\n",
       "      <td>TCGA-A7-A13F-01</td>\n",
       "      <td>ZNF282</td>\n",
       "      <td>normal</td>\n",
       "      <td>-1.023</td>\n",
       "      <td>414</td>\n",
       "    </tr>\n",
       "    <tr>\n",
       "      <th>1</th>\n",
       "      <td>2193736</td>\n",
       "      <td>TCGA-D6-A4Z9-01</td>\n",
       "      <td>MYADM</td>\n",
       "      <td>normal</td>\n",
       "      <td>-0.406</td>\n",
       "      <td>627</td>\n",
       "    </tr>\n",
       "    <tr>\n",
       "      <th>2</th>\n",
       "      <td>1900066</td>\n",
       "      <td>TCGA-D8-A1X6-01</td>\n",
       "      <td>NOP2</td>\n",
       "      <td>normal</td>\n",
       "      <td>-0.581</td>\n",
       "      <td>414</td>\n",
       "    </tr>\n",
       "    <tr>\n",
       "      <th>3</th>\n",
       "      <td>2385986</td>\n",
       "      <td>TCGA-KK-A8IM-01</td>\n",
       "      <td>LRRC8D</td>\n",
       "      <td>normal</td>\n",
       "      <td>0.380</td>\n",
       "      <td>435</td>\n",
       "    </tr>\n",
       "    <tr>\n",
       "      <th>4</th>\n",
       "      <td>2386114</td>\n",
       "      <td>TCGA-C8-A8HP-01</td>\n",
       "      <td>ZNF805</td>\n",
       "      <td>normal</td>\n",
       "      <td>1.285</td>\n",
       "      <td>414</td>\n",
       "    </tr>\n",
       "    <tr>\n",
       "      <th>5</th>\n",
       "      <td>2120520</td>\n",
       "      <td>TCGA-CJ-4893-01</td>\n",
       "      <td>LRRC8D</td>\n",
       "      <td>normal</td>\n",
       "      <td>1.467</td>\n",
       "      <td>416</td>\n",
       "    </tr>\n",
       "    <tr>\n",
       "      <th>6</th>\n",
       "      <td>1914067</td>\n",
       "      <td>TCGA-78-7163-01</td>\n",
       "      <td>NDUFA10</td>\n",
       "      <td>normal</td>\n",
       "      <td>-0.258</td>\n",
       "      <td>417</td>\n",
       "    </tr>\n",
       "    <tr>\n",
       "      <th>7</th>\n",
       "      <td>2339584</td>\n",
       "      <td>TCGA-BA-A4IG-01</td>\n",
       "      <td>AZGP1</td>\n",
       "      <td>normal</td>\n",
       "      <td>-0.345</td>\n",
       "      <td>627</td>\n",
       "    </tr>\n",
       "    <tr>\n",
       "      <th>8</th>\n",
       "      <td>2263100</td>\n",
       "      <td>TCGA-QH-A6CX-01</td>\n",
       "      <td>C9orf40</td>\n",
       "      <td>normal</td>\n",
       "      <td>0.810</td>\n",
       "      <td>545</td>\n",
       "    </tr>\n",
       "    <tr>\n",
       "      <th>9</th>\n",
       "      <td>2194173</td>\n",
       "      <td>TCGA-DB-5270-01</td>\n",
       "      <td>C9orf40</td>\n",
       "      <td>normal</td>\n",
       "      <td>0.021</td>\n",
       "      <td>545</td>\n",
       "    </tr>\n",
       "  </tbody>\n",
       "</table>\n",
       "</div>"
      ],
      "text/plain": [
       "   SAMPLE_ID      SAMPLE_NAME GENE_NAME REGULATION  Z_SCORE  ID_STUDY\n",
       "0    1899661  TCGA-A7-A13F-01    ZNF282     normal   -1.023       414\n",
       "1    2193736  TCGA-D6-A4Z9-01     MYADM     normal   -0.406       627\n",
       "2    1900066  TCGA-D8-A1X6-01      NOP2     normal   -0.581       414\n",
       "3    2385986  TCGA-KK-A8IM-01    LRRC8D     normal    0.380       435\n",
       "4    2386114  TCGA-C8-A8HP-01    ZNF805     normal    1.285       414\n",
       "5    2120520  TCGA-CJ-4893-01    LRRC8D     normal    1.467       416\n",
       "6    1914067  TCGA-78-7163-01   NDUFA10     normal   -0.258       417\n",
       "7    2339584  TCGA-BA-A4IG-01     AZGP1     normal   -0.345       627\n",
       "8    2263100  TCGA-QH-A6CX-01   C9orf40     normal    0.810       545\n",
       "9    2194173  TCGA-DB-5270-01   C9orf40     normal    0.021       545"
      ]
     },
     "execution_count": 5,
     "metadata": {},
     "output_type": "execute_result"
    }
   ],
   "source": [
    "cosmic_cgrh38.head(10)"
   ]
  },
  {
   "cell_type": "code",
   "execution_count": 42,
   "metadata": {},
   "outputs": [
    {
     "data": {
      "text/plain": [
       "17915"
      ]
     },
     "execution_count": 42,
     "metadata": {},
     "output_type": "execute_result"
    }
   ],
   "source": [
    "# Unique genes\n",
    "len(cosmic_cgrh38['GENE_NAME'].unique())"
   ]
  },
  {
   "cell_type": "markdown",
   "metadata": {},
   "source": [
    "> There is expression data on 17915 genes."
   ]
  },
  {
   "cell_type": "markdown",
   "metadata": {},
   "source": [
    "***"
   ]
  },
  {
   "cell_type": "code",
   "execution_count": 23,
   "metadata": {},
   "outputs": [],
   "source": [
    "cosmic_cgrh38_co_exp = cosmic_cgrh38[cosmic_cgrh38['GENE_NAME'].isin(co_exp_genes_lst)]"
   ]
  },
  {
   "cell_type": "code",
   "execution_count": 10,
   "metadata": {},
   "outputs": [
    {
     "name": "stdout",
     "output_type": "stream",
     "text": [
      "(64008, 6)\n"
     ]
    }
   ],
   "source": [
    "print(cosmic_cgrh38_co_exp.shape)"
   ]
  },
  {
   "cell_type": "code",
   "execution_count": 24,
   "metadata": {},
   "outputs": [],
   "source": [
    "cosmic_cgrh38_co_exp.to_csv(\"../tables_output/COSMIC_GE_GRCh38_ETV6_RUNX1_co_exp_genes.tsv\", sep = '\\t', index = False)"
   ]
  },
  {
   "cell_type": "code",
   "execution_count": 18,
   "metadata": {},
   "outputs": [
    {
     "data": {
      "text/plain": [
       "9144"
      ]
     },
     "execution_count": 18,
     "metadata": {},
     "output_type": "execute_result"
    }
   ],
   "source": [
    "len(cosmic_cgrh38_co_exp['SAMPLE_ID'].unique())"
   ]
  },
  {
   "cell_type": "code",
   "execution_count": 19,
   "metadata": {},
   "outputs": [
    {
     "data": {
      "text/plain": [
       "7"
      ]
     },
     "execution_count": 19,
     "metadata": {},
     "output_type": "execute_result"
    }
   ],
   "source": [
    "len(cosmic_cgrh38_co_exp['GENE_NAME'].unique())"
   ]
  },
  {
   "cell_type": "markdown",
   "metadata": {},
   "source": [
    "## Co-expressed genes \n",
    "\n",
    "Subset of COSMIC expression\n",
    "\n",
    "* 9144 samples \n",
    "* ETV6 + 7 co-expressed: 8 genes selected from co-expressed network from Farhabod and Pavlidis Supplementary (2018)\n",
    "* RUNX1 "
   ]
  },
  {
   "cell_type": "markdown",
   "metadata": {},
   "source": [
    "---\n",
    "\n",
    "## Subset one sample \n",
    "\n"
   ]
  },
  {
   "cell_type": "code",
   "execution_count": 28,
   "metadata": {},
   "outputs": [],
   "source": [
    "# Store sample id in variable \n",
    "one_sample = 'TCGA-A7-A13F-01'"
   ]
  },
  {
   "cell_type": "code",
   "execution_count": 29,
   "metadata": {},
   "outputs": [],
   "source": [
    "# Filter data for that one sample \n",
    "cosmic_cgrh38_1899661 = cosmic_cgrh38[cosmic_cgrh38['SAMPLE_NAME'] == one_sample]"
   ]
  },
  {
   "cell_type": "code",
   "execution_count": 34,
   "metadata": {},
   "outputs": [],
   "source": [
    "# Panda df to matrix\n",
    "cosmic_cgrh38_1899661_mx = cosmic_cgrh38_1899661.as_matrix()"
   ]
  },
  {
   "cell_type": "code",
   "execution_count": 45,
   "metadata": {},
   "outputs": [
    {
     "data": {
      "text/plain": [
       "array(['TCGA-A7-A13F-01'], dtype=object)"
      ]
     },
     "execution_count": 45,
     "metadata": {},
     "output_type": "execute_result"
    }
   ],
   "source": [
    "cosmic_cgrh38_1899661['SAMPLE_NAME'].unique()"
   ]
  },
  {
   "cell_type": "code",
   "execution_count": 40,
   "metadata": {},
   "outputs": [
    {
     "data": {
      "image/png": "[encoded data removed]",
      "text/plain": [
       "<matplotlib.figure.Figure at 0x1db9f0048>"
      ]
     },
     "metadata": {},
     "output_type": "display_data"
    }
   ],
   "source": [
    "# Plot distribution of Z-score of all genes for one sample \n",
    "sns.kdeplot(cosmic_cgrh38_1899661.Z_SCORE)\n",
    "plt.show()"
   ]
  },
  {
   "cell_type": "code",
   "execution_count": 43,
   "metadata": {},
   "outputs": [
    {
     "data": {
      "image/png": "[encoded data removed]",
      "text/plain": [
       "<matplotlib.figure.Figure at 0x10bae06d8>"
      ]
     },
     "metadata": {},
     "output_type": "display_data"
    }
   ],
   "source": [
    "# Plot distribution of Z-score of one gene\n",
    "sns.kdeplot(cosmic_cgrh38[cosmic_cgrh38['GENE_NAME']==\"ETV6\"].Z_SCORE)\n",
    "plt.show()"
   ]
  },
  {
   "cell_type": "markdown",
   "metadata": {},
   "source": [
    "## Subset LAML and DLBC\n",
    "\n",
    "Those are the only hetatological cancers from TCGA expression, and although it's not the exact same cell types, at least, it's the same organ system."
   ]
  },
  {
   "cell_type": "code",
   "execution_count": 60,
   "metadata": {},
   "outputs": [
    {
     "data": {
      "text/plain": [
       "Index(['aliquot_id', 'aliquot_submitter_id', 'case_id', 'case_submitter_id',\n",
       "       'project_id', 'sample_id', 'sample_submitter_id', 'portion_id',\n",
       "       'portion_submitter_id', 'analyte_id', 'analyte_submitter_id',\n",
       "       'analyte_type_id', 'state', 'analyte_type', 'amount', 'concentration',\n",
       "       'source_center'],\n",
       "      dtype='object')"
      ]
     },
     "execution_count": 60,
     "metadata": {},
     "output_type": "execute_result"
    }
   ],
   "source": [
    "tcga_LAML_DLBC_aliquot.columns"
   ]
  },
  {
   "cell_type": "code",
   "execution_count": 75,
   "metadata": {},
   "outputs": [],
   "source": [
    "## Create list of samples ids BLOOD \n",
    "samples_blood_lst = np.array(tcga_LAML_DLBC_aliquot['case_submitter_id']).tolist()"
   ]
  },
  {
   "cell_type": "code",
   "execution_count": 76,
   "metadata": {},
   "outputs": [
    {
     "data": {
      "text/plain": [
       "['TCGA-AB-2876', 'TCGA-AB-2876', 'TCGA-AB-2876']"
      ]
     },
     "execution_count": 76,
     "metadata": {},
     "output_type": "execute_result"
    }
   ],
   "source": [
    "samples_blood_lst[0:3]"
   ]
  },
  {
   "cell_type": "code",
   "execution_count": 74,
   "metadata": {},
   "outputs": [],
   "source": [
    "# Create list of all COSMIC/TCGA sample ids \n",
    "samples_all_lst = (cosmic_cgrh38['SAMPLE_NAME'].unique()).tolist()"
   ]
  },
  {
   "cell_type": "code",
   "execution_count": 77,
   "metadata": {},
   "outputs": [
    {
     "data": {
      "text/plain": [
       "['TCGA-A7-A13F-01', 'TCGA-D6-A4Z9-01', 'TCGA-D8-A1X6-01']"
      ]
     },
     "execution_count": 77,
     "metadata": {},
     "output_type": "execute_result"
    }
   ],
   "source": [
    "samples_all_lst[0:3]"
   ]
  },
  {
   "cell_type": "code",
   "execution_count": 88,
   "metadata": {},
   "outputs": [],
   "source": [
    "## check partial id matchs\n",
    "keep_lst = []\n",
    "for one_id in samples_blood_lst:\n",
    "    for another_id in samples_all_lst:\n",
    "        if one_id in another_id:\n",
    "            keep_lst.append(another_id)"
   ]
  },
  {
   "cell_type": "code",
   "execution_count": 90,
   "metadata": {},
   "outputs": [
    {
     "data": {
      "text/plain": [
       "['TCGA-AB-2992-03', 'TCGA-AB-2992-03']"
      ]
     },
     "execution_count": 90,
     "metadata": {},
     "output_type": "execute_result"
    }
   ],
   "source": [
    "keep_lst[0:2]"
   ]
  },
  {
   "cell_type": "code",
   "execution_count": 59,
   "metadata": {},
   "outputs": [
    {
     "data": {
      "text/plain": [
       "Index(['SAMPLE_ID', 'SAMPLE_NAME', 'GENE_NAME', 'REGULATION', 'Z_SCORE',\n",
       "       'ID_STUDY'],\n",
       "      dtype='object')"
      ]
     },
     "execution_count": 59,
     "metadata": {},
     "output_type": "execute_result"
    }
   ],
   "source": [
    "cosmic_cgrh38.columns"
   ]
  },
  {
   "cell_type": "code",
   "execution_count": null,
   "metadata": {},
   "outputs": [],
   "source": [
    "cosmic_cgrh38_blood = cosmic_cgrh38[cosmic_cgrh38['SAMPLE_NAME'].isin(keep_lst)]"
   ]
  },
  {
   "cell_type": "code",
   "execution_count": 94,
   "metadata": {},
   "outputs": [
    {
     "data": {
      "text/html": [
       "<div>\n",
       "<style>\n",
       "    .dataframe thead tr:only-child th {\n",
       "        text-align: right;\n",
       "    }\n",
       "\n",
       "    .dataframe thead th {\n",
       "        text-align: left;\n",
       "    }\n",
       "\n",
       "    .dataframe tbody tr th {\n",
       "        vertical-align: top;\n",
       "    }\n",
       "</style>\n",
       "<table border=\"1\" class=\"dataframe\">\n",
       "  <thead>\n",
       "    <tr style=\"text-align: right;\">\n",
       "      <th></th>\n",
       "      <th>SAMPLE_ID</th>\n",
       "      <th>SAMPLE_NAME</th>\n",
       "      <th>GENE_NAME</th>\n",
       "      <th>REGULATION</th>\n",
       "      <th>Z_SCORE</th>\n",
       "      <th>ID_STUDY</th>\n",
       "    </tr>\n",
       "  </thead>\n",
       "  <tbody>\n",
       "  </tbody>\n",
       "</table>\n",
       "</div>"
      ],
      "text/plain": [
       "Empty DataFrame\n",
       "Columns: [SAMPLE_ID, SAMPLE_NAME, GENE_NAME, REGULATION, Z_SCORE, ID_STUDY]\n",
       "Index: []"
      ]
     },
     "execution_count": 94,
     "metadata": {},
     "output_type": "execute_result"
    }
   ],
   "source": [
    "cosmic_cgrh38_blood.head()"
   ]
  },
  {
   "cell_type": "code",
   "execution_count": 96,
   "metadata": {},
   "outputs": [],
   "source": [
    "# cosmic_cgrh38_blood.to_csv(\"../tables_output/TCGA_COSMIC_blood_data.tsv\", sep = \"\\t\", index = True)"
   ]
  },
  {
   "cell_type": "code",
   "execution_count": 25,
   "metadata": {},
   "outputs": [],
   "source": [
    "cosmic_cgrh38_blood = pd.read_table(\"../tables_output/TCGA_COSMIC_blood_data.tsv\")"
   ]
  },
  {
   "cell_type": "code",
   "execution_count": 26,
   "metadata": {},
   "outputs": [
    {
     "data": {
      "text/plain": [
       "(3909490, 7)"
      ]
     },
     "execution_count": 26,
     "metadata": {},
     "output_type": "execute_result"
    }
   ],
   "source": [
    "cosmic_cgrh38_blood.shape"
   ]
  },
  {
   "cell_type": "code",
   "execution_count": 35,
   "metadata": {},
   "outputs": [],
   "source": [
    "cosmic_cgrh38_blood.drop(['Unnamed: 0'], axis = 1, inplace = True)"
   ]
  },
  {
   "cell_type": "code",
   "execution_count": 36,
   "metadata": {},
   "outputs": [
    {
     "data": {
      "text/html": [
       "<div>\n",
       "<style>\n",
       "    .dataframe thead tr:only-child th {\n",
       "        text-align: right;\n",
       "    }\n",
       "\n",
       "    .dataframe thead th {\n",
       "        text-align: left;\n",
       "    }\n",
       "\n",
       "    .dataframe tbody tr th {\n",
       "        vertical-align: top;\n",
       "    }\n",
       "</style>\n",
       "<table border=\"1\" class=\"dataframe\">\n",
       "  <thead>\n",
       "    <tr style=\"text-align: right;\">\n",
       "      <th></th>\n",
       "      <th>SAMPLE_ID</th>\n",
       "      <th>SAMPLE_NAME</th>\n",
       "      <th>GENE_NAME</th>\n",
       "      <th>REGULATION</th>\n",
       "      <th>Z_SCORE</th>\n",
       "      <th>ID_STUDY</th>\n",
       "    </tr>\n",
       "  </thead>\n",
       "  <tbody>\n",
       "    <tr>\n",
       "      <th>0</th>\n",
       "      <td>2269806</td>\n",
       "      <td>TCGA-RQ-A68N-01</td>\n",
       "      <td>SERPINB7</td>\n",
       "      <td>normal</td>\n",
       "      <td>-0.16300</td>\n",
       "      <td>632</td>\n",
       "    </tr>\n",
       "    <tr>\n",
       "      <th>1</th>\n",
       "      <td>1650400</td>\n",
       "      <td>TCGA-AB-2908-03</td>\n",
       "      <td>ANGPTL5</td>\n",
       "      <td>normal</td>\n",
       "      <td>1.58300</td>\n",
       "      <td>377</td>\n",
       "    </tr>\n",
       "  </tbody>\n",
       "</table>\n",
       "</div>"
      ],
      "text/plain": [
       "   SAMPLE_ID      SAMPLE_NAME GENE_NAME REGULATION  Z_SCORE  ID_STUDY\n",
       "0    2269806  TCGA-RQ-A68N-01  SERPINB7     normal -0.16300       632\n",
       "1    1650400  TCGA-AB-2908-03   ANGPTL5     normal  1.58300       377"
      ]
     },
     "execution_count": 36,
     "metadata": {},
     "output_type": "execute_result"
    }
   ],
   "source": [
    "cosmic_cgrh38_blood.head(2)"
   ]
  },
  {
   "cell_type": "code",
   "execution_count": 97,
   "metadata": {},
   "outputs": [],
   "source": [
    "# RUNX1 = cosmic_cgrh38_blood[cosmic_cgrh38_blood['GENE_NAME']== \"RUNX1\"]"
   ]
  },
  {
   "cell_type": "code",
   "execution_count": 37,
   "metadata": {},
   "outputs": [
    {
     "data": {
      "text/html": [
       "<div>\n",
       "<style>\n",
       "    .dataframe thead tr:only-child th {\n",
       "        text-align: right;\n",
       "    }\n",
       "\n",
       "    .dataframe thead th {\n",
       "        text-align: left;\n",
       "    }\n",
       "\n",
       "    .dataframe tbody tr th {\n",
       "        vertical-align: top;\n",
       "    }\n",
       "</style>\n",
       "<table border=\"1\" class=\"dataframe\">\n",
       "  <thead>\n",
       "    <tr style=\"text-align: right;\">\n",
       "      <th></th>\n",
       "      <th>SAMPLE_ID</th>\n",
       "      <th>Z_SCORE</th>\n",
       "      <th>ID_STUDY</th>\n",
       "    </tr>\n",
       "  </thead>\n",
       "  <tbody>\n",
       "    <tr>\n",
       "      <th>count</th>\n",
       "      <td>3909490.00000</td>\n",
       "      <td>3909490.00000</td>\n",
       "      <td>3909490.00000</td>\n",
       "    </tr>\n",
       "    <tr>\n",
       "      <th>mean</th>\n",
       "      <td>1818722.47964</td>\n",
       "      <td>0.05349</td>\n",
       "      <td>432.38462</td>\n",
       "    </tr>\n",
       "    <tr>\n",
       "      <th>std</th>\n",
       "      <td>277729.66047</td>\n",
       "      <td>18.28845</td>\n",
       "      <td>105.14573</td>\n",
       "    </tr>\n",
       "    <tr>\n",
       "      <th>min</th>\n",
       "      <td>1650295.00000</td>\n",
       "      <td>-6.02300</td>\n",
       "      <td>377.00000</td>\n",
       "    </tr>\n",
       "    <tr>\n",
       "      <th>25%</th>\n",
       "      <td>1650363.00000</td>\n",
       "      <td>-0.51800</td>\n",
       "      <td>377.00000</td>\n",
       "    </tr>\n",
       "    <tr>\n",
       "      <th>50%</th>\n",
       "      <td>1650440.00000</td>\n",
       "      <td>-0.19800</td>\n",
       "      <td>377.00000</td>\n",
       "    </tr>\n",
       "    <tr>\n",
       "      <th>75%</th>\n",
       "      <td>2194115.00000</td>\n",
       "      <td>0.28800</td>\n",
       "      <td>377.00000</td>\n",
       "    </tr>\n",
       "    <tr>\n",
       "      <th>max</th>\n",
       "      <td>2457244.00000</td>\n",
       "      <td>26116.98600</td>\n",
       "      <td>632.00000</td>\n",
       "    </tr>\n",
       "  </tbody>\n",
       "</table>\n",
       "</div>"
      ],
      "text/plain": [
       "          SAMPLE_ID       Z_SCORE      ID_STUDY\n",
       "count 3909490.00000 3909490.00000 3909490.00000\n",
       "mean  1818722.47964       0.05349     432.38462\n",
       "std    277729.66047      18.28845     105.14573\n",
       "min   1650295.00000      -6.02300     377.00000\n",
       "25%   1650363.00000      -0.51800     377.00000\n",
       "50%   1650440.00000      -0.19800     377.00000\n",
       "75%   2194115.00000       0.28800     377.00000\n",
       "max   2457244.00000   26116.98600     632.00000"
      ]
     },
     "execution_count": 37,
     "metadata": {},
     "output_type": "execute_result"
    }
   ],
   "source": [
    "cosmic_cgrh38_blood.describe()"
   ]
  },
  {
   "cell_type": "code",
   "execution_count": 38,
   "metadata": {},
   "outputs": [],
   "source": [
    "cosmic_cgrh38_blood_median = cosmic_cgrh38_blood.groupby(['GENE_NAME']).median()"
   ]
  },
  {
   "cell_type": "code",
   "execution_count": 39,
   "metadata": {},
   "outputs": [
    {
     "data": {
      "text/plain": [
       "(17690, 3)"
      ]
     },
     "execution_count": 39,
     "metadata": {},
     "output_type": "execute_result"
    }
   ],
   "source": [
    "cosmic_cgrh38_blood_median.shape"
   ]
  },
  {
   "cell_type": "code",
   "execution_count": 49,
   "metadata": {},
   "outputs": [
    {
     "data": {
      "text/html": [
       "<div>\n",
       "<style>\n",
       "    .dataframe thead tr:only-child th {\n",
       "        text-align: right;\n",
       "    }\n",
       "\n",
       "    .dataframe thead th {\n",
       "        text-align: left;\n",
       "    }\n",
       "\n",
       "    .dataframe tbody tr th {\n",
       "        vertical-align: top;\n",
       "    }\n",
       "</style>\n",
       "<table border=\"1\" class=\"dataframe\">\n",
       "  <thead>\n",
       "    <tr style=\"text-align: right;\">\n",
       "      <th></th>\n",
       "      <th>Z_SCORE</th>\n",
       "      <th>ID_STUDY</th>\n",
       "      <th>GENE_NAME</th>\n",
       "    </tr>\n",
       "  </thead>\n",
       "  <tbody>\n",
       "    <tr>\n",
       "      <th>0</th>\n",
       "      <td>-0.12800</td>\n",
       "      <td>377</td>\n",
       "      <td>39340</td>\n",
       "    </tr>\n",
       "    <tr>\n",
       "      <th>1</th>\n",
       "      <td>-0.24300</td>\n",
       "      <td>377</td>\n",
       "      <td>A1BG</td>\n",
       "    </tr>\n",
       "  </tbody>\n",
       "</table>\n",
       "</div>"
      ],
      "text/plain": [
       "   Z_SCORE  ID_STUDY GENE_NAME\n",
       "0 -0.12800       377     39340\n",
       "1 -0.24300       377      A1BG"
      ]
     },
     "execution_count": 49,
     "metadata": {},
     "output_type": "execute_result"
    }
   ],
   "source": [
    "cosmic_cgrh38_blood_median.head(2)"
   ]
  },
  {
   "cell_type": "code",
   "execution_count": 41,
   "metadata": {},
   "outputs": [],
   "source": [
    "# Add GENE_NAME columns back (from index)\n",
    "cosmic_cgrh38_blood_median['GENE_NAME'] = cosmic_cgrh38_blood_median.index"
   ]
  },
  {
   "cell_type": "code",
   "execution_count": 42,
   "metadata": {},
   "outputs": [],
   "source": [
    "cosmic_cgrh38_blood_median.reset_index(drop = True, inplace = True)"
   ]
  },
  {
   "cell_type": "code",
   "execution_count": 50,
   "metadata": {},
   "outputs": [],
   "source": [
    "# type(cosmic_cgrh38_blood_median)"
   ]
  },
  {
   "cell_type": "code",
   "execution_count": 44,
   "metadata": {},
   "outputs": [],
   "source": [
    "# Drop the sample_id (not relevant)\n",
    "cosmic_cgrh38_blood_median = cosmic_cgrh38_blood_median.drop(['SAMPLE_ID'], axis = 1)"
   ]
  },
  {
   "cell_type": "code",
   "execution_count": 62,
   "metadata": {},
   "outputs": [
    {
     "data": {
      "text/html": [
       "<div>\n",
       "<style>\n",
       "    .dataframe thead tr:only-child th {\n",
       "        text-align: right;\n",
       "    }\n",
       "\n",
       "    .dataframe thead th {\n",
       "        text-align: left;\n",
       "    }\n",
       "\n",
       "    .dataframe tbody tr th {\n",
       "        vertical-align: top;\n",
       "    }\n",
       "</style>\n",
       "<table border=\"1\" class=\"dataframe\">\n",
       "  <thead>\n",
       "    <tr style=\"text-align: right;\">\n",
       "      <th></th>\n",
       "      <th>Z_SCORE</th>\n",
       "      <th>ID_STUDY</th>\n",
       "      <th>GENE_NAME</th>\n",
       "    </tr>\n",
       "  </thead>\n",
       "  <tbody>\n",
       "    <tr>\n",
       "      <th>0</th>\n",
       "      <td>-0.12800</td>\n",
       "      <td>377</td>\n",
       "      <td>39340</td>\n",
       "    </tr>\n",
       "    <tr>\n",
       "      <th>1</th>\n",
       "      <td>-0.24300</td>\n",
       "      <td>377</td>\n",
       "      <td>A1BG</td>\n",
       "    </tr>\n",
       "    <tr>\n",
       "      <th>2</th>\n",
       "      <td>-0.13600</td>\n",
       "      <td>377</td>\n",
       "      <td>A1CF</td>\n",
       "    </tr>\n",
       "    <tr>\n",
       "      <th>3</th>\n",
       "      <td>-0.12400</td>\n",
       "      <td>377</td>\n",
       "      <td>A2LD1</td>\n",
       "    </tr>\n",
       "    <tr>\n",
       "      <th>4</th>\n",
       "      <td>-0.31200</td>\n",
       "      <td>377</td>\n",
       "      <td>A2M</td>\n",
       "    </tr>\n",
       "  </tbody>\n",
       "</table>\n",
       "</div>"
      ],
      "text/plain": [
       "   Z_SCORE  ID_STUDY GENE_NAME\n",
       "0 -0.12800       377     39340\n",
       "1 -0.24300       377      A1BG\n",
       "2 -0.13600       377      A1CF\n",
       "3 -0.12400       377     A2LD1\n",
       "4 -0.31200       377       A2M"
      ]
     },
     "execution_count": 62,
     "metadata": {},
     "output_type": "execute_result"
    }
   ],
   "source": [
    "cosmic_cgrh38_blood_median.head()"
   ]
  },
  {
   "cell_type": "code",
   "execution_count": 61,
   "metadata": {},
   "outputs": [],
   "source": [
    "cosmic_cgrh38_blood_median.to_csv('cosmic_cgrh38_blood_median_z.tsv', sep = '\\t', index = False)"
   ]
  },
  {
   "cell_type": "code",
   "execution_count": 52,
   "metadata": {},
   "outputs": [
    {
     "name": "stdout",
     "output_type": "stream",
     "text": [
      "1.098\n"
     ]
    }
   ],
   "source": [
    "min_Z_SCORE = cosmic_cgrh38_blood_median['Z_SCORE'].min()\n",
    "print(abs(min_Z_SCORE))"
   ]
  },
  {
   "cell_type": "code",
   "execution_count": 63,
   "metadata": {},
   "outputs": [],
   "source": [
    "## Add min negative Z-score value to ensure Z-SCORE values are positive \n",
    "cosmic_cgrh38_blood_median['Z_SCORE_positive'] = cosmic_cgrh38_blood_median['Z_SCORE'] + abs(min_Z_SCORE) "
   ]
  },
  {
   "cell_type": "code",
   "execution_count": 64,
   "metadata": {},
   "outputs": [
    {
     "data": {
      "text/plain": [
       "(17690, 4)"
      ]
     },
     "execution_count": 64,
     "metadata": {},
     "output_type": "execute_result"
    }
   ],
   "source": [
    "cosmic_cgrh38_blood_median.shape"
   ]
  },
  {
   "cell_type": "code",
   "execution_count": 65,
   "metadata": {},
   "outputs": [
    {
     "data": {
      "text/html": [
       "<div>\n",
       "<style>\n",
       "    .dataframe thead tr:only-child th {\n",
       "        text-align: right;\n",
       "    }\n",
       "\n",
       "    .dataframe thead th {\n",
       "        text-align: left;\n",
       "    }\n",
       "\n",
       "    .dataframe tbody tr th {\n",
       "        vertical-align: top;\n",
       "    }\n",
       "</style>\n",
       "<table border=\"1\" class=\"dataframe\">\n",
       "  <thead>\n",
       "    <tr style=\"text-align: right;\">\n",
       "      <th></th>\n",
       "      <th>Z_SCORE</th>\n",
       "      <th>ID_STUDY</th>\n",
       "      <th>GENE_NAME</th>\n",
       "      <th>Z_SCORE_positive</th>\n",
       "    </tr>\n",
       "  </thead>\n",
       "  <tbody>\n",
       "    <tr>\n",
       "      <th>0</th>\n",
       "      <td>-0.12800</td>\n",
       "      <td>377</td>\n",
       "      <td>39340</td>\n",
       "      <td>0.97000</td>\n",
       "    </tr>\n",
       "    <tr>\n",
       "      <th>1</th>\n",
       "      <td>-0.24300</td>\n",
       "      <td>377</td>\n",
       "      <td>A1BG</td>\n",
       "      <td>0.85500</td>\n",
       "    </tr>\n",
       "  </tbody>\n",
       "</table>\n",
       "</div>"
      ],
      "text/plain": [
       "   Z_SCORE  ID_STUDY GENE_NAME  Z_SCORE_positive\n",
       "0 -0.12800       377     39340           0.97000\n",
       "1 -0.24300       377      A1BG           0.85500"
      ]
     },
     "execution_count": 65,
     "metadata": {},
     "output_type": "execute_result"
    }
   ],
   "source": [
    "cosmic_cgrh38_blood_median.head(2)"
   ]
  },
  {
   "cell_type": "code",
   "execution_count": 125,
   "metadata": {},
   "outputs": [
    {
     "data": {
      "text/html": [
       "<div>\n",
       "<style>\n",
       "    .dataframe thead tr:only-child th {\n",
       "        text-align: right;\n",
       "    }\n",
       "\n",
       "    .dataframe thead th {\n",
       "        text-align: left;\n",
       "    }\n",
       "\n",
       "    .dataframe tbody tr th {\n",
       "        vertical-align: top;\n",
       "    }\n",
       "</style>\n",
       "<table border=\"1\" class=\"dataframe\">\n",
       "  <thead>\n",
       "    <tr style=\"text-align: right;\">\n",
       "      <th></th>\n",
       "      <th>Locus</th>\n",
       "      <th>Transcript_ID</th>\n",
       "      <th>Coding</th>\n",
       "      <th>Length</th>\n",
       "      <th>Expressed Fraction</th>\n",
       "      <th>Expressed Number</th>\n",
       "      <th>Library Fraction</th>\n",
       "      <th>Library Number</th>\n",
       "      <th>Sequenced Fraction</th>\n",
       "      <th>Sequenced Number</th>\n",
       "      <th>Covered Fraction</th>\n",
       "      <th>Chi Square</th>\n",
       "      <th>Coefficient of Variation</th>\n",
       "    </tr>\n",
       "  </thead>\n",
       "  <tbody>\n",
       "    <tr>\n",
       "      <th>0</th>\n",
       "      <td>2micron:252-1523W</td>\n",
       "      <td>R0010W</td>\n",
       "      <td>CDS</td>\n",
       "      <td>1272</td>\n",
       "      <td>0.00047</td>\n",
       "      <td>47</td>\n",
       "      <td>0.00038</td>\n",
       "      <td>159</td>\n",
       "      <td>0.00070</td>\n",
       "      <td>7</td>\n",
       "      <td>0.16588</td>\n",
       "      <td>25</td>\n",
       "      <td>1.08316</td>\n",
       "    </tr>\n",
       "    <tr>\n",
       "      <th>1</th>\n",
       "      <td>2micron:3271-3816W</td>\n",
       "      <td>R0030W</td>\n",
       "      <td>CDS</td>\n",
       "      <td>546</td>\n",
       "      <td>0.00080</td>\n",
       "      <td>80</td>\n",
       "      <td>0.00039</td>\n",
       "      <td>164</td>\n",
       "      <td>0.00040</td>\n",
       "      <td>4</td>\n",
       "      <td>0.12821</td>\n",
       "      <td>0</td>\n",
       "      <td>nan</td>\n",
       "    </tr>\n",
       "    <tr>\n",
       "      <th>2</th>\n",
       "      <td>2micron:1887-3008C</td>\n",
       "      <td>R0020C</td>\n",
       "      <td>CDS</td>\n",
       "      <td>1122</td>\n",
       "      <td>0.00074</td>\n",
       "      <td>74</td>\n",
       "      <td>0.00060</td>\n",
       "      <td>251</td>\n",
       "      <td>0.00060</td>\n",
       "      <td>6</td>\n",
       "      <td>0.15954</td>\n",
       "      <td>22</td>\n",
       "      <td>1.03826</td>\n",
       "    </tr>\n",
       "    <tr>\n",
       "      <th>3</th>\n",
       "      <td>2micron:5308-6198C</td>\n",
       "      <td>R0040C</td>\n",
       "      <td>CDS</td>\n",
       "      <td>891</td>\n",
       "      <td>0.00004</td>\n",
       "      <td>4</td>\n",
       "      <td>0.00002</td>\n",
       "      <td>9</td>\n",
       "      <td>0.00010</td>\n",
       "      <td>1</td>\n",
       "      <td>0.03928</td>\n",
       "      <td>0</td>\n",
       "      <td>nan</td>\n",
       "    </tr>\n",
       "    <tr>\n",
       "      <th>4</th>\n",
       "      <td>chrI:335-792W</td>\n",
       "      <td>YAL069W</td>\n",
       "      <td>CDS</td>\n",
       "      <td>315</td>\n",
       "      <td>0.00005</td>\n",
       "      <td>5</td>\n",
       "      <td>0.00001</td>\n",
       "      <td>3</td>\n",
       "      <td>0.00000</td>\n",
       "      <td>0</td>\n",
       "      <td>0.00000</td>\n",
       "      <td>0</td>\n",
       "      <td>nan</td>\n",
       "    </tr>\n",
       "  </tbody>\n",
       "</table>\n",
       "</div>"
      ],
      "text/plain": [
       "                Locus Transcript_ID Coding  Length  Expressed Fraction  \\\n",
       "0   2micron:252-1523W        R0010W    CDS    1272             0.00047   \n",
       "1  2micron:3271-3816W        R0030W    CDS     546             0.00080   \n",
       "2  2micron:1887-3008C        R0020C    CDS    1122             0.00074   \n",
       "3  2micron:5308-6198C        R0040C    CDS     891             0.00004   \n",
       "4       chrI:335-792W       YAL069W    CDS     315             0.00005   \n",
       "\n",
       "   Expressed Number  Library Fraction  Library Number  Sequenced Fraction  \\\n",
       "0                47           0.00038             159             0.00070   \n",
       "1                80           0.00039             164             0.00040   \n",
       "2                74           0.00060             251             0.00060   \n",
       "3                 4           0.00002               9             0.00010   \n",
       "4                 5           0.00001               3             0.00000   \n",
       "\n",
       "   Sequenced Number  Covered Fraction  Chi Square  Coefficient of Variation  \n",
       "0                 7           0.16588          25                   1.08316  \n",
       "1                 4           0.12821           0                       nan  \n",
       "2                 6           0.15954          22                   1.03826  \n",
       "3                 1           0.03928           0                       nan  \n",
       "4                 0           0.00000           0                       nan  "
      ]
     },
     "execution_count": 125,
     "metadata": {},
     "output_type": "execute_result"
    }
   ],
   "source": [
    "## Scale the distribution of scores to match the .PRO file \n",
    "### Look at .PRO format again\n",
    "example_PRO.head(5)"
   ]
  },
  {
   "cell_type": "code",
   "execution_count": 66,
   "metadata": {},
   "outputs": [],
   "source": [
    "# Store Z-score RNAseq distribution to PRO df to modify \n",
    "blood_PRO = cosmic_cgrh38_blood_median"
   ]
  },
  {
   "cell_type": "code",
   "execution_count": 67,
   "metadata": {},
   "outputs": [
    {
     "data": {
      "text/html": [
       "<div>\n",
       "<style>\n",
       "    .dataframe thead tr:only-child th {\n",
       "        text-align: right;\n",
       "    }\n",
       "\n",
       "    .dataframe thead th {\n",
       "        text-align: left;\n",
       "    }\n",
       "\n",
       "    .dataframe tbody tr th {\n",
       "        vertical-align: top;\n",
       "    }\n",
       "</style>\n",
       "<table border=\"1\" class=\"dataframe\">\n",
       "  <thead>\n",
       "    <tr style=\"text-align: right;\">\n",
       "      <th></th>\n",
       "      <th>Z_SCORE</th>\n",
       "      <th>ID_STUDY</th>\n",
       "      <th>GENE_NAME</th>\n",
       "      <th>Z_SCORE_positive</th>\n",
       "    </tr>\n",
       "  </thead>\n",
       "  <tbody>\n",
       "    <tr>\n",
       "      <th>0</th>\n",
       "      <td>-0.12800</td>\n",
       "      <td>377</td>\n",
       "      <td>39340</td>\n",
       "      <td>0.97000</td>\n",
       "    </tr>\n",
       "    <tr>\n",
       "      <th>1</th>\n",
       "      <td>-0.24300</td>\n",
       "      <td>377</td>\n",
       "      <td>A1BG</td>\n",
       "      <td>0.85500</td>\n",
       "    </tr>\n",
       "  </tbody>\n",
       "</table>\n",
       "</div>"
      ],
      "text/plain": [
       "   Z_SCORE  ID_STUDY GENE_NAME  Z_SCORE_positive\n",
       "0 -0.12800       377     39340           0.97000\n",
       "1 -0.24300       377      A1BG           0.85500"
      ]
     },
     "execution_count": 67,
     "metadata": {},
     "output_type": "execute_result"
    }
   ],
   "source": [
    "blood_PRO.head(2)"
   ]
  },
  {
   "cell_type": "code",
   "execution_count": 267,
   "metadata": {},
   "outputs": [],
   "source": [
    "# No need "
   ]
  },
  {
   "cell_type": "code",
   "execution_count": 68,
   "metadata": {},
   "outputs": [
    {
     "name": "stdout",
     "output_type": "stream",
     "text": [
      "15894.22\n"
     ]
    }
   ],
   "source": [
    "# Store sum of Z-score as a normalizing variable for later\n",
    "total_Z_SCORE = sum(np.array(cosmic_cgrh38_blood_median['Z_SCORE_positive']))\n",
    "print(total_Z_SCORE)"
   ]
  },
  {
   "cell_type": "code",
   "execution_count": 69,
   "metadata": {},
   "outputs": [],
   "source": [
    "# Add column for Expressed Fraction, which will be  \n",
    "blood_PRO['Expressed Fraction'] = blood_PRO['Z_SCORE_positive']/(total_Z_SCORE) "
   ]
  },
  {
   "cell_type": "code",
   "execution_count": 70,
   "metadata": {},
   "outputs": [
    {
     "data": {
      "image/png": "[encoded data removed]",
      "text/plain": [
       "<matplotlib.figure.Figure at 0x1a54364b00>"
      ]
     },
     "metadata": {},
     "output_type": "display_data"
    }
   ],
   "source": [
    "## COMPARE Z_SCORE and Expressed Fraction distributions \n",
    "sns.kdeplot(blood_PRO.Z_SCORE_positive)\n",
    "plt.show()"
   ]
  },
  {
   "cell_type": "code",
   "execution_count": 71,
   "metadata": {},
   "outputs": [
    {
     "data": {
      "image/png": "[encoded data removed]",
      "text/plain": [
       "<matplotlib.figure.Figure at 0x1a0f549080>"
      ]
     },
     "metadata": {},
     "output_type": "display_data"
    }
   ],
   "source": [
    "sns.kdeplot(blood_PRO['Expressed Fraction'])\n",
    "plt.show()"
   ]
  },
  {
   "cell_type": "markdown",
   "metadata": {},
   "source": [
    "## Ensembl69 GTF file \n"
   ]
  },
  {
   "cell_type": "code",
   "execution_count": 74,
   "metadata": {},
   "outputs": [],
   "source": [
    "ensembl69_gtf.columns = ['chr', 'rna_type', 'transcript_region', 'start', 'end', '5', 'strand', '7', 'transcript_info']"
   ]
  },
  {
   "cell_type": "code",
   "execution_count": 75,
   "metadata": {},
   "outputs": [],
   "source": [
    "def tidy_split(df, column, sep=';', keep=False):\n",
    "    \"\"\"\n",
    "    Split the values of a column and expand so the new DataFrame has one split\n",
    "    value per row. Filters rows where the column is missing.\n",
    "    Params\n",
    "    ------\n",
    "    df : pandas.DataFrame\n",
    "        dataframe with the column to split and expand\n",
    "    column : str\n",
    "        the column to split and expand\n",
    "    sep : str\n",
    "        the string used to split the column's values\n",
    "    keep : bool\n",
    "        whether to retain the presplit value as it's own row\n",
    "    Returns\n",
    "    -------\n",
    "    pandas.DataFrame\n",
    "        Returns a dataframe with the same columns as `df`.\n",
    "    \"\"\"\n",
    "    indexes = list()\n",
    "    new_values = list()\n",
    "    df = df.dropna(subset=[column])\n",
    "    for i, presplit in enumerate(df[column].astype(str)):\n",
    "        values = presplit.split(sep)\n",
    "        if keep and len(values) > 1:\n",
    "            indexes.append(i)\n",
    "            new_values.append(presplit)\n",
    "        for value in values:\n",
    "            indexes.append(i)\n",
    "            new_values.append(value)\n",
    "    new_df = df.iloc[indexes, :].copy()\n",
    "    new_df[column] = new_values\n",
    "    return new_df.reset_index(drop=True)"
   ]
  },
  {
   "cell_type": "code",
   "execution_count": 76,
   "metadata": {},
   "outputs": [],
   "source": [
    "info_data = ensembl69_gtf['transcript_info'].str.split(';', expand=True)\n",
    "info_data = info_data.iloc[:, :7]\n",
    "info_data.columns = ['gene_id', 'transcript_id', 'exon_number', 'gene_name', \n",
    "                     'gene_biotype', 'transcript_name', 'exon_id']\n",
    "info_data = info_data.fillna('exon id \"none\"')\n",
    "info_data['exon_id'] = info_data['exon_id'].replace('', 'exon id \"none\"')"
   ]
  },
  {
   "cell_type": "code",
   "execution_count": 77,
   "metadata": {},
   "outputs": [],
   "source": [
    "def update_columns(data, column):\n",
    "    data[column] = data[column].map(lambda x: x.split('\"')[1])\n",
    "    return data\n",
    "    \n",
    "for i in info_data.columns:\n",
    "    info_data = update_columns(info_data, i)"
   ]
  },
  {
   "cell_type": "code",
   "execution_count": 78,
   "metadata": {},
   "outputs": [],
   "source": [
    "ensembl69_gtf_expand = pd.concat([ensembl69_gtf, info_data], axis=1)"
   ]
  },
  {
   "cell_type": "code",
   "execution_count": 79,
   "metadata": {},
   "outputs": [
    {
     "data": {
      "text/html": [
       "<div>\n",
       "<style>\n",
       "    .dataframe thead tr:only-child th {\n",
       "        text-align: right;\n",
       "    }\n",
       "\n",
       "    .dataframe thead th {\n",
       "        text-align: left;\n",
       "    }\n",
       "\n",
       "    .dataframe tbody tr th {\n",
       "        vertical-align: top;\n",
       "    }\n",
       "</style>\n",
       "<table border=\"1\" class=\"dataframe\">\n",
       "  <thead>\n",
       "    <tr style=\"text-align: right;\">\n",
       "      <th></th>\n",
       "      <th>chr</th>\n",
       "      <th>rna_type</th>\n",
       "      <th>transcript_region</th>\n",
       "      <th>start</th>\n",
       "      <th>end</th>\n",
       "      <th>5</th>\n",
       "      <th>strand</th>\n",
       "      <th>7</th>\n",
       "      <th>transcript_info</th>\n",
       "      <th>gene_id</th>\n",
       "      <th>transcript_id</th>\n",
       "      <th>exon_number</th>\n",
       "      <th>gene_name</th>\n",
       "      <th>gene_biotype</th>\n",
       "      <th>transcript_name</th>\n",
       "      <th>exon_id</th>\n",
       "    </tr>\n",
       "  </thead>\n",
       "  <tbody>\n",
       "    <tr>\n",
       "      <th>0</th>\n",
       "      <td>12</td>\n",
       "      <td>lincRNA</td>\n",
       "      <td>exon</td>\n",
       "      <td>67607</td>\n",
       "      <td>67967</td>\n",
       "      <td>.</td>\n",
       "      <td>+</td>\n",
       "      <td>.</td>\n",
       "      <td>gene_id \"ENSG00000249054\"; transcript_id \"ENS...</td>\n",
       "      <td>ENSG00000249054</td>\n",
       "      <td>ENST00000504074</td>\n",
       "      <td>1</td>\n",
       "      <td>RP11-598F7.1</td>\n",
       "      <td>lincRNA</td>\n",
       "      <td>RP11-598F7.1-001</td>\n",
       "      <td>ENSE00002076759</td>\n",
       "    </tr>\n",
       "    <tr>\n",
       "      <th>1</th>\n",
       "      <td>12</td>\n",
       "      <td>lincRNA</td>\n",
       "      <td>exon</td>\n",
       "      <td>68211</td>\n",
       "      <td>68415</td>\n",
       "      <td>.</td>\n",
       "      <td>+</td>\n",
       "      <td>.</td>\n",
       "      <td>gene_id \"ENSG00000249054\"; transcript_id \"ENS...</td>\n",
       "      <td>ENSG00000249054</td>\n",
       "      <td>ENST00000504074</td>\n",
       "      <td>2</td>\n",
       "      <td>RP11-598F7.1</td>\n",
       "      <td>lincRNA</td>\n",
       "      <td>RP11-598F7.1-001</td>\n",
       "      <td>ENSE00002050265</td>\n",
       "    </tr>\n",
       "  </tbody>\n",
       "</table>\n",
       "</div>"
      ],
      "text/plain": [
       "   chr rna_type transcript_region  start    end  5 strand  7  \\\n",
       "0   12  lincRNA              exon  67607  67967  .      +  .   \n",
       "1   12  lincRNA              exon  68211  68415  .      +  .   \n",
       "\n",
       "                                     transcript_info          gene_id  \\\n",
       "0   gene_id \"ENSG00000249054\"; transcript_id \"ENS...  ENSG00000249054   \n",
       "1   gene_id \"ENSG00000249054\"; transcript_id \"ENS...  ENSG00000249054   \n",
       "\n",
       "     transcript_id exon_number     gene_name gene_biotype   transcript_name  \\\n",
       "0  ENST00000504074           1  RP11-598F7.1      lincRNA  RP11-598F7.1-001   \n",
       "1  ENST00000504074           2  RP11-598F7.1      lincRNA  RP11-598F7.1-001   \n",
       "\n",
       "           exon_id  \n",
       "0  ENSE00002076759  \n",
       "1  ENSE00002050265  "
      ]
     },
     "execution_count": 79,
     "metadata": {},
     "output_type": "execute_result"
    }
   ],
   "source": [
    "ensembl69_gtf_expand.head(2)"
   ]
  },
  {
   "cell_type": "code",
   "execution_count": 80,
   "metadata": {},
   "outputs": [
    {
     "data": {
      "text/plain": [
       "array([12, 21])"
      ]
     },
     "execution_count": 80,
     "metadata": {},
     "output_type": "execute_result"
    }
   ],
   "source": [
    "# Check that only chr12 and chr21 are there\n",
    "ensembl69_gtf_expand['chr'].unique()"
   ]
  },
  {
   "cell_type": "code",
   "execution_count": 81,
   "metadata": {},
   "outputs": [],
   "source": [
    "genes_chr12_chr21 = ensembl69_gtf_expand['gene_name'].tolist()"
   ]
  },
  {
   "cell_type": "code",
   "execution_count": 82,
   "metadata": {},
   "outputs": [
    {
     "name": "stdout",
     "output_type": "stream",
     "text": [
      "151032\n"
     ]
    }
   ],
   "source": [
    "print(len(genes_chr12_chr21))"
   ]
  },
  {
   "cell_type": "code",
   "execution_count": 84,
   "metadata": {},
   "outputs": [
    {
     "name": "stdout",
     "output_type": "stream",
     "text": [
      "3201\n"
     ]
    }
   ],
   "source": [
    "unique_genes = np.unique(np.array(genes_chr12_chr21))\n",
    "print(len(unique_genes))"
   ]
  },
  {
   "cell_type": "code",
   "execution_count": 283,
   "metadata": {},
   "outputs": [
    {
     "data": {
      "text/plain": [
       "array(['RUNX1'],\n",
       "      dtype='<U18')"
      ]
     },
     "execution_count": 283,
     "metadata": {},
     "output_type": "execute_result"
    }
   ],
   "source": [
    "unique_genes[unique_genes == \"RUNX1\"]"
   ]
  },
  {
   "cell_type": "code",
   "execution_count": 85,
   "metadata": {},
   "outputs": [],
   "source": [
    "blood_PRO_chr12_chr21 = blood_PRO[blood_PRO['GENE_NAME'].isin(unique_genes)]"
   ]
  },
  {
   "cell_type": "code",
   "execution_count": 86,
   "metadata": {},
   "outputs": [
    {
     "data": {
      "text/plain": [
       "(17690, 5)"
      ]
     },
     "execution_count": 86,
     "metadata": {},
     "output_type": "execute_result"
    }
   ],
   "source": [
    "blood_PRO.shape"
   ]
  },
  {
   "cell_type": "code",
   "execution_count": 87,
   "metadata": {},
   "outputs": [
    {
     "data": {
      "text/plain": [
       "(1121, 5)"
      ]
     },
     "execution_count": 87,
     "metadata": {},
     "output_type": "execute_result"
    }
   ],
   "source": [
    "blood_PRO_chr12_chr21.shape"
   ]
  },
  {
   "cell_type": "code",
   "execution_count": 89,
   "metadata": {},
   "outputs": [
    {
     "data": {
      "text/html": [
       "<div>\n",
       "<style>\n",
       "    .dataframe thead tr:only-child th {\n",
       "        text-align: right;\n",
       "    }\n",
       "\n",
       "    .dataframe thead th {\n",
       "        text-align: left;\n",
       "    }\n",
       "\n",
       "    .dataframe tbody tr th {\n",
       "        vertical-align: top;\n",
       "    }\n",
       "</style>\n",
       "<table border=\"1\" class=\"dataframe\">\n",
       "  <thead>\n",
       "    <tr style=\"text-align: right;\">\n",
       "      <th></th>\n",
       "      <th>Z_SCORE</th>\n",
       "      <th>ID_STUDY</th>\n",
       "      <th>GENE_NAME</th>\n",
       "      <th>Z_SCORE_positive</th>\n",
       "      <th>Expressed Fraction</th>\n",
       "    </tr>\n",
       "  </thead>\n",
       "  <tbody>\n",
       "    <tr>\n",
       "      <th>4</th>\n",
       "      <td>-0.31200</td>\n",
       "      <td>377</td>\n",
       "      <td>A2M</td>\n",
       "      <td>0.78600</td>\n",
       "      <td>0.00005</td>\n",
       "    </tr>\n",
       "    <tr>\n",
       "      <th>5</th>\n",
       "      <td>-0.24000</td>\n",
       "      <td>377</td>\n",
       "      <td>A2ML1</td>\n",
       "      <td>0.85800</td>\n",
       "      <td>0.00005</td>\n",
       "    </tr>\n",
       "  </tbody>\n",
       "</table>\n",
       "</div>"
      ],
      "text/plain": [
       "   Z_SCORE  ID_STUDY GENE_NAME  Z_SCORE_positive  Expressed Fraction\n",
       "4 -0.31200       377       A2M           0.78600             0.00005\n",
       "5 -0.24000       377     A2ML1           0.85800             0.00005"
      ]
     },
     "execution_count": 89,
     "metadata": {},
     "output_type": "execute_result"
    }
   ],
   "source": [
    "blood_PRO_chr12_chr21.head(2)"
   ]
  },
  {
   "cell_type": "code",
   "execution_count": 100,
   "metadata": {},
   "outputs": [],
   "source": [
    "blood_PRO_chr12_chr21 = blood_PRO_chr12_chr21.rename(columns = {'GENE_NAME':'gene_name'})"
   ]
  },
  {
   "cell_type": "code",
   "execution_count": 101,
   "metadata": {},
   "outputs": [
    {
     "data": {
      "text/html": [
       "<div>\n",
       "<style>\n",
       "    .dataframe thead tr:only-child th {\n",
       "        text-align: right;\n",
       "    }\n",
       "\n",
       "    .dataframe thead th {\n",
       "        text-align: left;\n",
       "    }\n",
       "\n",
       "    .dataframe tbody tr th {\n",
       "        vertical-align: top;\n",
       "    }\n",
       "</style>\n",
       "<table border=\"1\" class=\"dataframe\">\n",
       "  <thead>\n",
       "    <tr style=\"text-align: right;\">\n",
       "      <th></th>\n",
       "      <th>Z_SCORE</th>\n",
       "      <th>ID_STUDY</th>\n",
       "      <th>gene_name</th>\n",
       "      <th>Z_SCORE_positive</th>\n",
       "      <th>Expressed Fraction</th>\n",
       "    </tr>\n",
       "  </thead>\n",
       "  <tbody>\n",
       "    <tr>\n",
       "      <th>4</th>\n",
       "      <td>-0.31200</td>\n",
       "      <td>377</td>\n",
       "      <td>A2M</td>\n",
       "      <td>0.78600</td>\n",
       "      <td>0.00005</td>\n",
       "    </tr>\n",
       "    <tr>\n",
       "      <th>5</th>\n",
       "      <td>-0.24000</td>\n",
       "      <td>377</td>\n",
       "      <td>A2ML1</td>\n",
       "      <td>0.85800</td>\n",
       "      <td>0.00005</td>\n",
       "    </tr>\n",
       "  </tbody>\n",
       "</table>\n",
       "</div>"
      ],
      "text/plain": [
       "   Z_SCORE  ID_STUDY gene_name  Z_SCORE_positive  Expressed Fraction\n",
       "4 -0.31200       377       A2M           0.78600             0.00005\n",
       "5 -0.24000       377     A2ML1           0.85800             0.00005"
      ]
     },
     "execution_count": 101,
     "metadata": {},
     "output_type": "execute_result"
    }
   ],
   "source": [
    "blood_PRO_chr12_chr21.head(2)"
   ]
  },
  {
   "cell_type": "markdown",
   "metadata": {},
   "source": [
    "### Take arbitrary number of 10 million transcripts for chr12+chr21 together \n",
    "\n",
    "> Need to re-normalize to new total of z-score (since only 2 chromosomes)"
   ]
  },
  {
   "cell_type": "code",
   "execution_count": 116,
   "metadata": {},
   "outputs": [
    {
     "data": {
      "text/plain": [
       "1024.9209999999982"
      ]
     },
     "execution_count": 116,
     "metadata": {},
     "output_type": "execute_result"
    }
   ],
   "source": [
    "total_z_chr12_chr21 = sum(np.array(blood_PRO_chr12_chr21['Z_SCORE_positive']))\n",
    "total_z_chr12_chr21"
   ]
  },
  {
   "cell_type": "markdown",
   "metadata": {},
   "source": [
    "> Add column Expressed Fraction (corrected for chr12 + chr21 subset)"
   ]
  },
  {
   "cell_type": "code",
   "execution_count": 120,
   "metadata": {},
   "outputs": [],
   "source": [
    "blood_PRO_chr12_chr21['Expressed Fraction'] = np.array(blood_PRO_chr12_chr21['Z_SCORE_positive'])/total_z_chr12_chr21"
   ]
  },
  {
   "cell_type": "code",
   "execution_count": 121,
   "metadata": {},
   "outputs": [
    {
     "data": {
      "text/html": [
       "<div>\n",
       "<style>\n",
       "    .dataframe thead tr:only-child th {\n",
       "        text-align: right;\n",
       "    }\n",
       "\n",
       "    .dataframe thead th {\n",
       "        text-align: left;\n",
       "    }\n",
       "\n",
       "    .dataframe tbody tr th {\n",
       "        vertical-align: top;\n",
       "    }\n",
       "</style>\n",
       "<table border=\"1\" class=\"dataframe\">\n",
       "  <thead>\n",
       "    <tr style=\"text-align: right;\">\n",
       "      <th></th>\n",
       "      <th>Z_SCORE</th>\n",
       "      <th>ID_STUDY</th>\n",
       "      <th>gene_name</th>\n",
       "      <th>Z_SCORE_positive</th>\n",
       "      <th>Expressed Fraction</th>\n",
       "    </tr>\n",
       "  </thead>\n",
       "  <tbody>\n",
       "    <tr>\n",
       "      <th>4</th>\n",
       "      <td>-0.31200</td>\n",
       "      <td>377</td>\n",
       "      <td>A2M</td>\n",
       "      <td>0.78600</td>\n",
       "      <td>0.00077</td>\n",
       "    </tr>\n",
       "    <tr>\n",
       "      <th>5</th>\n",
       "      <td>-0.24000</td>\n",
       "      <td>377</td>\n",
       "      <td>A2ML1</td>\n",
       "      <td>0.85800</td>\n",
       "      <td>0.00084</td>\n",
       "    </tr>\n",
       "  </tbody>\n",
       "</table>\n",
       "</div>"
      ],
      "text/plain": [
       "   Z_SCORE  ID_STUDY gene_name  Z_SCORE_positive  Expressed Fraction\n",
       "4 -0.31200       377       A2M           0.78600             0.00077\n",
       "5 -0.24000       377     A2ML1           0.85800             0.00084"
      ]
     },
     "execution_count": 121,
     "metadata": {},
     "output_type": "execute_result"
    }
   ],
   "source": [
    "blood_PRO_chr12_chr21.head(2)"
   ]
  },
  {
   "cell_type": "code",
   "execution_count": 122,
   "metadata": {},
   "outputs": [
    {
     "data": {
      "text/plain": [
       "1.0000000000000004"
      ]
     },
     "execution_count": 122,
     "metadata": {},
     "output_type": "execute_result"
    }
   ],
   "source": [
    "sum(blood_PRO_chr12_chr21['Expressed Fraction'])"
   ]
  },
  {
   "cell_type": "markdown",
   "metadata": {},
   "source": [
    "> Add column Expressed Number based on a total RNA seq reads count = 10 millions  (arbitrary value)"
   ]
  },
  {
   "cell_type": "code",
   "execution_count": 123,
   "metadata": {},
   "outputs": [],
   "source": [
    "blood_PRO_chr12_chr21['Expressed Number'] = blood_PRO_chr12_chr21['Expressed Fraction'] * 10000000"
   ]
  },
  {
   "cell_type": "code",
   "execution_count": null,
   "metadata": {},
   "outputs": [],
   "source": []
  },
  {
   "cell_type": "markdown",
   "metadata": {},
   "source": [
    "---"
   ]
  },
  {
   "cell_type": "code",
   "execution_count": 124,
   "metadata": {},
   "outputs": [
    {
     "data": {
      "text/plain": [
       "Index(['chr', 'rna_type', 'transcript_region', 'start', 'end', '5', 'strand',\n",
       "       '7', 'transcript_info', 'gene_id', 'transcript_id', 'exon_number',\n",
       "       'gene_name', 'gene_biotype', 'transcript_name', 'exon_id'],\n",
       "      dtype='object')"
      ]
     },
     "execution_count": 124,
     "metadata": {},
     "output_type": "execute_result"
    }
   ],
   "source": [
    "ensembl69_gtf_expand.columns"
   ]
  },
  {
   "cell_type": "code",
   "execution_count": 127,
   "metadata": {},
   "outputs": [
    {
     "data": {
      "text/html": [
       "<div>\n",
       "<style>\n",
       "    .dataframe thead tr:only-child th {\n",
       "        text-align: right;\n",
       "    }\n",
       "\n",
       "    .dataframe thead th {\n",
       "        text-align: left;\n",
       "    }\n",
       "\n",
       "    .dataframe tbody tr th {\n",
       "        vertical-align: top;\n",
       "    }\n",
       "</style>\n",
       "<table border=\"1\" class=\"dataframe\">\n",
       "  <thead>\n",
       "    <tr style=\"text-align: right;\">\n",
       "      <th></th>\n",
       "      <th>chr</th>\n",
       "      <th>rna_type</th>\n",
       "      <th>transcript_region</th>\n",
       "      <th>start</th>\n",
       "      <th>end</th>\n",
       "      <th>5</th>\n",
       "      <th>strand</th>\n",
       "      <th>7</th>\n",
       "      <th>transcript_info</th>\n",
       "      <th>gene_id</th>\n",
       "      <th>transcript_id</th>\n",
       "      <th>exon_number</th>\n",
       "      <th>gene_name</th>\n",
       "      <th>gene_biotype</th>\n",
       "      <th>transcript_name</th>\n",
       "      <th>exon_id</th>\n",
       "    </tr>\n",
       "  </thead>\n",
       "  <tbody>\n",
       "    <tr>\n",
       "      <th>0</th>\n",
       "      <td>12</td>\n",
       "      <td>lincRNA</td>\n",
       "      <td>exon</td>\n",
       "      <td>67607</td>\n",
       "      <td>67967</td>\n",
       "      <td>.</td>\n",
       "      <td>+</td>\n",
       "      <td>.</td>\n",
       "      <td>gene_id \"ENSG00000249054\"; transcript_id \"ENS...</td>\n",
       "      <td>ENSG00000249054</td>\n",
       "      <td>ENST00000504074</td>\n",
       "      <td>1</td>\n",
       "      <td>RP11-598F7.1</td>\n",
       "      <td>lincRNA</td>\n",
       "      <td>RP11-598F7.1-001</td>\n",
       "      <td>ENSE00002076759</td>\n",
       "    </tr>\n",
       "    <tr>\n",
       "      <th>1</th>\n",
       "      <td>12</td>\n",
       "      <td>lincRNA</td>\n",
       "      <td>exon</td>\n",
       "      <td>68211</td>\n",
       "      <td>68415</td>\n",
       "      <td>.</td>\n",
       "      <td>+</td>\n",
       "      <td>.</td>\n",
       "      <td>gene_id \"ENSG00000249054\"; transcript_id \"ENS...</td>\n",
       "      <td>ENSG00000249054</td>\n",
       "      <td>ENST00000504074</td>\n",
       "      <td>2</td>\n",
       "      <td>RP11-598F7.1</td>\n",
       "      <td>lincRNA</td>\n",
       "      <td>RP11-598F7.1-001</td>\n",
       "      <td>ENSE00002050265</td>\n",
       "    </tr>\n",
       "  </tbody>\n",
       "</table>\n",
       "</div>"
      ],
      "text/plain": [
       "   chr rna_type transcript_region  start    end  5 strand  7  \\\n",
       "0   12  lincRNA              exon  67607  67967  .      +  .   \n",
       "1   12  lincRNA              exon  68211  68415  .      +  .   \n",
       "\n",
       "                                     transcript_info          gene_id  \\\n",
       "0   gene_id \"ENSG00000249054\"; transcript_id \"ENS...  ENSG00000249054   \n",
       "1   gene_id \"ENSG00000249054\"; transcript_id \"ENS...  ENSG00000249054   \n",
       "\n",
       "     transcript_id exon_number     gene_name gene_biotype   transcript_name  \\\n",
       "0  ENST00000504074           1  RP11-598F7.1      lincRNA  RP11-598F7.1-001   \n",
       "1  ENST00000504074           2  RP11-598F7.1      lincRNA  RP11-598F7.1-001   \n",
       "\n",
       "           exon_id  \n",
       "0  ENSE00002076759  \n",
       "1  ENSE00002050265  "
      ]
     },
     "execution_count": 127,
     "metadata": {},
     "output_type": "execute_result"
    }
   ],
   "source": [
    "ensembl69_gtf_expand.head(2)"
   ]
  },
  {
   "cell_type": "code",
   "execution_count": 128,
   "metadata": {},
   "outputs": [],
   "source": [
    "ensembl69_gtf_expand_subset = ensembl69_gtf_expand[['chr', 'start', 'end', 'strand', 'gene_id', 'transcript_id', 'gene_name']]"
   ]
  },
  {
   "cell_type": "code",
   "execution_count": 129,
   "metadata": {},
   "outputs": [
    {
     "data": {
      "text/plain": [
       "(151032, 7)"
      ]
     },
     "execution_count": 129,
     "metadata": {},
     "output_type": "execute_result"
    }
   ],
   "source": [
    "ensembl69_gtf_expand_subset.shape"
   ]
  },
  {
   "cell_type": "code",
   "execution_count": 133,
   "metadata": {},
   "outputs": [],
   "source": [
    "# Remove duplicate \n",
    "ensembl69_gtf_expand_subset_uniq = ensembl69_gtf_expand_subset.drop_duplicates()"
   ]
  },
  {
   "cell_type": "markdown",
   "metadata": {},
   "source": [
    "> Merge the draft PRO expression data to GTF to create missing columns "
   ]
  },
  {
   "cell_type": "code",
   "execution_count": 134,
   "metadata": {},
   "outputs": [],
   "source": [
    "blood_PRO_expand = pd.merge(blood_PRO_chr12_chr21, ensembl69_gtf_expand_subset_uniq , how = 'inner')"
   ]
  },
  {
   "cell_type": "markdown",
   "metadata": {},
   "source": [
    "### blood_PRO_expand to remake = doesn't work "
   ]
  },
  {
   "cell_type": "code",
   "execution_count": 206,
   "metadata": {},
   "outputs": [],
   "source": [
    "# blood_PRO_expand[blood_PRO_expand['gene_name'] == \"A2M\"]"
   ]
  },
  {
   "cell_type": "code",
   "execution_count": 136,
   "metadata": {},
   "outputs": [
    {
     "data": {
      "text/plain": [
       "84.284449240482431"
      ]
     },
     "execution_count": 136,
     "metadata": {},
     "output_type": "execute_result"
    }
   ],
   "source": [
    "sum(blood_PRO_expand['Expressed Fraction'])"
   ]
  },
  {
   "cell_type": "markdown",
   "metadata": {},
   "source": [
    "> There are multiple transcripts for each gene -> re-normalize to the sum of Z_SCORE_positive would cause a gene with multiple transcripts to appear more expressed. \n",
    "\n",
    "It would make more sense to add a count_transcript_per_gene column and divide both the Expressed Fraction and Expressed Number column by that count in order to preserve the proportion "
   ]
  },
  {
   "cell_type": "markdown",
   "metadata": {},
   "source": [
    "### Find transcript min (start of full transcript) and max (end of full transcript)\n",
    "\n",
    "\n",
    "> The start and end are the ones from each coding parts of the gene, and not absolute start and end of the transcript \n",
    "\n",
    "Need to replace the \"exon-level\" start/end by gene-level start/end "
   ]
  },
  {
   "cell_type": "code",
   "execution_count": 293,
   "metadata": {},
   "outputs": [],
   "source": [
    "transcripts_min = blood_PRO_expand.groupby(['transcript_id'])[['start']].first().drop_duplicates()"
   ]
  },
  {
   "cell_type": "code",
   "execution_count": 294,
   "metadata": {},
   "outputs": [
    {
     "data": {
      "text/html": [
       "<div>\n",
       "<style>\n",
       "    .dataframe thead tr:only-child th {\n",
       "        text-align: right;\n",
       "    }\n",
       "\n",
       "    .dataframe thead th {\n",
       "        text-align: left;\n",
       "    }\n",
       "\n",
       "    .dataframe tbody tr th {\n",
       "        vertical-align: top;\n",
       "    }\n",
       "</style>\n",
       "<table border=\"1\" class=\"dataframe\">\n",
       "  <thead>\n",
       "    <tr style=\"text-align: right;\">\n",
       "      <th></th>\n",
       "      <th>start</th>\n",
       "    </tr>\n",
       "    <tr>\n",
       "      <th>transcript_id</th>\n",
       "      <th></th>\n",
       "    </tr>\n",
       "  </thead>\n",
       "  <tbody>\n",
       "    <tr>\n",
       "      <th>ENST00000000412</th>\n",
       "      <td>9102084</td>\n",
       "    </tr>\n",
       "    <tr>\n",
       "      <th>ENST00000001008</th>\n",
       "      <td>2904119</td>\n",
       "    </tr>\n",
       "  </tbody>\n",
       "</table>\n",
       "</div>"
      ],
      "text/plain": [
       "                   start\n",
       "transcript_id           \n",
       "ENST00000000412  9102084\n",
       "ENST00000001008  2904119"
      ]
     },
     "execution_count": 294,
     "metadata": {},
     "output_type": "execute_result"
    }
   ],
   "source": [
    "transcripts_min = transcripts_min.dropna()\n",
    "# type(transcripts_min)\n",
    "transcripts_min.head(2)"
   ]
  },
  {
   "cell_type": "code",
   "execution_count": 295,
   "metadata": {},
   "outputs": [],
   "source": [
    "transcripts_min['transcript_id'] = transcripts_min.index\n",
    "transcripts_min = transcripts_min.reset_index(drop = True)"
   ]
  },
  {
   "cell_type": "code",
   "execution_count": 296,
   "metadata": {},
   "outputs": [
    {
     "data": {
      "text/html": [
       "<div>\n",
       "<style>\n",
       "    .dataframe thead tr:only-child th {\n",
       "        text-align: right;\n",
       "    }\n",
       "\n",
       "    .dataframe thead th {\n",
       "        text-align: left;\n",
       "    }\n",
       "\n",
       "    .dataframe tbody tr th {\n",
       "        vertical-align: top;\n",
       "    }\n",
       "</style>\n",
       "<table border=\"1\" class=\"dataframe\">\n",
       "  <thead>\n",
       "    <tr style=\"text-align: right;\">\n",
       "      <th></th>\n",
       "      <th>start</th>\n",
       "      <th>transcript_id</th>\n",
       "    </tr>\n",
       "  </thead>\n",
       "  <tbody>\n",
       "    <tr>\n",
       "      <th>0</th>\n",
       "      <td>9102084</td>\n",
       "      <td>ENST00000000412</td>\n",
       "    </tr>\n",
       "    <tr>\n",
       "      <th>1</th>\n",
       "      <td>2904119</td>\n",
       "      <td>ENST00000001008</td>\n",
       "    </tr>\n",
       "  </tbody>\n",
       "</table>\n",
       "</div>"
      ],
      "text/plain": [
       "     start    transcript_id\n",
       "0  9102084  ENST00000000412\n",
       "1  2904119  ENST00000001008"
      ]
     },
     "execution_count": 296,
     "metadata": {},
     "output_type": "execute_result"
    }
   ],
   "source": [
    "transcripts_min.head(2)"
   ]
  },
  {
   "cell_type": "code",
   "execution_count": 308,
   "metadata": {},
   "outputs": [],
   "source": [
    "transcripts_max = transcripts_max.dropna()\n",
    "transcripts_max = blood_PRO_expand.groupby(['transcript_id'])[['end']].max().drop_duplicates()"
   ]
  },
  {
   "cell_type": "code",
   "execution_count": 309,
   "metadata": {},
   "outputs": [],
   "source": [
    "transcripts_max['transcript_id'] = transcripts_max.index \n",
    "transcripts_max = transcripts_max.dropna()"
   ]
  },
  {
   "cell_type": "code",
   "execution_count": 310,
   "metadata": {},
   "outputs": [
    {
     "data": {
      "text/html": [
       "<div>\n",
       "<style>\n",
       "    .dataframe thead tr:only-child th {\n",
       "        text-align: right;\n",
       "    }\n",
       "\n",
       "    .dataframe thead th {\n",
       "        text-align: left;\n",
       "    }\n",
       "\n",
       "    .dataframe tbody tr th {\n",
       "        vertical-align: top;\n",
       "    }\n",
       "</style>\n",
       "<table border=\"1\" class=\"dataframe\">\n",
       "  <thead>\n",
       "    <tr style=\"text-align: right;\">\n",
       "      <th></th>\n",
       "      <th>end</th>\n",
       "      <th>transcript_id</th>\n",
       "    </tr>\n",
       "  </thead>\n",
       "  <tbody>\n",
       "    <tr>\n",
       "      <th>0</th>\n",
       "      <td>9102551</td>\n",
       "      <td>ENST00000000412</td>\n",
       "    </tr>\n",
       "    <tr>\n",
       "      <th>1</th>\n",
       "      <td>2913124</td>\n",
       "      <td>ENST00000001008</td>\n",
       "    </tr>\n",
       "  </tbody>\n",
       "</table>\n",
       "</div>"
      ],
      "text/plain": [
       "       end    transcript_id\n",
       "0  9102551  ENST00000000412\n",
       "1  2913124  ENST00000001008"
      ]
     },
     "execution_count": 310,
     "metadata": {},
     "output_type": "execute_result"
    }
   ],
   "source": [
    "transcripts_max = transcripts_max.reset_index(drop  = True)\n",
    "transcripts_max.head(2)"
   ]
  },
  {
   "cell_type": "code",
   "execution_count": 311,
   "metadata": {},
   "outputs": [],
   "source": [
    "transcripts_start_end = pd.merge(transcripts_min, transcripts_max, how= 'left')"
   ]
  },
  {
   "cell_type": "code",
   "execution_count": 312,
   "metadata": {},
   "outputs": [
    {
     "name": "stdout",
     "output_type": "stream",
     "text": [
      "(6892, 3)\n"
     ]
    },
    {
     "data": {
      "text/html": [
       "<div>\n",
       "<style>\n",
       "    .dataframe thead tr:only-child th {\n",
       "        text-align: right;\n",
       "    }\n",
       "\n",
       "    .dataframe thead th {\n",
       "        text-align: left;\n",
       "    }\n",
       "\n",
       "    .dataframe tbody tr th {\n",
       "        vertical-align: top;\n",
       "    }\n",
       "</style>\n",
       "<table border=\"1\" class=\"dataframe\">\n",
       "  <thead>\n",
       "    <tr style=\"text-align: right;\">\n",
       "      <th></th>\n",
       "      <th>start</th>\n",
       "      <th>transcript_id</th>\n",
       "      <th>end</th>\n",
       "    </tr>\n",
       "  </thead>\n",
       "  <tbody>\n",
       "    <tr>\n",
       "      <th>0</th>\n",
       "      <td>9102084</td>\n",
       "      <td>ENST00000000412</td>\n",
       "      <td>9102551.00000</td>\n",
       "    </tr>\n",
       "    <tr>\n",
       "      <th>1</th>\n",
       "      <td>2904119</td>\n",
       "      <td>ENST00000001008</td>\n",
       "      <td>2913124.00000</td>\n",
       "    </tr>\n",
       "  </tbody>\n",
       "</table>\n",
       "</div>"
      ],
      "text/plain": [
       "     start    transcript_id           end\n",
       "0  9102084  ENST00000000412 9102551.00000\n",
       "1  2904119  ENST00000001008 2913124.00000"
      ]
     },
     "execution_count": 312,
     "metadata": {},
     "output_type": "execute_result"
    }
   ],
   "source": [
    "print(transcripts_start_end.shape)\n",
    "transcripts_start_end.head(2)"
   ]
  },
  {
   "cell_type": "code",
   "execution_count": 313,
   "metadata": {},
   "outputs": [],
   "source": [
    "transcripts_start_end  = transcripts_start_end.dropna()"
   ]
  },
  {
   "cell_type": "code",
   "execution_count": 314,
   "metadata": {},
   "outputs": [],
   "source": [
    "transcripts_start_end['end'] = transcripts_start_end['end'].astype(int)"
   ]
  },
  {
   "cell_type": "code",
   "execution_count": 315,
   "metadata": {},
   "outputs": [
    {
     "data": {
      "text/html": [
       "<div>\n",
       "<style>\n",
       "    .dataframe thead tr:only-child th {\n",
       "        text-align: right;\n",
       "    }\n",
       "\n",
       "    .dataframe thead th {\n",
       "        text-align: left;\n",
       "    }\n",
       "\n",
       "    .dataframe tbody tr th {\n",
       "        vertical-align: top;\n",
       "    }\n",
       "</style>\n",
       "<table border=\"1\" class=\"dataframe\">\n",
       "  <thead>\n",
       "    <tr style=\"text-align: right;\">\n",
       "      <th></th>\n",
       "      <th>start</th>\n",
       "      <th>transcript_id</th>\n",
       "      <th>end</th>\n",
       "    </tr>\n",
       "  </thead>\n",
       "  <tbody>\n",
       "    <tr>\n",
       "      <th>0</th>\n",
       "      <td>9102084</td>\n",
       "      <td>ENST00000000412</td>\n",
       "      <td>9102551</td>\n",
       "    </tr>\n",
       "    <tr>\n",
       "      <th>1</th>\n",
       "      <td>2904119</td>\n",
       "      <td>ENST00000001008</td>\n",
       "      <td>2913124</td>\n",
       "    </tr>\n",
       "  </tbody>\n",
       "</table>\n",
       "</div>"
      ],
      "text/plain": [
       "     start    transcript_id      end\n",
       "0  9102084  ENST00000000412  9102551\n",
       "1  2904119  ENST00000001008  2913124"
      ]
     },
     "execution_count": 315,
     "metadata": {},
     "output_type": "execute_result"
    }
   ],
   "source": [
    "transcripts_start_end.head(2)"
   ]
  },
  {
   "cell_type": "code",
   "execution_count": 316,
   "metadata": {},
   "outputs": [],
   "source": [
    "# Write start/end of full transcripts to file \n",
    "transcripts_start_end.to_csv(\"../tables_output/chr12_chr21_start_end_transcripts.tsv\", sep = '\\t', index = False)"
   ]
  },
  {
   "cell_type": "code",
   "execution_count": 339,
   "metadata": {},
   "outputs": [
    {
     "data": {
      "text/plain": [
       "Index(['chr', 'rna_type', 'transcript_region', 'start', 'end', '5', 'strand',\n",
       "       '7', 'transcript_info', 'gene_id', 'transcript_id', 'exon_number',\n",
       "       'gene_name', 'gene_biotype', 'transcript_name', 'exon_id'],\n",
       "      dtype='object')"
      ]
     },
     "execution_count": 339,
     "metadata": {},
     "output_type": "execute_result"
    }
   ],
   "source": [
    "ensembl69_gtf_expand.columns "
   ]
  },
  {
   "cell_type": "code",
   "execution_count": 378,
   "metadata": {},
   "outputs": [
    {
     "data": {
      "text/plain": [
       "array(['3prime_overlapping_ncrna', 'IG_V_gene', 'antisense', 'lincRNA',\n",
       "       'miRNA', 'misc_RNA', 'polymorphic_pseudogene',\n",
       "       'processed_transcript', 'protein_coding', 'pseudogene', 'rRNA',\n",
       "       'sense_intronic', 'sense_overlapping', 'snRNA', 'snoRNA'], dtype=object)"
      ]
     },
     "execution_count": 378,
     "metadata": {},
     "output_type": "execute_result"
    }
   ],
   "source": [
    "np.unique(np.array(ensembl69_gtf_expand['gene_biotype']))"
   ]
  },
  {
   "cell_type": "code",
   "execution_count": 383,
   "metadata": {},
   "outputs": [],
   "source": [
    "ensembl69_gtf_gene_subset2 = ensembl69_gtf_expand[['chr', 'gene_name', 'strand', 'transcript_id', 'gene_biotype']]"
   ]
  },
  {
   "cell_type": "code",
   "execution_count": 384,
   "metadata": {},
   "outputs": [
    {
     "data": {
      "text/html": [
       "<div>\n",
       "<style>\n",
       "    .dataframe thead tr:only-child th {\n",
       "        text-align: right;\n",
       "    }\n",
       "\n",
       "    .dataframe thead th {\n",
       "        text-align: left;\n",
       "    }\n",
       "\n",
       "    .dataframe tbody tr th {\n",
       "        vertical-align: top;\n",
       "    }\n",
       "</style>\n",
       "<table border=\"1\" class=\"dataframe\">\n",
       "  <thead>\n",
       "    <tr style=\"text-align: right;\">\n",
       "      <th></th>\n",
       "      <th>chr</th>\n",
       "      <th>gene_name</th>\n",
       "      <th>strand</th>\n",
       "      <th>transcript_id</th>\n",
       "      <th>gene_biotype</th>\n",
       "    </tr>\n",
       "  </thead>\n",
       "  <tbody>\n",
       "    <tr>\n",
       "      <th>0</th>\n",
       "      <td>12</td>\n",
       "      <td>RP11-598F7.1</td>\n",
       "      <td>+</td>\n",
       "      <td>ENST00000504074</td>\n",
       "      <td>lincRNA</td>\n",
       "    </tr>\n",
       "    <tr>\n",
       "      <th>1</th>\n",
       "      <td>12</td>\n",
       "      <td>RP11-598F7.1</td>\n",
       "      <td>+</td>\n",
       "      <td>ENST00000504074</td>\n",
       "      <td>lincRNA</td>\n",
       "    </tr>\n",
       "  </tbody>\n",
       "</table>\n",
       "</div>"
      ],
      "text/plain": [
       "   chr     gene_name strand    transcript_id gene_biotype\n",
       "0   12  RP11-598F7.1      +  ENST00000504074      lincRNA\n",
       "1   12  RP11-598F7.1      +  ENST00000504074      lincRNA"
      ]
     },
     "execution_count": 384,
     "metadata": {},
     "output_type": "execute_result"
    }
   ],
   "source": [
    "ensembl69_gtf_gene_subset2.head(2)"
   ]
  },
  {
   "cell_type": "code",
   "execution_count": 385,
   "metadata": {},
   "outputs": [],
   "source": [
    "transcripts_start_end_genes = pd.merge(transcripts_start_end, ensembl69_gtf_gene_subset2)"
   ]
  },
  {
   "cell_type": "code",
   "execution_count": 386,
   "metadata": {},
   "outputs": [],
   "source": [
    "transcripts_start_end_genes.head()\n",
    "transcripts_start_end_genes = transcripts_start_end_genes.drop_duplicates()"
   ]
  },
  {
   "cell_type": "markdown",
   "metadata": {},
   "source": [
    "### Correct blood_PRO_expand"
   ]
  },
  {
   "cell_type": "code",
   "execution_count": 387,
   "metadata": {},
   "outputs": [],
   "source": [
    "blood_PRO_expand =  pd.merge(blood_PRO_chr12_chr21, transcripts_start_end_genes, how = 'inner')"
   ]
  },
  {
   "cell_type": "code",
   "execution_count": 388,
   "metadata": {},
   "outputs": [],
   "source": [
    "# Count the number of transcripts and assume equal contribution of RNA from each transcript not accounting for length\n",
    "blood_PRO_expand['count_transcripts'] = blood_PRO_expand.groupby('gene_name')['gene_name'].transform('count')"
   ]
  },
  {
   "cell_type": "code",
   "execution_count": 389,
   "metadata": {},
   "outputs": [],
   "source": [
    "blood_PRO_expand['count_transcripts'] = blood_PRO_expand.groupby('gene_name')['gene_name'].transform('count')"
   ]
  },
  {
   "cell_type": "code",
   "execution_count": 390,
   "metadata": {},
   "outputs": [
    {
     "data": {
      "text/html": [
       "<div>\n",
       "<style>\n",
       "    .dataframe thead tr:only-child th {\n",
       "        text-align: right;\n",
       "    }\n",
       "\n",
       "    .dataframe thead th {\n",
       "        text-align: left;\n",
       "    }\n",
       "\n",
       "    .dataframe tbody tr th {\n",
       "        vertical-align: top;\n",
       "    }\n",
       "</style>\n",
       "<table border=\"1\" class=\"dataframe\">\n",
       "  <thead>\n",
       "    <tr style=\"text-align: right;\">\n",
       "      <th></th>\n",
       "      <th>Z_SCORE</th>\n",
       "      <th>ID_STUDY</th>\n",
       "      <th>gene_name</th>\n",
       "      <th>Z_SCORE_positive</th>\n",
       "      <th>Expressed Fraction</th>\n",
       "      <th>Expressed Number</th>\n",
       "      <th>start</th>\n",
       "      <th>transcript_id</th>\n",
       "      <th>end</th>\n",
       "      <th>chr</th>\n",
       "      <th>strand</th>\n",
       "      <th>gene_biotype</th>\n",
       "      <th>count_transcripts</th>\n",
       "    </tr>\n",
       "  </thead>\n",
       "  <tbody>\n",
       "    <tr>\n",
       "      <th>0</th>\n",
       "      <td>-0.31200</td>\n",
       "      <td>377</td>\n",
       "      <td>A2M</td>\n",
       "      <td>0.78600</td>\n",
       "      <td>0.00077</td>\n",
       "      <td>7668.88375</td>\n",
       "      <td>9268360</td>\n",
       "      <td>ENST00000318602</td>\n",
       "      <td>9268753</td>\n",
       "      <td>12</td>\n",
       "      <td>-</td>\n",
       "      <td>protein_coding</td>\n",
       "      <td>8</td>\n",
       "    </tr>\n",
       "    <tr>\n",
       "      <th>1</th>\n",
       "      <td>-0.31200</td>\n",
       "      <td>377</td>\n",
       "      <td>A2M</td>\n",
       "      <td>0.78600</td>\n",
       "      <td>0.00077</td>\n",
       "      <td>7668.88375</td>\n",
       "      <td>9268724</td>\n",
       "      <td>ENST00000404455</td>\n",
       "      <td>9268825</td>\n",
       "      <td>12</td>\n",
       "      <td>-</td>\n",
       "      <td>protein_coding</td>\n",
       "      <td>8</td>\n",
       "    </tr>\n",
       "  </tbody>\n",
       "</table>\n",
       "</div>"
      ],
      "text/plain": [
       "   Z_SCORE  ID_STUDY gene_name  Z_SCORE_positive  Expressed Fraction  \\\n",
       "0 -0.31200       377       A2M           0.78600             0.00077   \n",
       "1 -0.31200       377       A2M           0.78600             0.00077   \n",
       "\n",
       "   Expressed Number    start    transcript_id      end  chr strand  \\\n",
       "0        7668.88375  9268360  ENST00000318602  9268753   12      -   \n",
       "1        7668.88375  9268724  ENST00000404455  9268825   12      -   \n",
       "\n",
       "     gene_biotype  count_transcripts  \n",
       "0  protein_coding                  8  \n",
       "1  protein_coding                  8  "
      ]
     },
     "execution_count": 390,
     "metadata": {},
     "output_type": "execute_result"
    }
   ],
   "source": [
    "blood_PRO_expand.head(2)"
   ]
  },
  {
   "cell_type": "code",
   "execution_count": 392,
   "metadata": {},
   "outputs": [],
   "source": [
    "blood_PRO_expand['Expressed Fraction - Transcript'] = blood_PRO_expand['Expressed Fraction']/blood_PRO_expand['count_transcripts']"
   ]
  },
  {
   "cell_type": "code",
   "execution_count": 393,
   "metadata": {},
   "outputs": [],
   "source": [
    "blood_PRO_expand['Expressed Number - Transcript'] = blood_PRO_expand['Expressed Number']/blood_PRO_expand['count_transcripts']"
   ]
  },
  {
   "cell_type": "code",
   "execution_count": 394,
   "metadata": {},
   "outputs": [
    {
     "data": {
      "text/html": [
       "<div>\n",
       "<style>\n",
       "    .dataframe thead tr:only-child th {\n",
       "        text-align: right;\n",
       "    }\n",
       "\n",
       "    .dataframe thead th {\n",
       "        text-align: left;\n",
       "    }\n",
       "\n",
       "    .dataframe tbody tr th {\n",
       "        vertical-align: top;\n",
       "    }\n",
       "</style>\n",
       "<table border=\"1\" class=\"dataframe\">\n",
       "  <thead>\n",
       "    <tr style=\"text-align: right;\">\n",
       "      <th></th>\n",
       "      <th>Z_SCORE</th>\n",
       "      <th>ID_STUDY</th>\n",
       "      <th>gene_name</th>\n",
       "      <th>Z_SCORE_positive</th>\n",
       "      <th>Expressed Fraction</th>\n",
       "      <th>Expressed Number</th>\n",
       "      <th>start</th>\n",
       "      <th>transcript_id</th>\n",
       "      <th>end</th>\n",
       "      <th>chr</th>\n",
       "      <th>strand</th>\n",
       "      <th>gene_biotype</th>\n",
       "      <th>count_transcripts</th>\n",
       "      <th>Expressed Fraction - Transcript</th>\n",
       "      <th>Expressed Number - Transcript</th>\n",
       "    </tr>\n",
       "  </thead>\n",
       "  <tbody>\n",
       "    <tr>\n",
       "      <th>0</th>\n",
       "      <td>-0.31200</td>\n",
       "      <td>377</td>\n",
       "      <td>A2M</td>\n",
       "      <td>0.78600</td>\n",
       "      <td>0.00077</td>\n",
       "      <td>7668.88375</td>\n",
       "      <td>9268360</td>\n",
       "      <td>ENST00000318602</td>\n",
       "      <td>9268753</td>\n",
       "      <td>12</td>\n",
       "      <td>-</td>\n",
       "      <td>protein_coding</td>\n",
       "      <td>8</td>\n",
       "      <td>0.00010</td>\n",
       "      <td>958.61047</td>\n",
       "    </tr>\n",
       "    <tr>\n",
       "      <th>1</th>\n",
       "      <td>-0.31200</td>\n",
       "      <td>377</td>\n",
       "      <td>A2M</td>\n",
       "      <td>0.78600</td>\n",
       "      <td>0.00077</td>\n",
       "      <td>7668.88375</td>\n",
       "      <td>9268724</td>\n",
       "      <td>ENST00000404455</td>\n",
       "      <td>9268825</td>\n",
       "      <td>12</td>\n",
       "      <td>-</td>\n",
       "      <td>protein_coding</td>\n",
       "      <td>8</td>\n",
       "      <td>0.00010</td>\n",
       "      <td>958.61047</td>\n",
       "    </tr>\n",
       "  </tbody>\n",
       "</table>\n",
       "</div>"
      ],
      "text/plain": [
       "   Z_SCORE  ID_STUDY gene_name  Z_SCORE_positive  Expressed Fraction  \\\n",
       "0 -0.31200       377       A2M           0.78600             0.00077   \n",
       "1 -0.31200       377       A2M           0.78600             0.00077   \n",
       "\n",
       "   Expressed Number    start    transcript_id      end  chr strand  \\\n",
       "0        7668.88375  9268360  ENST00000318602  9268753   12      -   \n",
       "1        7668.88375  9268724  ENST00000404455  9268825   12      -   \n",
       "\n",
       "     gene_biotype  count_transcripts  Expressed Fraction - Transcript  \\\n",
       "0  protein_coding                  8                          0.00010   \n",
       "1  protein_coding                  8                          0.00010   \n",
       "\n",
       "   Expressed Number - Transcript  \n",
       "0                      958.61047  \n",
       "1                      958.61047  "
      ]
     },
     "execution_count": 394,
     "metadata": {},
     "output_type": "execute_result"
    }
   ],
   "source": [
    "blood_PRO_expand.head(2)"
   ]
  },
  {
   "cell_type": "code",
   "execution_count": 395,
   "metadata": {},
   "outputs": [
    {
     "data": {
      "text/plain": [
       "0.99999999999999711"
      ]
     },
     "execution_count": 395,
     "metadata": {},
     "output_type": "execute_result"
    }
   ],
   "source": [
    "sum(blood_PRO_expand['Expressed Fraction - Transcript'])"
   ]
  },
  {
   "cell_type": "code",
   "execution_count": 396,
   "metadata": {},
   "outputs": [
    {
     "data": {
      "text/plain": [
       "(6454, 15)"
      ]
     },
     "execution_count": 396,
     "metadata": {},
     "output_type": "execute_result"
    }
   ],
   "source": [
    "blood_PRO_expand.shape"
   ]
  },
  {
   "cell_type": "code",
   "execution_count": 397,
   "metadata": {},
   "outputs": [],
   "source": [
    "blood_PRO_expand_gene = blood_PRO_expand.drop_duplicates()"
   ]
  },
  {
   "cell_type": "markdown",
   "metadata": {},
   "source": [
    "> Add Locus column (chrom:start-end[W|C])"
   ]
  },
  {
   "cell_type": "code",
   "execution_count": 398,
   "metadata": {},
   "outputs": [],
   "source": [
    "blood_PRO_expand['strand_WC'] = pd.Series(blood_PRO_expand['strand']).str.replace('+', 'W')\n",
    "blood_PRO_expand['strand_WC'] = pd.Series(blood_PRO_expand['strand']).str.replace('-', 'C')"
   ]
  },
  {
   "cell_type": "code",
   "execution_count": 399,
   "metadata": {},
   "outputs": [
    {
     "data": {
      "text/html": [
       "<div>\n",
       "<style>\n",
       "    .dataframe thead tr:only-child th {\n",
       "        text-align: right;\n",
       "    }\n",
       "\n",
       "    .dataframe thead th {\n",
       "        text-align: left;\n",
       "    }\n",
       "\n",
       "    .dataframe tbody tr th {\n",
       "        vertical-align: top;\n",
       "    }\n",
       "</style>\n",
       "<table border=\"1\" class=\"dataframe\">\n",
       "  <thead>\n",
       "    <tr style=\"text-align: right;\">\n",
       "      <th></th>\n",
       "      <th>Z_SCORE</th>\n",
       "      <th>ID_STUDY</th>\n",
       "      <th>gene_name</th>\n",
       "      <th>Z_SCORE_positive</th>\n",
       "      <th>Expressed Fraction</th>\n",
       "      <th>Expressed Number</th>\n",
       "      <th>start</th>\n",
       "      <th>transcript_id</th>\n",
       "      <th>end</th>\n",
       "      <th>chr</th>\n",
       "      <th>strand</th>\n",
       "      <th>gene_biotype</th>\n",
       "      <th>count_transcripts</th>\n",
       "      <th>Expressed Fraction - Transcript</th>\n",
       "      <th>Expressed Number - Transcript</th>\n",
       "      <th>strand_WC</th>\n",
       "    </tr>\n",
       "  </thead>\n",
       "  <tbody>\n",
       "    <tr>\n",
       "      <th>0</th>\n",
       "      <td>-0.31200</td>\n",
       "      <td>377</td>\n",
       "      <td>A2M</td>\n",
       "      <td>0.78600</td>\n",
       "      <td>0.00077</td>\n",
       "      <td>7668.88375</td>\n",
       "      <td>9268360</td>\n",
       "      <td>ENST00000318602</td>\n",
       "      <td>9268753</td>\n",
       "      <td>12</td>\n",
       "      <td>-</td>\n",
       "      <td>protein_coding</td>\n",
       "      <td>8</td>\n",
       "      <td>0.00010</td>\n",
       "      <td>958.61047</td>\n",
       "      <td>C</td>\n",
       "    </tr>\n",
       "    <tr>\n",
       "      <th>1</th>\n",
       "      <td>-0.31200</td>\n",
       "      <td>377</td>\n",
       "      <td>A2M</td>\n",
       "      <td>0.78600</td>\n",
       "      <td>0.00077</td>\n",
       "      <td>7668.88375</td>\n",
       "      <td>9268724</td>\n",
       "      <td>ENST00000404455</td>\n",
       "      <td>9268825</td>\n",
       "      <td>12</td>\n",
       "      <td>-</td>\n",
       "      <td>protein_coding</td>\n",
       "      <td>8</td>\n",
       "      <td>0.00010</td>\n",
       "      <td>958.61047</td>\n",
       "      <td>C</td>\n",
       "    </tr>\n",
       "  </tbody>\n",
       "</table>\n",
       "</div>"
      ],
      "text/plain": [
       "   Z_SCORE  ID_STUDY gene_name  Z_SCORE_positive  Expressed Fraction  \\\n",
       "0 -0.31200       377       A2M           0.78600             0.00077   \n",
       "1 -0.31200       377       A2M           0.78600             0.00077   \n",
       "\n",
       "   Expressed Number    start    transcript_id      end  chr strand  \\\n",
       "0        7668.88375  9268360  ENST00000318602  9268753   12      -   \n",
       "1        7668.88375  9268724  ENST00000404455  9268825   12      -   \n",
       "\n",
       "     gene_biotype  count_transcripts  Expressed Fraction - Transcript  \\\n",
       "0  protein_coding                  8                          0.00010   \n",
       "1  protein_coding                  8                          0.00010   \n",
       "\n",
       "   Expressed Number - Transcript strand_WC  \n",
       "0                      958.61047         C  \n",
       "1                      958.61047         C  "
      ]
     },
     "execution_count": 399,
     "metadata": {},
     "output_type": "execute_result"
    }
   ],
   "source": [
    "blood_PRO_expand.head(2)"
   ]
  },
  {
   "cell_type": "code",
   "execution_count": 400,
   "metadata": {},
   "outputs": [],
   "source": [
    "blood_PRO_expand['Locus'] = blood_PRO_expand['chr'].astype(str) + \":\" + blood_PRO_expand['start'].astype(str) + \"-\" + blood_PRO_expand['end'].astype(str) + blood_PRO_expand['strand_WC'].astype(str)"
   ]
  },
  {
   "cell_type": "code",
   "execution_count": 401,
   "metadata": {},
   "outputs": [
    {
     "data": {
      "text/html": [
       "<div>\n",
       "<style>\n",
       "    .dataframe thead tr:only-child th {\n",
       "        text-align: right;\n",
       "    }\n",
       "\n",
       "    .dataframe thead th {\n",
       "        text-align: left;\n",
       "    }\n",
       "\n",
       "    .dataframe tbody tr th {\n",
       "        vertical-align: top;\n",
       "    }\n",
       "</style>\n",
       "<table border=\"1\" class=\"dataframe\">\n",
       "  <thead>\n",
       "    <tr style=\"text-align: right;\">\n",
       "      <th></th>\n",
       "      <th>Z_SCORE</th>\n",
       "      <th>ID_STUDY</th>\n",
       "      <th>gene_name</th>\n",
       "      <th>Z_SCORE_positive</th>\n",
       "      <th>Expressed Fraction</th>\n",
       "      <th>Expressed Number</th>\n",
       "      <th>start</th>\n",
       "      <th>transcript_id</th>\n",
       "      <th>end</th>\n",
       "      <th>chr</th>\n",
       "      <th>strand</th>\n",
       "      <th>gene_biotype</th>\n",
       "      <th>count_transcripts</th>\n",
       "      <th>Expressed Fraction - Transcript</th>\n",
       "      <th>Expressed Number - Transcript</th>\n",
       "      <th>strand_WC</th>\n",
       "      <th>Locus</th>\n",
       "    </tr>\n",
       "  </thead>\n",
       "  <tbody>\n",
       "    <tr>\n",
       "      <th>0</th>\n",
       "      <td>-0.31200</td>\n",
       "      <td>377</td>\n",
       "      <td>A2M</td>\n",
       "      <td>0.78600</td>\n",
       "      <td>0.00077</td>\n",
       "      <td>7668.88375</td>\n",
       "      <td>9268360</td>\n",
       "      <td>ENST00000318602</td>\n",
       "      <td>9268753</td>\n",
       "      <td>12</td>\n",
       "      <td>-</td>\n",
       "      <td>protein_coding</td>\n",
       "      <td>8</td>\n",
       "      <td>0.00010</td>\n",
       "      <td>958.61047</td>\n",
       "      <td>C</td>\n",
       "      <td>12:9268360-9268753C</td>\n",
       "    </tr>\n",
       "    <tr>\n",
       "      <th>1</th>\n",
       "      <td>-0.31200</td>\n",
       "      <td>377</td>\n",
       "      <td>A2M</td>\n",
       "      <td>0.78600</td>\n",
       "      <td>0.00077</td>\n",
       "      <td>7668.88375</td>\n",
       "      <td>9268724</td>\n",
       "      <td>ENST00000404455</td>\n",
       "      <td>9268825</td>\n",
       "      <td>12</td>\n",
       "      <td>-</td>\n",
       "      <td>protein_coding</td>\n",
       "      <td>8</td>\n",
       "      <td>0.00010</td>\n",
       "      <td>958.61047</td>\n",
       "      <td>C</td>\n",
       "      <td>12:9268724-9268825C</td>\n",
       "    </tr>\n",
       "  </tbody>\n",
       "</table>\n",
       "</div>"
      ],
      "text/plain": [
       "   Z_SCORE  ID_STUDY gene_name  Z_SCORE_positive  Expressed Fraction  \\\n",
       "0 -0.31200       377       A2M           0.78600             0.00077   \n",
       "1 -0.31200       377       A2M           0.78600             0.00077   \n",
       "\n",
       "   Expressed Number    start    transcript_id      end  chr strand  \\\n",
       "0        7668.88375  9268360  ENST00000318602  9268753   12      -   \n",
       "1        7668.88375  9268724  ENST00000404455  9268825   12      -   \n",
       "\n",
       "     gene_biotype  count_transcripts  Expressed Fraction - Transcript  \\\n",
       "0  protein_coding                  8                          0.00010   \n",
       "1  protein_coding                  8                          0.00010   \n",
       "\n",
       "   Expressed Number - Transcript strand_WC                Locus  \n",
       "0                      958.61047         C  12:9268360-9268753C  \n",
       "1                      958.61047         C  12:9268724-9268825C  "
      ]
     },
     "execution_count": 401,
     "metadata": {},
     "output_type": "execute_result"
    }
   ],
   "source": [
    "blood_PRO_expand.head(2)"
   ]
  },
  {
   "cell_type": "code",
   "execution_count": 425,
   "metadata": {},
   "outputs": [],
   "source": [
    "blood_PRO_expand['Locus_v2'] = blood_PRO_expand['chr'].astype(str) + \":\" + blood_PRO_expand['start'].astype(str) + \"-\" + blood_PRO_expand['end'].astype(str) + blood_PRO_expand['strand'].astype(str)"
   ]
  },
  {
   "cell_type": "code",
   "execution_count": 426,
   "metadata": {},
   "outputs": [
    {
     "data": {
      "text/html": [
       "<div>\n",
       "<style>\n",
       "    .dataframe thead tr:only-child th {\n",
       "        text-align: right;\n",
       "    }\n",
       "\n",
       "    .dataframe thead th {\n",
       "        text-align: left;\n",
       "    }\n",
       "\n",
       "    .dataframe tbody tr th {\n",
       "        vertical-align: top;\n",
       "    }\n",
       "</style>\n",
       "<table border=\"1\" class=\"dataframe\">\n",
       "  <thead>\n",
       "    <tr style=\"text-align: right;\">\n",
       "      <th></th>\n",
       "      <th>Z_SCORE</th>\n",
       "      <th>ID_STUDY</th>\n",
       "      <th>gene_name</th>\n",
       "      <th>Z_SCORE_positive</th>\n",
       "      <th>Expressed Fraction</th>\n",
       "      <th>Expressed Number</th>\n",
       "      <th>start</th>\n",
       "      <th>transcript_id</th>\n",
       "      <th>end</th>\n",
       "      <th>chr</th>\n",
       "      <th>strand</th>\n",
       "      <th>gene_biotype</th>\n",
       "      <th>count_transcripts</th>\n",
       "      <th>Expressed Fraction - Transcript</th>\n",
       "      <th>Expressed Number - Transcript</th>\n",
       "      <th>strand_WC</th>\n",
       "      <th>Locus</th>\n",
       "      <th>Coding</th>\n",
       "      <th>Length</th>\n",
       "      <th>Locus_v2</th>\n",
       "    </tr>\n",
       "  </thead>\n",
       "  <tbody>\n",
       "    <tr>\n",
       "      <th>0</th>\n",
       "      <td>-0.31200</td>\n",
       "      <td>377</td>\n",
       "      <td>A2M</td>\n",
       "      <td>0.78600</td>\n",
       "      <td>0.00077</td>\n",
       "      <td>7668.88375</td>\n",
       "      <td>9268360</td>\n",
       "      <td>ENST00000318602</td>\n",
       "      <td>9268753</td>\n",
       "      <td>12</td>\n",
       "      <td>-</td>\n",
       "      <td>protein_coding</td>\n",
       "      <td>8</td>\n",
       "      <td>0.00010</td>\n",
       "      <td>958.61047</td>\n",
       "      <td>C</td>\n",
       "      <td>12:9268360-9268753C</td>\n",
       "      <td>CDS</td>\n",
       "      <td>393</td>\n",
       "      <td>12:9268360-9268753-</td>\n",
       "    </tr>\n",
       "    <tr>\n",
       "      <th>1</th>\n",
       "      <td>-0.31200</td>\n",
       "      <td>377</td>\n",
       "      <td>A2M</td>\n",
       "      <td>0.78600</td>\n",
       "      <td>0.00077</td>\n",
       "      <td>7668.88375</td>\n",
       "      <td>9268724</td>\n",
       "      <td>ENST00000404455</td>\n",
       "      <td>9268825</td>\n",
       "      <td>12</td>\n",
       "      <td>-</td>\n",
       "      <td>protein_coding</td>\n",
       "      <td>8</td>\n",
       "      <td>0.00010</td>\n",
       "      <td>958.61047</td>\n",
       "      <td>C</td>\n",
       "      <td>12:9268724-9268825C</td>\n",
       "      <td>CDS</td>\n",
       "      <td>101</td>\n",
       "      <td>12:9268724-9268825-</td>\n",
       "    </tr>\n",
       "  </tbody>\n",
       "</table>\n",
       "</div>"
      ],
      "text/plain": [
       "   Z_SCORE  ID_STUDY gene_name  Z_SCORE_positive  Expressed Fraction  \\\n",
       "0 -0.31200       377       A2M           0.78600             0.00077   \n",
       "1 -0.31200       377       A2M           0.78600             0.00077   \n",
       "\n",
       "   Expressed Number    start    transcript_id      end  chr strand  \\\n",
       "0        7668.88375  9268360  ENST00000318602  9268753   12      -   \n",
       "1        7668.88375  9268724  ENST00000404455  9268825   12      -   \n",
       "\n",
       "     gene_biotype  count_transcripts  Expressed Fraction - Transcript  \\\n",
       "0  protein_coding                  8                          0.00010   \n",
       "1  protein_coding                  8                          0.00010   \n",
       "\n",
       "   Expressed Number - Transcript strand_WC                Locus Coding  \\\n",
       "0                      958.61047         C  12:9268360-9268753C    CDS   \n",
       "1                      958.61047         C  12:9268724-9268825C    CDS   \n",
       "\n",
       "   Length             Locus_v2  \n",
       "0     393  12:9268360-9268753-  \n",
       "1     101  12:9268724-9268825-  "
      ]
     },
     "execution_count": 426,
     "metadata": {},
     "output_type": "execute_result"
    }
   ],
   "source": [
    "blood_PRO_expand.head(2)"
   ]
  },
  {
   "cell_type": "code",
   "execution_count": 402,
   "metadata": {},
   "outputs": [],
   "source": [
    "# For now, all genes are coding ... \n",
    "# blood_PRO_expand['Coding'] = 'CDS'"
   ]
  },
  {
   "cell_type": "code",
   "execution_count": 413,
   "metadata": {},
   "outputs": [],
   "source": [
    "def determine_coding(x):\n",
    "    if x=='protein_coding':\n",
    "        return('CDS')\n",
    "    else:\n",
    "        return('NC')"
   ]
  },
  {
   "cell_type": "code",
   "execution_count": 414,
   "metadata": {},
   "outputs": [],
   "source": [
    "blood_PRO_expand['Coding'] = blood_PRO_expand['gene_biotype'].map(determine_coding)"
   ]
  },
  {
   "cell_type": "code",
   "execution_count": 416,
   "metadata": {},
   "outputs": [
    {
     "data": {
      "text/plain": [
       "array(['CDS', 'NC'], dtype=object)"
      ]
     },
     "execution_count": 416,
     "metadata": {},
     "output_type": "execute_result"
    }
   ],
   "source": [
    "np.unique(np.array(blood_PRO_expand['Coding']))"
   ]
  },
  {
   "cell_type": "code",
   "execution_count": 417,
   "metadata": {},
   "outputs": [],
   "source": [
    "blood_PRO_expand['Length'] = blood_PRO_expand['end'] - blood_PRO_expand['start']"
   ]
  },
  {
   "cell_type": "code",
   "execution_count": 418,
   "metadata": {},
   "outputs": [],
   "source": [
    "blood_PRO_final = blood_PRO_expand[['Locus', 'transcript_id', 'Coding', 'Length', 'Expressed Fraction - Transcript', 'Expressed Number - Transcript']]"
   ]
  },
  {
   "cell_type": "code",
   "execution_count": 431,
   "metadata": {},
   "outputs": [],
   "source": [
    "blood_PRO_final_v2 = blood_PRO_expand[['Locus_v2', 'transcript_id', 'Coding', 'Length', 'Expressed Fraction - Transcript', 'Expressed Number - Transcript']]"
   ]
  },
  {
   "cell_type": "code",
   "execution_count": 419,
   "metadata": {},
   "outputs": [],
   "source": [
    "blood_PRO_final.columns = ['Locus', 'Transcript_ID', 'Coding', 'Length', 'Expressed Fraction', 'Expressed Number']"
   ]
  },
  {
   "cell_type": "code",
   "execution_count": 432,
   "metadata": {},
   "outputs": [],
   "source": [
    "blood_PRO_final_v2.columns = ['Locus', 'Transcript_ID', 'Coding', 'Length', 'Expressed Fraction', 'Expressed Number']"
   ]
  },
  {
   "cell_type": "code",
   "execution_count": 422,
   "metadata": {},
   "outputs": [
    {
     "name": "stderr",
     "output_type": "stream",
     "text": [
      "/Users/mylinhthibodeau/anaconda3/lib/python3.6/site-packages/ipykernel_launcher.py:1: SettingWithCopyWarning: \n",
      "A value is trying to be set on a copy of a slice from a DataFrame.\n",
      "Try using .loc[row_indexer,col_indexer] = value instead\n",
      "\n",
      "See the caveats in the documentation: http://pandas.pydata.org/pandas-docs/stable/indexing.html#indexing-view-versus-copy\n",
      "  \"\"\"Entry point for launching an IPython kernel.\n"
     ]
    }
   ],
   "source": [
    "# blood_PRO_final['Exp_v2'] = blood_PRO_final['Expressed Fraction'].astype(str)"
   ]
  },
  {
   "cell_type": "code",
   "execution_count": 433,
   "metadata": {},
   "outputs": [
    {
     "data": {
      "text/html": [
       "<div>\n",
       "<style>\n",
       "    .dataframe thead tr:only-child th {\n",
       "        text-align: right;\n",
       "    }\n",
       "\n",
       "    .dataframe thead th {\n",
       "        text-align: left;\n",
       "    }\n",
       "\n",
       "    .dataframe tbody tr th {\n",
       "        vertical-align: top;\n",
       "    }\n",
       "</style>\n",
       "<table border=\"1\" class=\"dataframe\">\n",
       "  <thead>\n",
       "    <tr style=\"text-align: right;\">\n",
       "      <th></th>\n",
       "      <th>Locus</th>\n",
       "      <th>Transcript_ID</th>\n",
       "      <th>Coding</th>\n",
       "      <th>Length</th>\n",
       "      <th>Expressed Fraction</th>\n",
       "      <th>Expressed Number</th>\n",
       "      <th>Exp_v2</th>\n",
       "    </tr>\n",
       "  </thead>\n",
       "  <tbody>\n",
       "    <tr>\n",
       "      <th>0</th>\n",
       "      <td>12:9268360-9268753C</td>\n",
       "      <td>ENST00000318602</td>\n",
       "      <td>CDS</td>\n",
       "      <td>393</td>\n",
       "      <td>0.00010</td>\n",
       "      <td>958.61047</td>\n",
       "      <td>9.58610468514e-05</td>\n",
       "    </tr>\n",
       "    <tr>\n",
       "      <th>1</th>\n",
       "      <td>12:9268724-9268825C</td>\n",
       "      <td>ENST00000404455</td>\n",
       "      <td>CDS</td>\n",
       "      <td>101</td>\n",
       "      <td>0.00010</td>\n",
       "      <td>958.61047</td>\n",
       "      <td>9.58610468514e-05</td>\n",
       "    </tr>\n",
       "  </tbody>\n",
       "</table>\n",
       "</div>"
      ],
      "text/plain": [
       "                 Locus    Transcript_ID Coding  Length  Expressed Fraction  \\\n",
       "0  12:9268360-9268753C  ENST00000318602    CDS     393             0.00010   \n",
       "1  12:9268724-9268825C  ENST00000404455    CDS     101             0.00010   \n",
       "\n",
       "   Expressed Number             Exp_v2  \n",
       "0         958.61047  9.58610468514e-05  \n",
       "1         958.61047  9.58610468514e-05  "
      ]
     },
     "execution_count": 433,
     "metadata": {},
     "output_type": "execute_result"
    }
   ],
   "source": [
    "blood_PRO_final.head(2)"
   ]
  },
  {
   "cell_type": "code",
   "execution_count": 434,
   "metadata": {},
   "outputs": [
    {
     "data": {
      "text/html": [
       "<div>\n",
       "<style>\n",
       "    .dataframe thead tr:only-child th {\n",
       "        text-align: right;\n",
       "    }\n",
       "\n",
       "    .dataframe thead th {\n",
       "        text-align: left;\n",
       "    }\n",
       "\n",
       "    .dataframe tbody tr th {\n",
       "        vertical-align: top;\n",
       "    }\n",
       "</style>\n",
       "<table border=\"1\" class=\"dataframe\">\n",
       "  <thead>\n",
       "    <tr style=\"text-align: right;\">\n",
       "      <th></th>\n",
       "      <th>Locus</th>\n",
       "      <th>Transcript_ID</th>\n",
       "      <th>Coding</th>\n",
       "      <th>Length</th>\n",
       "      <th>Expressed Fraction</th>\n",
       "      <th>Expressed Number</th>\n",
       "    </tr>\n",
       "  </thead>\n",
       "  <tbody>\n",
       "    <tr>\n",
       "      <th>0</th>\n",
       "      <td>12:9268360-9268753-</td>\n",
       "      <td>ENST00000318602</td>\n",
       "      <td>CDS</td>\n",
       "      <td>393</td>\n",
       "      <td>0.00010</td>\n",
       "      <td>958.61047</td>\n",
       "    </tr>\n",
       "    <tr>\n",
       "      <th>1</th>\n",
       "      <td>12:9268724-9268825-</td>\n",
       "      <td>ENST00000404455</td>\n",
       "      <td>CDS</td>\n",
       "      <td>101</td>\n",
       "      <td>0.00010</td>\n",
       "      <td>958.61047</td>\n",
       "    </tr>\n",
       "    <tr>\n",
       "      <th>2</th>\n",
       "      <td>12:9242952-9243126-</td>\n",
       "      <td>ENST00000462568</td>\n",
       "      <td>CDS</td>\n",
       "      <td>174</td>\n",
       "      <td>0.00010</td>\n",
       "      <td>958.61047</td>\n",
       "    </tr>\n",
       "    <tr>\n",
       "      <th>3</th>\n",
       "      <td>12:9254043-9254152-</td>\n",
       "      <td>ENST00000472360</td>\n",
       "      <td>CDS</td>\n",
       "      <td>109</td>\n",
       "      <td>0.00010</td>\n",
       "      <td>958.61047</td>\n",
       "    </tr>\n",
       "    <tr>\n",
       "      <th>4</th>\n",
       "      <td>12:9221336-9221551-</td>\n",
       "      <td>ENST00000495442</td>\n",
       "      <td>CDS</td>\n",
       "      <td>215</td>\n",
       "      <td>0.00010</td>\n",
       "      <td>958.61047</td>\n",
       "    </tr>\n",
       "  </tbody>\n",
       "</table>\n",
       "</div>"
      ],
      "text/plain": [
       "                 Locus    Transcript_ID Coding  Length  Expressed Fraction  \\\n",
       "0  12:9268360-9268753-  ENST00000318602    CDS     393             0.00010   \n",
       "1  12:9268724-9268825-  ENST00000404455    CDS     101             0.00010   \n",
       "2  12:9242952-9243126-  ENST00000462568    CDS     174             0.00010   \n",
       "3  12:9254043-9254152-  ENST00000472360    CDS     109             0.00010   \n",
       "4  12:9221336-9221551-  ENST00000495442    CDS     215             0.00010   \n",
       "\n",
       "   Expressed Number  \n",
       "0         958.61047  \n",
       "1         958.61047  \n",
       "2         958.61047  \n",
       "3         958.61047  \n",
       "4         958.61047  "
      ]
     },
     "execution_count": 434,
     "metadata": {},
     "output_type": "execute_result"
    }
   ],
   "source": [
    "blood_PRO_final_v2.head()"
   ]
  },
  {
   "cell_type": "code",
   "execution_count": 421,
   "metadata": {},
   "outputs": [],
   "source": [
    "blood_PRO_final.to_csv('../tables_output/blood_PRO_final_v2.tsv', sep = \"\\t\", index = False, header = None)"
   ]
  },
  {
   "cell_type": "code",
   "execution_count": 435,
   "metadata": {},
   "outputs": [],
   "source": [
    "blood_PRO_final_v2.to_csv('../tables_output/blood_PRO_final_v3.tsv', sep = \"\\t\", index = False, header = None)"
   ]
  },
  {
   "cell_type": "code",
   "execution_count": null,
   "metadata": {},
   "outputs": [],
   "source": []
  }
 ],
 "metadata": {
  "kernelspec": {
   "display_name": "Python 3",
   "language": "python",
   "name": "python3"
  },
  "language_info": {
   "codemirror_mode": {
    "name": "ipython",
    "version": 3
   },
   "file_extension": ".py",
   "mimetype": "text/x-python",
   "name": "python",
   "nbconvert_exporter": "python",
   "pygments_lexer": "ipython3",
   "version": "3.6.3"
  }
 },
 "nbformat": 4,
 "nbformat_minor": 2
}
