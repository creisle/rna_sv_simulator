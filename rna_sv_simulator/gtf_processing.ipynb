{
 "cells": [
  {
   "cell_type": "code",
   "execution_count": 2,
   "metadata": {},
   "outputs": [],
   "source": [
    "import pandas as pd\n",
    "import numpy as np\n",
    "import os\n",
    "import sys\n",
    "import re\n",
    "\n",
    "import warnings\n",
    "warnings.filterwarnings('ignore')"
   ]
  },
  {
   "cell_type": "code",
   "execution_count": 3,
   "metadata": {},
   "outputs": [],
   "source": [
    "ens69_gtf = pd.read_table(\"../raw_data/Homo_sapiens.GRCh37.69.gtf\", header = None, sep = '\\t')"
   ]
  },
  {
   "cell_type": "code",
   "execution_count": 5,
   "metadata": {},
   "outputs": [],
   "source": [
    "ens69_gtf.columns = ['chr', 'rna_type', 'transcript_region', 'start', 'end', '5', 'strand', '7', 'transcript_info']"
   ]
  },
  {
   "cell_type": "code",
   "execution_count": 7,
   "metadata": {},
   "outputs": [],
   "source": [
    "def tidy_split(df, column, sep=';', keep=False):\n",
    "    \"\"\"\n",
    "    Split the values of a column and expand so the new DataFrame has one split\n",
    "    value per row. Filters rows where the column is missing.\n",
    "    Params\n",
    "    ------\n",
    "    df : pandas.DataFrame\n",
    "        dataframe with the column to split and expand\n",
    "    column : str\n",
    "        the column to split and expand\n",
    "    sep : str\n",
    "        the string used to split the column's values\n",
    "    keep : bool\n",
    "        whether to retain the presplit value as it's own row\n",
    "    Returns\n",
    "    -------\n",
    "    pandas.DataFrame\n",
    "        Returns a dataframe with the same columns as `df`.\n",
    "    \"\"\"\n",
    "    indexes = list()\n",
    "    new_values = list()\n",
    "    df = df.dropna(subset=[column])\n",
    "    for i, presplit in enumerate(df[column].astype(str)):\n",
    "        values = presplit.split(sep)\n",
    "        if keep and len(values) > 1:\n",
    "            indexes.append(i)\n",
    "            new_values.append(presplit)\n",
    "        for value in values:\n",
    "            indexes.append(i)\n",
    "            new_values.append(value)\n",
    "    new_df = df.iloc[indexes, :].copy()\n",
    "    new_df[column] = new_values\n",
    "    return new_df.reset_index(drop=True)"
   ]
  },
  {
   "cell_type": "code",
   "execution_count": 8,
   "metadata": {},
   "outputs": [],
   "source": [
    "info_data = ens69_gtf['transcript_info'].str.split(';', expand=True)\n",
    "info_data = info_data.iloc[:, :7]\n",
    "info_data.columns = ['gene_id', 'transcript_id', 'exon_number', 'gene_name', \n",
    "                     'gene_biotype', 'transcript_name', 'exon_id']\n",
    "info_data = info_data.fillna('exon id \"none\"')\n",
    "info_data['exon_id'] = info_data['exon_id'].replace('', 'exon id \"none\"')"
   ]
  },
  {
   "cell_type": "code",
   "execution_count": 9,
   "metadata": {},
   "outputs": [],
   "source": [
    "def update_columns(data, column):\n",
    "    data[column] = data[column].map(lambda x: x.split('\"')[1])\n",
    "    return data\n",
    "    \n",
    "for i in info_data.columns:\n",
    "    info_data = update_columns(info_data, i)"
   ]
  },
  {
   "cell_type": "code",
   "execution_count": 83,
   "metadata": {},
   "outputs": [],
   "source": [
    "ens69_gtf_expand = pd.concat([ens69_gtf, info_data], axis=1)"
   ]
  },
  {
   "cell_type": "code",
   "execution_count": 84,
   "metadata": {},
   "outputs": [
    {
     "data": {
      "text/html": [
       "<div>\n",
       "<style scoped>\n",
       "    .dataframe tbody tr th:only-of-type {\n",
       "        vertical-align: middle;\n",
       "    }\n",
       "\n",
       "    .dataframe tbody tr th {\n",
       "        vertical-align: top;\n",
       "    }\n",
       "\n",
       "    .dataframe thead th {\n",
       "        text-align: right;\n",
       "    }\n",
       "</style>\n",
       "<table border=\"1\" class=\"dataframe\">\n",
       "  <thead>\n",
       "    <tr style=\"text-align: right;\">\n",
       "      <th></th>\n",
       "      <th>chr</th>\n",
       "      <th>rna_type</th>\n",
       "      <th>transcript_region</th>\n",
       "      <th>start</th>\n",
       "      <th>end</th>\n",
       "      <th>5</th>\n",
       "      <th>strand</th>\n",
       "      <th>7</th>\n",
       "      <th>transcript_info</th>\n",
       "      <th>gene_id</th>\n",
       "      <th>transcript_id</th>\n",
       "      <th>exon_number</th>\n",
       "      <th>gene_name</th>\n",
       "      <th>gene_biotype</th>\n",
       "      <th>transcript_name</th>\n",
       "      <th>exon_id</th>\n",
       "    </tr>\n",
       "  </thead>\n",
       "  <tbody>\n",
       "    <tr>\n",
       "      <th>0</th>\n",
       "      <td>GL000213.1</td>\n",
       "      <td>miRNA</td>\n",
       "      <td>exon</td>\n",
       "      <td>104742</td>\n",
       "      <td>104817</td>\n",
       "      <td>.</td>\n",
       "      <td>+</td>\n",
       "      <td>.</td>\n",
       "      <td>gene_id \"ENSG00000265283\"; transcript_id \"ENS...</td>\n",
       "      <td>ENSG00000265283</td>\n",
       "      <td>ENST00000578976</td>\n",
       "      <td>1</td>\n",
       "      <td>MIR3118-5</td>\n",
       "      <td>miRNA</td>\n",
       "      <td>MIR3118-5-201</td>\n",
       "      <td>ENSE00002688538</td>\n",
       "    </tr>\n",
       "    <tr>\n",
       "      <th>1</th>\n",
       "      <td>GL000213.1</td>\n",
       "      <td>protein_coding</td>\n",
       "      <td>exon</td>\n",
       "      <td>138767</td>\n",
       "      <td>139339</td>\n",
       "      <td>.</td>\n",
       "      <td>-</td>\n",
       "      <td>.</td>\n",
       "      <td>gene_id \"ENSG00000237375\"; transcript_id \"ENS...</td>\n",
       "      <td>ENSG00000237375</td>\n",
       "      <td>ENST00000327822</td>\n",
       "      <td>1</td>\n",
       "      <td>BX072566.1</td>\n",
       "      <td>protein_coding</td>\n",
       "      <td>BX072566.1-201</td>\n",
       "      <td>ENSE00001628136</td>\n",
       "    </tr>\n",
       "  </tbody>\n",
       "</table>\n",
       "</div>"
      ],
      "text/plain": [
       "          chr        rna_type transcript_region   start     end  5 strand  7  \\\n",
       "0  GL000213.1           miRNA              exon  104742  104817  .      +  .   \n",
       "1  GL000213.1  protein_coding              exon  138767  139339  .      -  .   \n",
       "\n",
       "                                     transcript_info          gene_id  \\\n",
       "0   gene_id \"ENSG00000265283\"; transcript_id \"ENS...  ENSG00000265283   \n",
       "1   gene_id \"ENSG00000237375\"; transcript_id \"ENS...  ENSG00000237375   \n",
       "\n",
       "     transcript_id exon_number   gene_name    gene_biotype transcript_name  \\\n",
       "0  ENST00000578976           1   MIR3118-5           miRNA   MIR3118-5-201   \n",
       "1  ENST00000327822           1  BX072566.1  protein_coding  BX072566.1-201   \n",
       "\n",
       "           exon_id  \n",
       "0  ENSE00002688538  \n",
       "1  ENSE00001628136  "
      ]
     },
     "execution_count": 84,
     "metadata": {},
     "output_type": "execute_result"
    }
   ],
   "source": [
    "ens69_gtf_expand.head(2)"
   ]
  },
  {
   "cell_type": "code",
   "execution_count": 85,
   "metadata": {},
   "outputs": [],
   "source": [
    "ens69_gtf_expand['chr'] = ens69_gtf_expand['chr'].astype(str)"
   ]
  },
  {
   "cell_type": "code",
   "execution_count": 80,
   "metadata": {},
   "outputs": [],
   "source": [
    "# ens69_gtf_expand = ens69_gtf_expand.rename(columns={'start': 'tx_start', 'end': 'tx_end'})"
   ]
  },
  {
   "cell_type": "code",
   "execution_count": 86,
   "metadata": {},
   "outputs": [],
   "source": [
    "chromosomes_lst = ['1', '2', '3', '4', '5', '6', '7', '8', '9', '10', '11', '12', '13', '14', '15', '16', '17', '18', '19', '20', '21', 'X', 'Y']"
   ]
  },
  {
   "cell_type": "code",
   "execution_count": 19,
   "metadata": {},
   "outputs": [],
   "source": [
    "# ens69_gtf_expand['chr'].unique()"
   ]
  },
  {
   "cell_type": "code",
   "execution_count": 87,
   "metadata": {},
   "outputs": [],
   "source": [
    "ens69_gtf_chr = ens69_gtf_expand[ens69_gtf_expand['chr'].isin(chromosomes_lst )]"
   ]
  },
  {
   "cell_type": "code",
   "execution_count": 88,
   "metadata": {},
   "outputs": [],
   "source": [
    "transcripts_min = ens69_gtf_chr.groupby(['transcript_id'])[['start']].first().drop_duplicates()\n",
    "transcripts_min = transcripts_min.dropna()\n",
    "transcripts_min['transcript_id'] = transcripts_min.index\n",
    "transcripts_min = transcripts_min.dropna()\n",
    "transcripts_min = transcripts_min.reset_index(drop = True)"
   ]
  },
  {
   "cell_type": "code",
   "execution_count": 89,
   "metadata": {},
   "outputs": [],
   "source": [
    "transcripts_max = ens69_gtf_chr.groupby(['transcript_id'])[['end']].max().drop_duplicates()\n",
    "transcripts_max = transcripts_max.dropna()\n",
    "transcripts_max['transcript_id'] = transcripts_max.index \n",
    "transcripts_max = transcripts_max.dropna()\n",
    "transcripts_max = transcripts_max.reset_index(drop  = True)"
   ]
  },
  {
   "cell_type": "code",
   "execution_count": 91,
   "metadata": {},
   "outputs": [],
   "source": [
    "transcripts_start_end = pd.merge(transcripts_min, transcripts_max, how= 'left')\n",
    "\n",
    "transcripts_start_end = transcripts_start_end.rename(columns={'start': 'tx_start', 'end': 'tx_end'})"
   ]
  },
  {
   "cell_type": "code",
   "execution_count": 92,
   "metadata": {},
   "outputs": [],
   "source": [
    "# Write start/end of full transcripts to file \n",
    "transcripts_start_end.to_csv(\"../tables_output/all_chr_start_end_transcripts.tsv\", sep = '\\t', index = False)"
   ]
  },
  {
   "cell_type": "markdown",
   "metadata": {},
   "source": [
    "## Find start and end genes (for .PRO preparation)"
   ]
  },
  {
   "cell_type": "code",
   "execution_count": 109,
   "metadata": {},
   "outputs": [],
   "source": [
    "ens69_gtf_chr_subset = ens69_gtf_chr[['chr', 'gene_name', 'strand', 'transcript_id', 'gene_id', 'gene_biotype']]"
   ]
  },
  {
   "cell_type": "code",
   "execution_count": 110,
   "metadata": {},
   "outputs": [],
   "source": [
    "transcripts_start_end_genes = pd.merge(transcripts_start_end, ens69_gtf_chr_subset, how = 'left')\n",
    "transcripts_start_end_genes = transcripts_start_end_genes.dropna()"
   ]
  },
  {
   "cell_type": "code",
   "execution_count": 111,
   "metadata": {},
   "outputs": [],
   "source": [
    "transcripts_start_end_genes['tx_end'] = transcripts_start_end_genes['tx_end'].astype(int)"
   ]
  },
  {
   "cell_type": "code",
   "execution_count": 124,
   "metadata": {},
   "outputs": [],
   "source": [
    "transcripts_start_end_genes = transcripts_start_end_genes.drop_duplicates()\n",
    "transcripts_start_end_genes = transcripts_start_end_genes.sort_values(['chr','tx_start',  'gene_id' , 'gene_name'])"
   ]
  },
  {
   "cell_type": "code",
   "execution_count": 125,
   "metadata": {},
   "outputs": [],
   "source": [
    "transcripts_start_end_genes.to_csv(\"../tables_output/all_chr_transcripts_start_end_genes.tsv\", sep = '\\t', index = False)"
   ]
  },
  {
   "cell_type": "code",
   "execution_count": 126,
   "metadata": {},
   "outputs": [],
   "source": [
    "transcripts_start_end_genes.reset_index(inplace = True, drop = True)"
   ]
  },
  {
   "cell_type": "code",
   "execution_count": 127,
   "metadata": {},
   "outputs": [],
   "source": [
    "transcripts_start_end_genes['tx_len'] = transcripts_start_end_genes['tx_end'] - transcripts_start_end_genes['tx_start']"
   ]
  },
  {
   "cell_type": "code",
   "execution_count": 128,
   "metadata": {},
   "outputs": [],
   "source": [
    "# Count the number of transcripts and assume equal contribution of RNA from each transcript not accounting for length\n",
    "transcripts_start_end_genes['count_transcripts'] = transcripts_start_end_genes.groupby('gene_id')['gene_id'].transform('count')"
   ]
  },
  {
   "cell_type": "code",
   "execution_count": 129,
   "metadata": {},
   "outputs": [],
   "source": [
    "transcripts_start_end_genes['sum_tx_len'] = transcripts_start_end_genes.groupby('gene_name')['tx_len'].transform('sum')"
   ]
  },
  {
   "cell_type": "code",
   "execution_count": 130,
   "metadata": {},
   "outputs": [
    {
     "data": {
      "text/html": [
       "<div>\n",
       "<style scoped>\n",
       "    .dataframe tbody tr th:only-of-type {\n",
       "        vertical-align: middle;\n",
       "    }\n",
       "\n",
       "    .dataframe tbody tr th {\n",
       "        vertical-align: top;\n",
       "    }\n",
       "\n",
       "    .dataframe thead th {\n",
       "        text-align: right;\n",
       "    }\n",
       "</style>\n",
       "<table border=\"1\" class=\"dataframe\">\n",
       "  <thead>\n",
       "    <tr style=\"text-align: right;\">\n",
       "      <th></th>\n",
       "      <th>tx_start</th>\n",
       "      <th>transcript_id</th>\n",
       "      <th>tx_end</th>\n",
       "      <th>chr</th>\n",
       "      <th>gene_name</th>\n",
       "      <th>strand</th>\n",
       "      <th>gene_id</th>\n",
       "      <th>gene_biotype</th>\n",
       "      <th>tx_len</th>\n",
       "      <th>count_transcripts</th>\n",
       "      <th>sum_tx_len</th>\n",
       "    </tr>\n",
       "  </thead>\n",
       "  <tbody>\n",
       "    <tr>\n",
       "      <th>0</th>\n",
       "      <td>11869</td>\n",
       "      <td>ENST00000456328</td>\n",
       "      <td>14409</td>\n",
       "      <td>1</td>\n",
       "      <td>DDX11L1</td>\n",
       "      <td>+</td>\n",
       "      <td>ENSG00000223972</td>\n",
       "      <td>pseudogene</td>\n",
       "      <td>2540</td>\n",
       "      <td>3</td>\n",
       "      <td>6740</td>\n",
       "    </tr>\n",
       "    <tr>\n",
       "      <th>1</th>\n",
       "      <td>11872</td>\n",
       "      <td>ENST00000515242</td>\n",
       "      <td>14412</td>\n",
       "      <td>1</td>\n",
       "      <td>DDX11L1</td>\n",
       "      <td>+</td>\n",
       "      <td>ENSG00000223972</td>\n",
       "      <td>pseudogene</td>\n",
       "      <td>2540</td>\n",
       "      <td>3</td>\n",
       "      <td>6740</td>\n",
       "    </tr>\n",
       "  </tbody>\n",
       "</table>\n",
       "</div>"
      ],
      "text/plain": [
       "   tx_start    transcript_id  tx_end chr gene_name strand          gene_id  \\\n",
       "0     11869  ENST00000456328   14409   1   DDX11L1      +  ENSG00000223972   \n",
       "1     11872  ENST00000515242   14412   1   DDX11L1      +  ENSG00000223972   \n",
       "\n",
       "  gene_biotype  tx_len  count_transcripts  sum_tx_len  \n",
       "0   pseudogene    2540                  3        6740  \n",
       "1   pseudogene    2540                  3        6740  "
      ]
     },
     "execution_count": 130,
     "metadata": {},
     "output_type": "execute_result"
    }
   ],
   "source": [
    "transcripts_start_end_genes.head(2)"
   ]
  },
  {
   "cell_type": "code",
   "execution_count": 132,
   "metadata": {},
   "outputs": [],
   "source": [
    "transcripts_start_end_genes_coding = transcripts_start_end_genes[transcripts_start_end_genes['gene_biotype'] == \"protein_coding\"]"
   ]
  },
  {
   "cell_type": "code",
   "execution_count": 135,
   "metadata": {},
   "outputs": [],
   "source": [
    "transcripts_start_end_genes_coding = transcripts_start_end_genes_coding.sort_values(by = ['chr','tx_start',  'gene_id' , 'gene_name'])\n",
    "\n",
    "transcripts_start_end_genes_coding = transcripts_start_end_genes_coding.reset_index(drop = True)"
   ]
  },
  {
   "cell_type": "code",
   "execution_count": 137,
   "metadata": {},
   "outputs": [
    {
     "data": {
      "text/html": [
       "<div>\n",
       "<style scoped>\n",
       "    .dataframe tbody tr th:only-of-type {\n",
       "        vertical-align: middle;\n",
       "    }\n",
       "\n",
       "    .dataframe tbody tr th {\n",
       "        vertical-align: top;\n",
       "    }\n",
       "\n",
       "    .dataframe thead th {\n",
       "        text-align: right;\n",
       "    }\n",
       "</style>\n",
       "<table border=\"1\" class=\"dataframe\">\n",
       "  <thead>\n",
       "    <tr style=\"text-align: right;\">\n",
       "      <th></th>\n",
       "      <th>tx_start</th>\n",
       "      <th>transcript_id</th>\n",
       "      <th>tx_end</th>\n",
       "      <th>chr</th>\n",
       "      <th>gene_name</th>\n",
       "      <th>strand</th>\n",
       "      <th>gene_id</th>\n",
       "      <th>gene_biotype</th>\n",
       "      <th>tx_len</th>\n",
       "      <th>count_transcripts</th>\n",
       "      <th>sum_tx_len</th>\n",
       "    </tr>\n",
       "  </thead>\n",
       "  <tbody>\n",
       "    <tr>\n",
       "      <th>0</th>\n",
       "      <td>35721</td>\n",
       "      <td>ENST00000417324</td>\n",
       "      <td>36081</td>\n",
       "      <td>1</td>\n",
       "      <td>FAM138A</td>\n",
       "      <td>-</td>\n",
       "      <td>ENSG00000237613</td>\n",
       "      <td>protein_coding</td>\n",
       "      <td>360</td>\n",
       "      <td>1</td>\n",
       "      <td>360</td>\n",
       "    </tr>\n",
       "    <tr>\n",
       "      <th>1</th>\n",
       "      <td>69091</td>\n",
       "      <td>ENST00000335137</td>\n",
       "      <td>70008</td>\n",
       "      <td>1</td>\n",
       "      <td>OR4F5</td>\n",
       "      <td>+</td>\n",
       "      <td>ENSG00000186092</td>\n",
       "      <td>protein_coding</td>\n",
       "      <td>917</td>\n",
       "      <td>1</td>\n",
       "      <td>917</td>\n",
       "    </tr>\n",
       "    <tr>\n",
       "      <th>2</th>\n",
       "      <td>367640</td>\n",
       "      <td>ENST00000426406</td>\n",
       "      <td>368634</td>\n",
       "      <td>1</td>\n",
       "      <td>OR4F29</td>\n",
       "      <td>+</td>\n",
       "      <td>ENSG00000235249</td>\n",
       "      <td>protein_coding</td>\n",
       "      <td>994</td>\n",
       "      <td>1</td>\n",
       "      <td>994</td>\n",
       "    </tr>\n",
       "    <tr>\n",
       "      <th>3</th>\n",
       "      <td>621059</td>\n",
       "      <td>ENST00000332831</td>\n",
       "      <td>622053</td>\n",
       "      <td>1</td>\n",
       "      <td>OR4F16</td>\n",
       "      <td>-</td>\n",
       "      <td>ENSG00000185097</td>\n",
       "      <td>protein_coding</td>\n",
       "      <td>994</td>\n",
       "      <td>1</td>\n",
       "      <td>994</td>\n",
       "    </tr>\n",
       "    <tr>\n",
       "      <th>4</th>\n",
       "      <td>860260</td>\n",
       "      <td>ENST00000420190</td>\n",
       "      <td>874671</td>\n",
       "      <td>1</td>\n",
       "      <td>SAMD11</td>\n",
       "      <td>+</td>\n",
       "      <td>ENSG00000187634</td>\n",
       "      <td>protein_coding</td>\n",
       "      <td>14411</td>\n",
       "      <td>8</td>\n",
       "      <td>49471</td>\n",
       "    </tr>\n",
       "    <tr>\n",
       "      <th>5</th>\n",
       "      <td>860530</td>\n",
       "      <td>ENST00000437963</td>\n",
       "      <td>871173</td>\n",
       "      <td>1</td>\n",
       "      <td>SAMD11</td>\n",
       "      <td>+</td>\n",
       "      <td>ENSG00000187634</td>\n",
       "      <td>protein_coding</td>\n",
       "      <td>10643</td>\n",
       "      <td>8</td>\n",
       "      <td>49471</td>\n",
       "    </tr>\n",
       "    <tr>\n",
       "      <th>6</th>\n",
       "      <td>865692</td>\n",
       "      <td>ENST00000341065</td>\n",
       "      <td>879955</td>\n",
       "      <td>1</td>\n",
       "      <td>SAMD11</td>\n",
       "      <td>+</td>\n",
       "      <td>ENSG00000187634</td>\n",
       "      <td>protein_coding</td>\n",
       "      <td>14263</td>\n",
       "      <td>8</td>\n",
       "      <td>49471</td>\n",
       "    </tr>\n",
       "    <tr>\n",
       "      <th>7</th>\n",
       "      <td>874655</td>\n",
       "      <td>ENST00000455979</td>\n",
       "      <td>879639</td>\n",
       "      <td>1</td>\n",
       "      <td>SAMD11</td>\n",
       "      <td>+</td>\n",
       "      <td>ENSG00000187634</td>\n",
       "      <td>protein_coding</td>\n",
       "      <td>4984</td>\n",
       "      <td>8</td>\n",
       "      <td>49471</td>\n",
       "    </tr>\n",
       "    <tr>\n",
       "      <th>8</th>\n",
       "      <td>875726</td>\n",
       "      <td>ENST00000478729</td>\n",
       "      <td>877553</td>\n",
       "      <td>1</td>\n",
       "      <td>SAMD11</td>\n",
       "      <td>+</td>\n",
       "      <td>ENSG00000187634</td>\n",
       "      <td>protein_coding</td>\n",
       "      <td>1827</td>\n",
       "      <td>8</td>\n",
       "      <td>49471</td>\n",
       "    </tr>\n",
       "    <tr>\n",
       "      <th>9</th>\n",
       "      <td>876456</td>\n",
       "      <td>ENST00000474461</td>\n",
       "      <td>878374</td>\n",
       "      <td>1</td>\n",
       "      <td>SAMD11</td>\n",
       "      <td>+</td>\n",
       "      <td>ENSG00000187634</td>\n",
       "      <td>protein_coding</td>\n",
       "      <td>1918</td>\n",
       "      <td>8</td>\n",
       "      <td>49471</td>\n",
       "    </tr>\n",
       "  </tbody>\n",
       "</table>\n",
       "</div>"
      ],
      "text/plain": [
       "   tx_start    transcript_id  tx_end chr gene_name strand          gene_id  \\\n",
       "0     35721  ENST00000417324   36081   1   FAM138A      -  ENSG00000237613   \n",
       "1     69091  ENST00000335137   70008   1     OR4F5      +  ENSG00000186092   \n",
       "2    367640  ENST00000426406  368634   1    OR4F29      +  ENSG00000235249   \n",
       "3    621059  ENST00000332831  622053   1    OR4F16      -  ENSG00000185097   \n",
       "4    860260  ENST00000420190  874671   1    SAMD11      +  ENSG00000187634   \n",
       "5    860530  ENST00000437963  871173   1    SAMD11      +  ENSG00000187634   \n",
       "6    865692  ENST00000341065  879955   1    SAMD11      +  ENSG00000187634   \n",
       "7    874655  ENST00000455979  879639   1    SAMD11      +  ENSG00000187634   \n",
       "8    875726  ENST00000478729  877553   1    SAMD11      +  ENSG00000187634   \n",
       "9    876456  ENST00000474461  878374   1    SAMD11      +  ENSG00000187634   \n",
       "\n",
       "     gene_biotype  tx_len  count_transcripts  sum_tx_len  \n",
       "0  protein_coding     360                  1         360  \n",
       "1  protein_coding     917                  1         917  \n",
       "2  protein_coding     994                  1         994  \n",
       "3  protein_coding     994                  1         994  \n",
       "4  protein_coding   14411                  8       49471  \n",
       "5  protein_coding   10643                  8       49471  \n",
       "6  protein_coding   14263                  8       49471  \n",
       "7  protein_coding    4984                  8       49471  \n",
       "8  protein_coding    1827                  8       49471  \n",
       "9  protein_coding    1918                  8       49471  "
      ]
     },
     "execution_count": 137,
     "metadata": {},
     "output_type": "execute_result"
    }
   ],
   "source": [
    "transcripts_start_end_genes_coding.head(10)"
   ]
  },
  {
   "cell_type": "code",
   "execution_count": 138,
   "metadata": {},
   "outputs": [],
   "source": [
    "transcripts_start_end_genes_coding['tx_proportion'] = transcripts_start_end_genes_coding['tx_len'] / transcripts_start_end_genes_coding['sum_tx_len']"
   ]
  },
  {
   "cell_type": "code",
   "execution_count": 139,
   "metadata": {},
   "outputs": [],
   "source": [
    "transcripts_start_end_genes_coding.to_csv('../tables_output/transcripts_start_end_genes_coding.tsv', sep = '\\t', index = False)"
   ]
  },
  {
   "cell_type": "code",
   "execution_count": 140,
   "metadata": {},
   "outputs": [],
   "source": [
    "transcripts_coding_lst = transcripts_start_end_genes_coding['transcript_id'].unique"
   ]
  },
  {
   "cell_type": "code",
   "execution_count": 142,
   "metadata": {},
   "outputs": [],
   "source": [
    "ens69_gtf_coding = ens69_gtf[ens69_gtf['transcript_info'].str.contains('protein_coding')]"
   ]
  },
  {
   "cell_type": "code",
   "execution_count": 143,
   "metadata": {},
   "outputs": [],
   "source": [
    "ens69_gtf_coding.to_csv('../tables_output/ens69_gtf_protein_coding.tsv', sep = '\\t', index = False)"
   ]
  },
  {
   "cell_type": "code",
   "execution_count": null,
   "metadata": {},
   "outputs": [],
   "source": []
  }
 ],
 "metadata": {
  "kernelspec": {
   "display_name": "Python 3",
   "language": "python",
   "name": "python3"
  },
  "language_info": {
   "codemirror_mode": {
    "name": "ipython",
    "version": 3
   },
   "file_extension": ".py",
   "mimetype": "text/x-python",
   "name": "python",
   "nbconvert_exporter": "python",
   "pygments_lexer": "ipython3",
   "version": "3.6.3"
  }
 },
 "nbformat": 4,
 "nbformat_minor": 2
}
