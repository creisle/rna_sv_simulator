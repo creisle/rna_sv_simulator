{
 "cells": [
  {
   "cell_type": "code",
   "execution_count": 1,
   "metadata": {},
   "outputs": [],
   "source": [
    "import pandas as pd\n",
    "import numpy as np\n",
    "import os\n",
    "import sys\n",
    "import re\n",
    "\n",
    "import warnings\n",
    "warnings.filterwarnings('ignore')"
   ]
  },
  {
   "cell_type": "code",
   "execution_count": 8,
   "metadata": {},
   "outputs": [],
   "source": [
    "cosmic_GRCh37 = pd.read_table(\"../raw_data/CosmicCompleteGeneExpression_GRCh37.tsv\", sep = '\\t')"
   ]
  },
  {
   "cell_type": "code",
   "execution_count": 10,
   "metadata": {},
   "outputs": [],
   "source": [
    "ens69_gtf = pd.read_table(\"../raw_data/Homo_sapiens.GRCh37.69.gtf\", header = None, sep = '\\t')"
   ]
  },
  {
   "cell_type": "code",
   "execution_count": 11,
   "metadata": {},
   "outputs": [],
   "source": [
    "cosmic_GRCh37_median = cosmic_GRCh37.groupby('GENE_NAME')[['GENE_NAME', 'Z_SCORE']].median()"
   ]
  },
  {
   "cell_type": "code",
   "execution_count": 13,
   "metadata": {},
   "outputs": [],
   "source": [
    "cosmic_GRCh37_median['GENE_NAME'] = cosmic_GRCh37_median.index"
   ]
  },
  {
   "cell_type": "code",
   "execution_count": 15,
   "metadata": {},
   "outputs": [],
   "source": [
    "cosmic_GRCh37_median.to_csv('../tables_output/cosmic_tcga_median_Z_SCORE.tsv', sep = '\\t', index = False)"
   ]
  },
  {
   "cell_type": "code",
   "execution_count": 42,
   "metadata": {},
   "outputs": [],
   "source": [
    "cosmic_GRCh37_iqr = cosmic_GRCh37.groupby('GENE_NAME')[['GENE_NAME', 'Z_SCORE']].quantile([.25, .5, .75]).unstack()"
   ]
  },
  {
   "cell_type": "code",
   "execution_count": 44,
   "metadata": {},
   "outputs": [],
   "source": [
    "cosmic_GRCh37_iqr['GENE_NAME'] = cosmic_GRCh37_iqr.index"
   ]
  },
  {
   "cell_type": "code",
   "execution_count": 46,
   "metadata": {},
   "outputs": [
    {
     "data": {
      "text/plain": [
       "MultiIndex(levels=[['Z_SCORE', 'GENE_NAME'], [0.25, 0.5, 0.75, '']],\n",
       "           labels=[[0, 0, 0, 1], [0, 1, 2, 3]])"
      ]
     },
     "execution_count": 46,
     "metadata": {},
     "output_type": "execute_result"
    }
   ],
   "source": [
    "cosmic_GRCh37_iqr.columns"
   ]
  },
  {
   "cell_type": "code",
   "execution_count": 47,
   "metadata": {},
   "outputs": [],
   "source": [
    "cols = ['Q1', 'Q2', 'Q3', 'gene_name']"
   ]
  },
  {
   "cell_type": "code",
   "execution_count": 50,
   "metadata": {},
   "outputs": [],
   "source": [
    "cosmic_GRCh37_iqr.columns = cols\n",
    "cosmic_GRCh37_iqr = cosmic_GRCh37_iqr.reset_index(drop = True)"
   ]
  },
  {
   "cell_type": "code",
   "execution_count": 51,
   "metadata": {},
   "outputs": [
    {
     "data": {
      "text/html": [
       "<div>\n",
       "<style scoped>\n",
       "    .dataframe tbody tr th:only-of-type {\n",
       "        vertical-align: middle;\n",
       "    }\n",
       "\n",
       "    .dataframe tbody tr th {\n",
       "        vertical-align: top;\n",
       "    }\n",
       "\n",
       "    .dataframe thead th {\n",
       "        text-align: right;\n",
       "    }\n",
       "</style>\n",
       "<table border=\"1\" class=\"dataframe\">\n",
       "  <thead>\n",
       "    <tr style=\"text-align: right;\">\n",
       "      <th></th>\n",
       "      <th>Q1</th>\n",
       "      <th>Q2</th>\n",
       "      <th>Q3</th>\n",
       "      <th>gene_name</th>\n",
       "    </tr>\n",
       "  </thead>\n",
       "  <tbody>\n",
       "    <tr>\n",
       "      <th>0</th>\n",
       "      <td>-0.78100</td>\n",
       "      <td>-0.242</td>\n",
       "      <td>0.414</td>\n",
       "      <td>39340</td>\n",
       "    </tr>\n",
       "    <tr>\n",
       "      <th>1</th>\n",
       "      <td>-0.60125</td>\n",
       "      <td>-0.283</td>\n",
       "      <td>0.242</td>\n",
       "      <td>A1BG</td>\n",
       "    </tr>\n",
       "  </tbody>\n",
       "</table>\n",
       "</div>"
      ],
      "text/plain": [
       "        Q1     Q2     Q3 gene_name\n",
       "0 -0.78100 -0.242  0.414     39340\n",
       "1 -0.60125 -0.283  0.242      A1BG"
      ]
     },
     "execution_count": 51,
     "metadata": {},
     "output_type": "execute_result"
    }
   ],
   "source": [
    "cosmic_GRCh37_iqr.head(2)"
   ]
  },
  {
   "cell_type": "code",
   "execution_count": 55,
   "metadata": {},
   "outputs": [],
   "source": [
    "cosmic_GRCh37_iqr['IQR'] = cosmic_GRCh37_iqr['Q3'] - cosmic_GRCh37_iqr['Q1']\n",
    "cosmic_GRCh37_iqr['lower_1.5IQR'] = cosmic_GRCh37_iqr['Q1'] - 1.5*cosmic_GRCh37_iqr['IQR']\n",
    "cosmic_GRCh37_iqr['upper_1.5IQR'] = cosmic_GRCh37_iqr['Q3'] + 1.5*cosmic_GRCh37_iqr['IQR']"
   ]
  },
  {
   "cell_type": "code",
   "execution_count": 56,
   "metadata": {},
   "outputs": [],
   "source": [
    "cosmic_GRCh37_iqr.to_csv('../tables_output/cosmic_GRCh37_iqr.tsv', sep = '\\t', index = False)"
   ]
  },
  {
   "cell_type": "markdown",
   "metadata": {},
   "source": [
    "---"
   ]
  },
  {
   "cell_type": "code",
   "execution_count": 16,
   "metadata": {},
   "outputs": [],
   "source": [
    "cosmic_GRCh37_summary = cosmic_GRCh37.groupby('GENE_NAME')[['GENE_NAME', 'Z_SCORE']].describe()"
   ]
  },
  {
   "cell_type": "code",
   "execution_count": 19,
   "metadata": {},
   "outputs": [],
   "source": [
    "cosmic_GRCh37_summary['gene_name'] = cosmic_GRCh37_summary.index"
   ]
  },
  {
   "cell_type": "code",
   "execution_count": 22,
   "metadata": {},
   "outputs": [],
   "source": [
    "cosmic_GRCh37_summary = cosmic_GRCh37_summary.reset_index(drop = True)"
   ]
  },
  {
   "cell_type": "code",
   "execution_count": 35,
   "metadata": {},
   "outputs": [
    {
     "data": {
      "text/plain": [
       "Index(['count', 'mean', 'std', 'min', '25%', '50%', '75%', 'max', ''], dtype='object')"
      ]
     },
     "execution_count": 35,
     "metadata": {},
     "output_type": "execute_result"
    }
   ],
   "source": [
    "cosmic_GRCh37_summary.columns.droplevel()"
   ]
  },
  {
   "cell_type": "code",
   "execution_count": 36,
   "metadata": {},
   "outputs": [],
   "source": [
    "cols= ['count', 'mean', 'std', 'min', '25%', '50%', '75%', 'max', 'gene_name']"
   ]
  },
  {
   "cell_type": "code",
   "execution_count": 38,
   "metadata": {},
   "outputs": [
    {
     "data": {
      "text/plain": [
       "MultiIndex(levels=[['Z_SCORE', 'gene_name'], ['count', 'mean', 'std', 'min', '25%', '50%', '75%', 'max', '']],\n",
       "           labels=[[0, 0, 0, 0, 0, 0, 0, 0, 1], [0, 1, 2, 3, 4, 5, 6, 7, 8]])"
      ]
     },
     "execution_count": 38,
     "metadata": {},
     "output_type": "execute_result"
    }
   ],
   "source": [
    "cosmic_GRCh37_summary.columns"
   ]
  },
  {
   "cell_type": "code",
   "execution_count": 39,
   "metadata": {},
   "outputs": [],
   "source": [
    "cosmic_GRCh37_summary.columns = cols"
   ]
  },
  {
   "cell_type": "code",
   "execution_count": 40,
   "metadata": {},
   "outputs": [
    {
     "data": {
      "text/html": [
       "<div>\n",
       "<style scoped>\n",
       "    .dataframe tbody tr th:only-of-type {\n",
       "        vertical-align: middle;\n",
       "    }\n",
       "\n",
       "    .dataframe tbody tr th {\n",
       "        vertical-align: top;\n",
       "    }\n",
       "\n",
       "    .dataframe thead th {\n",
       "        text-align: right;\n",
       "    }\n",
       "</style>\n",
       "<table border=\"1\" class=\"dataframe\">\n",
       "  <thead>\n",
       "    <tr style=\"text-align: right;\">\n",
       "      <th></th>\n",
       "      <th>count</th>\n",
       "      <th>mean</th>\n",
       "      <th>std</th>\n",
       "      <th>min</th>\n",
       "      <th>25%</th>\n",
       "      <th>50%</th>\n",
       "      <th>75%</th>\n",
       "      <th>max</th>\n",
       "      <th>gene_name</th>\n",
       "    </tr>\n",
       "  </thead>\n",
       "  <tbody>\n",
       "    <tr>\n",
       "      <th>0</th>\n",
       "      <td>9144.0</td>\n",
       "      <td>-0.101561</td>\n",
       "      <td>1.197185</td>\n",
       "      <td>-6.089</td>\n",
       "      <td>-0.78100</td>\n",
       "      <td>-0.242</td>\n",
       "      <td>0.414</td>\n",
       "      <td>13.453</td>\n",
       "      <td>39340</td>\n",
       "    </tr>\n",
       "    <tr>\n",
       "      <th>1</th>\n",
       "      <td>9144.0</td>\n",
       "      <td>0.334597</td>\n",
       "      <td>25.622720</td>\n",
       "      <td>-1.570</td>\n",
       "      <td>-0.60125</td>\n",
       "      <td>-0.283</td>\n",
       "      <td>0.242</td>\n",
       "      <td>2444.419</td>\n",
       "      <td>A1BG</td>\n",
       "    </tr>\n",
       "  </tbody>\n",
       "</table>\n",
       "</div>"
      ],
      "text/plain": [
       "    count      mean        std    min      25%    50%    75%       max  \\\n",
       "0  9144.0 -0.101561   1.197185 -6.089 -0.78100 -0.242  0.414    13.453   \n",
       "1  9144.0  0.334597  25.622720 -1.570 -0.60125 -0.283  0.242  2444.419   \n",
       "\n",
       "  gene_name  \n",
       "0     39340  \n",
       "1      A1BG  "
      ]
     },
     "execution_count": 40,
     "metadata": {},
     "output_type": "execute_result"
    }
   ],
   "source": [
    "cosmic_GRCh37_summary.head(2)"
   ]
  },
  {
   "cell_type": "code",
   "execution_count": 41,
   "metadata": {},
   "outputs": [],
   "source": [
    "cosmic_GRCh37_summary.to_csv('../tables_output/cosmic_tcga_GRCh37_summary_stats.tsv', sep = '\\t', index = False)"
   ]
  },
  {
   "cell_type": "code",
   "execution_count": 60,
   "metadata": {},
   "outputs": [
    {
     "data": {
      "text/plain": [
       "(18236, 9)"
      ]
     },
     "execution_count": 60,
     "metadata": {},
     "output_type": "execute_result"
    }
   ],
   "source": [
    "cosmic_GRCh37_summary.shape"
   ]
  },
  {
   "cell_type": "code",
   "execution_count": 57,
   "metadata": {},
   "outputs": [],
   "source": [
    "cosmic_GRCh37_summary_full = pd.merge(cosmic_GRCh37_summary,cosmic_GRCh37_iqr, how = 'inner') "
   ]
  },
  {
   "cell_type": "code",
   "execution_count": 59,
   "metadata": {},
   "outputs": [
    {
     "data": {
      "text/plain": [
       "(18236, 15)"
      ]
     },
     "execution_count": 59,
     "metadata": {},
     "output_type": "execute_result"
    }
   ],
   "source": [
    "cosmic_GRCh37_summary_full.shape"
   ]
  },
  {
   "cell_type": "code",
   "execution_count": 61,
   "metadata": {},
   "outputs": [],
   "source": [
    "cosmic_GRCh37_summary_full.to_csv('../tables_output/cosmic_tcga_GRCh37_summary_stats_full.tsv', sep = '\\t', index = False)"
   ]
  },
  {
   "cell_type": "code",
   "execution_count": 70,
   "metadata": {},
   "outputs": [
    {
     "data": {
      "text/html": [
       "<div>\n",
       "<style scoped>\n",
       "    .dataframe tbody tr th:only-of-type {\n",
       "        vertical-align: middle;\n",
       "    }\n",
       "\n",
       "    .dataframe tbody tr th {\n",
       "        vertical-align: top;\n",
       "    }\n",
       "\n",
       "    .dataframe thead th {\n",
       "        text-align: right;\n",
       "    }\n",
       "</style>\n",
       "<table border=\"1\" class=\"dataframe\">\n",
       "  <thead>\n",
       "    <tr style=\"text-align: right;\">\n",
       "      <th></th>\n",
       "      <th>count</th>\n",
       "      <th>mean</th>\n",
       "      <th>std</th>\n",
       "      <th>min</th>\n",
       "      <th>25%</th>\n",
       "      <th>50%</th>\n",
       "      <th>75%</th>\n",
       "      <th>max</th>\n",
       "      <th>gene_name</th>\n",
       "      <th>Q1</th>\n",
       "      <th>Q2</th>\n",
       "      <th>Q3</th>\n",
       "      <th>IQR</th>\n",
       "      <th>lower_1.5IQR</th>\n",
       "      <th>upper_1.5IQR</th>\n",
       "    </tr>\n",
       "  </thead>\n",
       "  <tbody>\n",
       "    <tr>\n",
       "      <th>0</th>\n",
       "      <td>9144.0</td>\n",
       "      <td>-0.101561</td>\n",
       "      <td>1.197185</td>\n",
       "      <td>-6.089</td>\n",
       "      <td>-0.78100</td>\n",
       "      <td>-0.242</td>\n",
       "      <td>0.414</td>\n",
       "      <td>13.453</td>\n",
       "      <td>39340</td>\n",
       "      <td>-0.78100</td>\n",
       "      <td>-0.242</td>\n",
       "      <td>0.414</td>\n",
       "      <td>1.19500</td>\n",
       "      <td>-2.573500</td>\n",
       "      <td>2.206500</td>\n",
       "    </tr>\n",
       "    <tr>\n",
       "      <th>1</th>\n",
       "      <td>9144.0</td>\n",
       "      <td>0.334597</td>\n",
       "      <td>25.622720</td>\n",
       "      <td>-1.570</td>\n",
       "      <td>-0.60125</td>\n",
       "      <td>-0.283</td>\n",
       "      <td>0.242</td>\n",
       "      <td>2444.419</td>\n",
       "      <td>A1BG</td>\n",
       "      <td>-0.60125</td>\n",
       "      <td>-0.283</td>\n",
       "      <td>0.242</td>\n",
       "      <td>0.84325</td>\n",
       "      <td>-1.866125</td>\n",
       "      <td>1.506875</td>\n",
       "    </tr>\n",
       "  </tbody>\n",
       "</table>\n",
       "</div>"
      ],
      "text/plain": [
       "    count      mean        std    min      25%    50%    75%       max  \\\n",
       "0  9144.0 -0.101561   1.197185 -6.089 -0.78100 -0.242  0.414    13.453   \n",
       "1  9144.0  0.334597  25.622720 -1.570 -0.60125 -0.283  0.242  2444.419   \n",
       "\n",
       "  gene_name       Q1     Q2     Q3      IQR  lower_1.5IQR  upper_1.5IQR  \n",
       "0     39340 -0.78100 -0.242  0.414  1.19500     -2.573500      2.206500  \n",
       "1      A1BG -0.60125 -0.283  0.242  0.84325     -1.866125      1.506875  "
      ]
     },
     "execution_count": 70,
     "metadata": {},
     "output_type": "execute_result"
    }
   ],
   "source": [
    "cosmic_GRCh37_summary_full.head(2)"
   ]
  },
  {
   "cell_type": "markdown",
   "metadata": {},
   "source": [
    "## Transform Z_score so that they are positive "
   ]
  },
  {
   "cell_type": "code",
   "execution_count": 71,
   "metadata": {},
   "outputs": [
    {
     "data": {
      "text/plain": [
       "-1.1345"
      ]
     },
     "execution_count": 71,
     "metadata": {},
     "output_type": "execute_result"
    }
   ],
   "source": [
    "min_median_Z_SCORE = min(cosmic_GRCh37_summary_full['Q2'])\n",
    "min_median_Z_SCORE"
   ]
  },
  {
   "cell_type": "code",
   "execution_count": 73,
   "metadata": {},
   "outputs": [],
   "source": [
    "cosmic_GRCh37_summary_full['Q2_Z_positive'] = cosmic_GRCh37_summary_full['Q2'] - (min_median_Z_SCORE)"
   ]
  },
  {
   "cell_type": "code",
   "execution_count": 75,
   "metadata": {},
   "outputs": [
    {
     "data": {
      "text/plain": [
       "16883.783499999998"
      ]
     },
     "execution_count": 75,
     "metadata": {},
     "output_type": "execute_result"
    }
   ],
   "source": [
    "# Get Z_SCORE and normalize to it \n",
    "total_median_Z_SCORE = sum(cosmic_GRCh37_summary_full['Q2_Z_positive'])\n",
    "total_median_Z_SCORE"
   ]
  },
  {
   "cell_type": "code",
   "execution_count": 76,
   "metadata": {},
   "outputs": [],
   "source": [
    "cosmic_GRCh37_summary_full['proportion_Z_score'] = cosmic_GRCh37_summary_full['Q2_Z_positive'] / total_median_Z_SCORE"
   ]
  },
  {
   "cell_type": "code",
   "execution_count": 79,
   "metadata": {},
   "outputs": [
    {
     "data": {
      "text/html": [
       "<div>\n",
       "<style scoped>\n",
       "    .dataframe tbody tr th:only-of-type {\n",
       "        vertical-align: middle;\n",
       "    }\n",
       "\n",
       "    .dataframe tbody tr th {\n",
       "        vertical-align: top;\n",
       "    }\n",
       "\n",
       "    .dataframe thead th {\n",
       "        text-align: right;\n",
       "    }\n",
       "</style>\n",
       "<table border=\"1\" class=\"dataframe\">\n",
       "  <thead>\n",
       "    <tr style=\"text-align: right;\">\n",
       "      <th></th>\n",
       "      <th>count</th>\n",
       "      <th>mean</th>\n",
       "      <th>std</th>\n",
       "      <th>min</th>\n",
       "      <th>25%</th>\n",
       "      <th>50%</th>\n",
       "      <th>75%</th>\n",
       "      <th>max</th>\n",
       "      <th>gene_name</th>\n",
       "      <th>Q1</th>\n",
       "      <th>Q2</th>\n",
       "      <th>Q3</th>\n",
       "      <th>IQR</th>\n",
       "      <th>lower_1.5IQR</th>\n",
       "      <th>upper_1.5IQR</th>\n",
       "      <th>Q2_Z_positive</th>\n",
       "      <th>proportion_Z_score</th>\n",
       "    </tr>\n",
       "  </thead>\n",
       "  <tbody>\n",
       "    <tr>\n",
       "      <th>0</th>\n",
       "      <td>9144.0</td>\n",
       "      <td>-0.101561</td>\n",
       "      <td>1.197185</td>\n",
       "      <td>-6.089</td>\n",
       "      <td>-0.78100</td>\n",
       "      <td>-0.2420</td>\n",
       "      <td>0.41400</td>\n",
       "      <td>13.453</td>\n",
       "      <td>39340</td>\n",
       "      <td>-0.78100</td>\n",
       "      <td>-0.2420</td>\n",
       "      <td>0.41400</td>\n",
       "      <td>1.19500</td>\n",
       "      <td>-2.573500</td>\n",
       "      <td>2.206500</td>\n",
       "      <td>0.8925</td>\n",
       "      <td>0.000053</td>\n",
       "    </tr>\n",
       "    <tr>\n",
       "      <th>1</th>\n",
       "      <td>9144.0</td>\n",
       "      <td>0.334597</td>\n",
       "      <td>25.622720</td>\n",
       "      <td>-1.570</td>\n",
       "      <td>-0.60125</td>\n",
       "      <td>-0.2830</td>\n",
       "      <td>0.24200</td>\n",
       "      <td>2444.419</td>\n",
       "      <td>A1BG</td>\n",
       "      <td>-0.60125</td>\n",
       "      <td>-0.2830</td>\n",
       "      <td>0.24200</td>\n",
       "      <td>0.84325</td>\n",
       "      <td>-1.866125</td>\n",
       "      <td>1.506875</td>\n",
       "      <td>0.8515</td>\n",
       "      <td>0.000050</td>\n",
       "    </tr>\n",
       "    <tr>\n",
       "      <th>2</th>\n",
       "      <td>9144.0</td>\n",
       "      <td>0.201225</td>\n",
       "      <td>6.548947</td>\n",
       "      <td>-2.224</td>\n",
       "      <td>-0.26100</td>\n",
       "      <td>-0.2030</td>\n",
       "      <td>-0.09600</td>\n",
       "      <td>332.616</td>\n",
       "      <td>A1CF</td>\n",
       "      <td>-0.26100</td>\n",
       "      <td>-0.2030</td>\n",
       "      <td>-0.09600</td>\n",
       "      <td>0.16500</td>\n",
       "      <td>-0.508500</td>\n",
       "      <td>0.151500</td>\n",
       "      <td>0.9315</td>\n",
       "      <td>0.000055</td>\n",
       "    </tr>\n",
       "    <tr>\n",
       "      <th>3</th>\n",
       "      <td>9144.0</td>\n",
       "      <td>-0.078867</td>\n",
       "      <td>1.191187</td>\n",
       "      <td>-2.880</td>\n",
       "      <td>-0.76200</td>\n",
       "      <td>-0.3050</td>\n",
       "      <td>0.34225</td>\n",
       "      <td>33.196</td>\n",
       "      <td>A2LD1</td>\n",
       "      <td>-0.76200</td>\n",
       "      <td>-0.3050</td>\n",
       "      <td>0.34225</td>\n",
       "      <td>1.10425</td>\n",
       "      <td>-2.418375</td>\n",
       "      <td>1.998625</td>\n",
       "      <td>0.8295</td>\n",
       "      <td>0.000049</td>\n",
       "    </tr>\n",
       "    <tr>\n",
       "      <th>4</th>\n",
       "      <td>9144.0</td>\n",
       "      <td>-0.065317</td>\n",
       "      <td>1.012096</td>\n",
       "      <td>-2.209</td>\n",
       "      <td>-0.61900</td>\n",
       "      <td>-0.3155</td>\n",
       "      <td>0.20700</td>\n",
       "      <td>16.411</td>\n",
       "      <td>A2M</td>\n",
       "      <td>-0.61900</td>\n",
       "      <td>-0.3155</td>\n",
       "      <td>0.20700</td>\n",
       "      <td>0.82600</td>\n",
       "      <td>-1.858000</td>\n",
       "      <td>1.446000</td>\n",
       "      <td>0.8190</td>\n",
       "      <td>0.000049</td>\n",
       "    </tr>\n",
       "    <tr>\n",
       "      <th>5</th>\n",
       "      <td>9144.0</td>\n",
       "      <td>0.187292</td>\n",
       "      <td>13.502958</td>\n",
       "      <td>-0.960</td>\n",
       "      <td>-0.33700</td>\n",
       "      <td>-0.2050</td>\n",
       "      <td>-0.08500</td>\n",
       "      <td>1283.790</td>\n",
       "      <td>A2ML1</td>\n",
       "      <td>-0.33700</td>\n",
       "      <td>-0.2050</td>\n",
       "      <td>-0.08500</td>\n",
       "      <td>0.25200</td>\n",
       "      <td>-0.715000</td>\n",
       "      <td>0.293000</td>\n",
       "      <td>0.9295</td>\n",
       "      <td>0.000055</td>\n",
       "    </tr>\n",
       "    <tr>\n",
       "      <th>6</th>\n",
       "      <td>9144.0</td>\n",
       "      <td>-0.044697</td>\n",
       "      <td>1.109348</td>\n",
       "      <td>-2.423</td>\n",
       "      <td>-0.69200</td>\n",
       "      <td>-0.3270</td>\n",
       "      <td>0.27600</td>\n",
       "      <td>15.839</td>\n",
       "      <td>A4GALT</td>\n",
       "      <td>-0.69200</td>\n",
       "      <td>-0.3270</td>\n",
       "      <td>0.27600</td>\n",
       "      <td>0.96800</td>\n",
       "      <td>-2.144000</td>\n",
       "      <td>1.728000</td>\n",
       "      <td>0.8075</td>\n",
       "      <td>0.000048</td>\n",
       "    </tr>\n",
       "    <tr>\n",
       "      <th>7</th>\n",
       "      <td>9144.0</td>\n",
       "      <td>0.104914</td>\n",
       "      <td>5.252410</td>\n",
       "      <td>-0.884</td>\n",
       "      <td>-0.56400</td>\n",
       "      <td>-0.2525</td>\n",
       "      <td>0.15200</td>\n",
       "      <td>481.559</td>\n",
       "      <td>A4GNT</td>\n",
       "      <td>-0.56400</td>\n",
       "      <td>-0.2525</td>\n",
       "      <td>0.15200</td>\n",
       "      <td>0.71600</td>\n",
       "      <td>-1.638000</td>\n",
       "      <td>1.226000</td>\n",
       "      <td>0.8820</td>\n",
       "      <td>0.000052</td>\n",
       "    </tr>\n",
       "    <tr>\n",
       "      <th>8</th>\n",
       "      <td>9144.0</td>\n",
       "      <td>0.088571</td>\n",
       "      <td>1.214318</td>\n",
       "      <td>-3.357</td>\n",
       "      <td>-0.69625</td>\n",
       "      <td>-0.1115</td>\n",
       "      <td>0.65225</td>\n",
       "      <td>16.306</td>\n",
       "      <td>AAAS</td>\n",
       "      <td>-0.69625</td>\n",
       "      <td>-0.1115</td>\n",
       "      <td>0.65225</td>\n",
       "      <td>1.34850</td>\n",
       "      <td>-2.719000</td>\n",
       "      <td>2.675000</td>\n",
       "      <td>1.0230</td>\n",
       "      <td>0.000061</td>\n",
       "    </tr>\n",
       "    <tr>\n",
       "      <th>9</th>\n",
       "      <td>9144.0</td>\n",
       "      <td>0.012819</td>\n",
       "      <td>1.168298</td>\n",
       "      <td>-2.765</td>\n",
       "      <td>-0.67425</td>\n",
       "      <td>-0.2280</td>\n",
       "      <td>0.41000</td>\n",
       "      <td>25.542</td>\n",
       "      <td>AACS</td>\n",
       "      <td>-0.67425</td>\n",
       "      <td>-0.2280</td>\n",
       "      <td>0.41000</td>\n",
       "      <td>1.08425</td>\n",
       "      <td>-2.300625</td>\n",
       "      <td>2.036375</td>\n",
       "      <td>0.9065</td>\n",
       "      <td>0.000054</td>\n",
       "    </tr>\n",
       "  </tbody>\n",
       "</table>\n",
       "</div>"
      ],
      "text/plain": [
       "    count      mean        std    min      25%     50%      75%       max  \\\n",
       "0  9144.0 -0.101561   1.197185 -6.089 -0.78100 -0.2420  0.41400    13.453   \n",
       "1  9144.0  0.334597  25.622720 -1.570 -0.60125 -0.2830  0.24200  2444.419   \n",
       "2  9144.0  0.201225   6.548947 -2.224 -0.26100 -0.2030 -0.09600   332.616   \n",
       "3  9144.0 -0.078867   1.191187 -2.880 -0.76200 -0.3050  0.34225    33.196   \n",
       "4  9144.0 -0.065317   1.012096 -2.209 -0.61900 -0.3155  0.20700    16.411   \n",
       "5  9144.0  0.187292  13.502958 -0.960 -0.33700 -0.2050 -0.08500  1283.790   \n",
       "6  9144.0 -0.044697   1.109348 -2.423 -0.69200 -0.3270  0.27600    15.839   \n",
       "7  9144.0  0.104914   5.252410 -0.884 -0.56400 -0.2525  0.15200   481.559   \n",
       "8  9144.0  0.088571   1.214318 -3.357 -0.69625 -0.1115  0.65225    16.306   \n",
       "9  9144.0  0.012819   1.168298 -2.765 -0.67425 -0.2280  0.41000    25.542   \n",
       "\n",
       "  gene_name       Q1      Q2       Q3      IQR  lower_1.5IQR  upper_1.5IQR  \\\n",
       "0     39340 -0.78100 -0.2420  0.41400  1.19500     -2.573500      2.206500   \n",
       "1      A1BG -0.60125 -0.2830  0.24200  0.84325     -1.866125      1.506875   \n",
       "2      A1CF -0.26100 -0.2030 -0.09600  0.16500     -0.508500      0.151500   \n",
       "3     A2LD1 -0.76200 -0.3050  0.34225  1.10425     -2.418375      1.998625   \n",
       "4       A2M -0.61900 -0.3155  0.20700  0.82600     -1.858000      1.446000   \n",
       "5     A2ML1 -0.33700 -0.2050 -0.08500  0.25200     -0.715000      0.293000   \n",
       "6    A4GALT -0.69200 -0.3270  0.27600  0.96800     -2.144000      1.728000   \n",
       "7     A4GNT -0.56400 -0.2525  0.15200  0.71600     -1.638000      1.226000   \n",
       "8      AAAS -0.69625 -0.1115  0.65225  1.34850     -2.719000      2.675000   \n",
       "9      AACS -0.67425 -0.2280  0.41000  1.08425     -2.300625      2.036375   \n",
       "\n",
       "   Q2_Z_positive  proportion_Z_score  \n",
       "0         0.8925            0.000053  \n",
       "1         0.8515            0.000050  \n",
       "2         0.9315            0.000055  \n",
       "3         0.8295            0.000049  \n",
       "4         0.8190            0.000049  \n",
       "5         0.9295            0.000055  \n",
       "6         0.8075            0.000048  \n",
       "7         0.8820            0.000052  \n",
       "8         1.0230            0.000061  \n",
       "9         0.9065            0.000054  "
      ]
     },
     "execution_count": 79,
     "metadata": {},
     "output_type": "execute_result"
    }
   ],
   "source": [
    "cosmic_GRCh37_summary_full.head(10)"
   ]
  },
  {
   "cell_type": "code",
   "execution_count": 78,
   "metadata": {},
   "outputs": [],
   "source": [
    "cosmic_GRCh37_summary_full.to_csv('../tables_output/cosmic_tcga_GRCh37_summary_full_median_proportion.tsv', sep = '\\t', index = False)"
   ]
  },
  {
   "cell_type": "code",
   "execution_count": 80,
   "metadata": {},
   "outputs": [
    {
     "data": {
      "text/plain": [
       "1.0000000000000029"
      ]
     },
     "execution_count": 80,
     "metadata": {},
     "output_type": "execute_result"
    }
   ],
   "source": [
    "sum(cosmic_GRCh37_summary_full['proportion_Z_score'])"
   ]
  },
  {
   "cell_type": "code",
   "execution_count": null,
   "metadata": {},
   "outputs": [],
   "source": []
  }
 ],
 "metadata": {
  "kernelspec": {
   "display_name": "Python 3",
   "language": "python",
   "name": "python3"
  },
  "language_info": {
   "codemirror_mode": {
    "name": "ipython",
    "version": 3
   },
   "file_extension": ".py",
   "mimetype": "text/x-python",
   "name": "python",
   "nbconvert_exporter": "python",
   "pygments_lexer": "ipython3",
   "version": "3.6.3"
  }
 },
 "nbformat": 4,
 "nbformat_minor": 2
}
